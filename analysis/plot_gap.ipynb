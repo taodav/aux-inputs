{
 "cells": [
  {
   "cell_type": "code",
   "execution_count": 1,
   "id": "09f84778",
   "metadata": {},
   "outputs": [],
   "source": [
    "import numpy as np\n",
    "import matplotlib.pyplot as plt\n",
    "from pathlib import Path\n",
    "\n",
    "from definitions import ROOT_DIR\n",
    "from unc.utils import load_info"
   ]
  },
  {
   "cell_type": "code",
   "execution_count": null,
   "id": "339d350a",
   "metadata": {},
   "outputs": [],
   "source": [
    "size = 9\n",
    "fs_path = Path(ROOT_DIR, 'snapshot', 'results', 'fs', str(size))\n",
    "f_path = Path(ROOT_DIR, 'snapshot', 'results', 'f', str(size))\n",
    "fp_path = Path(ROOT_DIR, 'snapshot', 'results', 'fp', str(size))\n",
    "fpw_path = Path(ROOT_DIR, 'results', 'fpw', str(size))\n",
    "fsw_path = Path(ROOT_DIR, 'results', 'fsw', str(size))\n",
    "\n",
    "# fpm_path = Path(ROOT_DIR, 'snapshot', 'results', 'fpm', str(size))\n",
    "# fpv_path = Path(ROOT_DIR, 'snapshot', 'results', 'fpv', str(size))\n",
    "\n",
    "split_pr_by = [\"update_weight_interval\"]\n",
    "fp_colors = [ 'lightseagreen', 'lime', 'limegreen', 'forestgreen', 'darkgreen', 'darkolivegreen', ]\n",
    "fpm_colors = ['lightcoral', 'indianred', 'brown', 'maroon']\n",
    "fpv_colors = ['rebeccapurple']\n",
    "\n",
    "\n",
    "\n",
    "def moving_avg(x, mode='valid', w=100):\n",
    "    return np.convolve(x, np.ones(w), mode=mode) / w"
   ]
  }
 ],
 "metadata": {
  "kernelspec": {
   "display_name": "Python 3 (ipykernel)",
   "language": "python",
   "name": "python3"
  },
  "language_info": {
   "codemirror_mode": {
    "name": "ipython",
    "version": 3
   },
   "file_extension": ".py",
   "mimetype": "text/x-python",
   "name": "python",
   "nbconvert_exporter": "python",
   "pygments_lexer": "ipython3",
   "version": "3.8.10"
  }
 },
 "nbformat": 4,
 "nbformat_minor": 5
}
