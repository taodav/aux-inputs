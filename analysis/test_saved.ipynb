{
 "cells": [
  {
   "cell_type": "code",
   "execution_count": 18,
   "id": "7d7c0f54",
   "metadata": {},
   "outputs": [],
   "source": [
    "import torch\n",
    "from pathlib import Path\n",
    "\n",
    "from unc.agents import SarsaAgent\n",
    "from unc.eval import test_episodes\n",
    "from unc.envs import get_env\n",
    "from unc.utils import save_video\n",
    "\n",
    "from definitions import ROOT_DIR\n",
    "\n",
    "\n",
    "device = torch.device('cpu')"
   ]
  },
  {
   "cell_type": "code",
   "execution_count": 22,
   "id": "e8455b5d",
   "metadata": {},
   "outputs": [],
   "source": [
    "model_path = Path('/home/taodav/Documents/uncertainty/results/fpm/dd22d1fd353086530629892bebe5fac8_Tue Jul 27 17:03:48 2021.pth')\n",
    "agent = SarsaAgent.load(model_path, device)"
   ]
  },
  {
   "cell_type": "code",
   "execution_count": 23,
   "id": "208d3077",
   "metadata": {},
   "outputs": [
    {
     "name": "stderr",
     "output_type": "stream",
     "text": [
      "/home/taodav/Documents/uncertainty/venv/lib/python3.8/site-packages/gym/logger.py:30: UserWarning: \u001b[33mWARN: Box bound precision lowered by casting to float32\u001b[0m\n",
      "  warnings.warn(colorize('%s: %s'%('WARN', msg % args), 'yellow'))\n"
     ]
    }
   ],
   "source": [
    "args = agent.args\n",
    "test_env = get_env(args.seed,\n",
    "                    env_str=args.env,\n",
    "                    blur_prob=args.blur_prob,\n",
    "                    random_start=args.random_start,\n",
    "                    update_weight_interval=args.update_weight_interval,\n",
    "                    render=True)\n"
   ]
  },
  {
   "cell_type": "code",
   "execution_count": 24,
   "id": "c9112b77",
   "metadata": {},
   "outputs": [],
   "source": [
    "imgs, rews = test_episodes(agent, test_env, n_episodes=1, render=True, test_eps=0.1, max_episode_steps=100)"
   ]
  },
  {
   "cell_type": "code",
   "execution_count": 25,
   "id": "68b5cbff",
   "metadata": {},
   "outputs": [],
   "source": [
    "results_dir = Path(ROOT_DIR, 'results', args.env)\n",
    "vod_path = results_dir / 'test.mp4'\n",
    "if vod_path.is_file():\n",
    "    vod_path.unlink()\n",
    "save_video(imgs, vod_path)"
   ]
  },
  {
   "cell_type": "code",
   "execution_count": 17,
   "id": "909548a5",
   "metadata": {},
   "outputs": [
    {
     "data": {
      "text/plain": [
       "PosixPath('/home/taodav/Documents/uncertainty/results/fpm')"
      ]
     },
     "execution_count": 17,
     "metadata": {},
     "output_type": "execute_result"
    }
   ],
   "source": []
  }
 ],
 "metadata": {
  "kernelspec": {
   "display_name": "Python 3 (ipykernel)",
   "language": "python",
   "name": "python3"
  },
  "language_info": {
   "codemirror_mode": {
    "name": "ipython",
    "version": 3
   },
   "file_extension": ".py",
   "mimetype": "text/x-python",
   "name": "python",
   "nbconvert_exporter": "python",
   "pygments_lexer": "ipython3",
   "version": "3.8.10"
  }
 },
 "nbformat": 4,
 "nbformat_minor": 5
}
