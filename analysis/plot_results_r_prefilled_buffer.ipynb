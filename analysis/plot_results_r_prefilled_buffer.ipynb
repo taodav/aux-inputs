{
 "cells": [
  {
   "cell_type": "code",
   "execution_count": 1,
   "id": "a50ae8ab",
   "metadata": {},
   "outputs": [],
   "source": [
    "import numpy as np\n",
    "import matplotlib.pyplot as plt\n",
    "from pathlib import Path\n",
    "\n",
    "from definitions import ROOT_DIR\n",
    "from unc.utils import load_info"
   ]
  },
  {
   "cell_type": "code",
   "execution_count": 18,
   "id": "d1f35ee5",
   "metadata": {},
   "outputs": [],
   "source": [
    "rg_path = Path(ROOT_DIR, 'results', 'rg')\n",
    "rxg_path = Path(ROOT_DIR, 'results', 'rxg')\n",
    "rpg_path = Path(ROOT_DIR, 'results', 'rpg')\n",
    "rsg_path = Path(ROOT_DIR, 'results', 'rsg')\n",
    "\n",
    "split_by = ['buffer_size', 'algo']\n",
    "\n",
    "rg_color = 'black'\n",
    "rxg_color = 'purple'\n",
    "rsg_color = 'darkorange'\n",
    "rpg_color = 'forestgreen'\n",
    "\n",
    "\n",
    "def moving_avg(x, mode='valid', w=100):\n",
    "    return np.convolve(x, np.ones(w), mode=mode) / w"
   ]
  },
  {
   "cell_type": "code",
   "execution_count": 19,
   "id": "4c328264",
   "metadata": {},
   "outputs": [],
   "source": [
    "def get_discounted_returns(ep_lengths, ep_rews, discount=0.99, maxlen=1000):\n",
    "    assert ep_lengths.sum() == ep_rews.shape[0], f\"Incompatible lengths and rews - lengths: {ep_lengths.sum()}, rews shape[0]: {ep_rews.shape[0]}\"\n",
    "\n",
    "    discounted_returns = []\n",
    "    current_ep_disc_rew = 0\n",
    "    idx = 0\n",
    "    discounts = discount ** np.arange(maxlen)\n",
    "    \n",
    "    for ep_len in ep_lengths:\n",
    "        curr_ep_rews = ep_rews[idx:idx + ep_len]\n",
    "        current_ep_disc_rew = np.dot(curr_ep_rews, discounts[:ep_len])\n",
    "        idx += ep_len\n",
    "#         for i in range(ep_len):\n",
    "#             current_ep_disc_rew += ep_rews[idx] * (discount ** i)\n",
    "#             idx += 1\n",
    "        discounted_returns.append(current_ep_disc_rew.astype(np.float32))\n",
    "        current_ep_disc_rew = 0\n",
    "    discounted_returns = np.array(discounted_returns)\n",
    "    \n",
    "    assert discounted_returns.shape[0] == ep_lengths.shape[0]\n",
    "    \n",
    "    return discounted_returns"
   ]
  },
  {
   "cell_type": "code",
   "execution_count": null,
   "id": "a9caebba",
   "metadata": {},
   "outputs": [],
   "source": []
  },
  {
   "cell_type": "code",
   "execution_count": 20,
   "id": "8523b99a",
   "metadata": {},
   "outputs": [],
   "source": [
    "def process_dir(dir_path, w=100, split_by=None, discount=0.99):\n",
    "    if split_by is not None:\n",
    "        all_results = {}\n",
    "    else:\n",
    "        all_results = []\n",
    "        \n",
    "    for f in dir_path.iterdir():\n",
    "        info = load_info(f)\n",
    "        args = info['args'].item()\n",
    "        \n",
    "        # We only consider prefilled here\n",
    "        if args['p_prefilled'] == 0.:\n",
    "            continue\n",
    "        \n",
    "        result = get_discounted_returns(info['episode_length'], info['reward'], discount)\n",
    "\n",
    "        if split_by is not None:\n",
    "            hparams = tuple(args[s] for s in split_by)\n",
    "            split_by_tuple = tuple(split_by)\n",
    "            if split_by_tuple not in all_results:\n",
    "                all_results[split_by_tuple] = {}\n",
    "            \n",
    "            if hparams not in all_results[split_by_tuple]:\n",
    "                all_results[split_by_tuple][hparams] = []\n",
    "                \n",
    "            all_results[split_by_tuple][hparams].append((info['episode_length'], result))\n",
    "            \n",
    "        else:\n",
    "            all_results.append((info['episode_length'], result))\n",
    "            \n",
    "#     if split_by is not None:\n",
    "#         for k, v in all_results.items():\n",
    "#             for k1, v1 in v.items():\n",
    "#                 all_results[k][k1] = np.array(all_results[k][k1])\n",
    "#         data = all_results\n",
    "#     else:\n",
    "#         data = np.array(all_results)\n",
    "\n",
    "    \n",
    "    return all_results\n"
   ]
  },
  {
   "cell_type": "code",
   "execution_count": 21,
   "id": "de5c6a09",
   "metadata": {},
   "outputs": [],
   "source": [
    "discount = 0.99\n",
    "rg_data = process_dir(rg_path, split_by=split_by, discount=discount)\n",
    "rxg_data = process_dir(rxg_path, split_by=split_by, discount=discount)\n",
    "rpg_data = process_dir(rpg_path, split_by=split_by, discount=discount)\n",
    "rsg_data = process_dir(rsg_path, split_by=split_by, discount=discount)"
   ]
  },
  {
   "cell_type": "code",
   "execution_count": 22,
   "id": "b1270406",
   "metadata": {},
   "outputs": [],
   "source": [
    "# we average the discounted episodic rewards over the final 100 episodes.\n",
    "\n",
    "def get_eps_max_over(data, eps_max_over=100):\n",
    "    hparam_results = []\n",
    "    for args, all_dis_rew in data[tuple(split_by)].items():\n",
    "        final_max = np.mean([np.mean(dis_rew[-100:]) for length, dis_rew in all_dis_rew])\n",
    "        hparam_results.append((args, final_max))\n",
    "    return hparam_results\n"
   ]
  },
  {
   "cell_type": "code",
   "execution_count": 23,
   "id": "cfe84057",
   "metadata": {},
   "outputs": [],
   "source": [
    "eps_max_over = 100\n",
    "rg_max_over = get_eps_max_over(rg_data, eps_max_over)\n",
    "rxg_max_over = get_eps_max_over(rxg_data, eps_max_over)\n",
    "rpg_max_over = get_eps_max_over(rpg_data, eps_max_over)\n",
    "rsg_max_over = get_eps_max_over(rsg_data, eps_max_over)"
   ]
  },
  {
   "cell_type": "code",
   "execution_count": 24,
   "id": "45e273f9",
   "metadata": {},
   "outputs": [
    {
     "data": {
      "text/plain": [
       "(((10000, 'sarsa'), 11.351726046131535),\n",
       " ((100000, 'sarsa'), 15.56115201086564),\n",
       " ((20000, 'sarsa'), 30.389175507111986),\n",
       " ((20000, 'esarsa'), 42.22665785264854))"
      ]
     },
     "execution_count": 24,
     "metadata": {},
     "output_type": "execute_result"
    }
   ],
   "source": [
    "# Get the best hyperparams based on the final 100 episodes\n",
    "rg_best = sorted(rg_max_over, key=lambda x : x[1], reverse=True)[0]\n",
    "rxg_best = sorted(rxg_max_over, key=lambda x : x[1], reverse=True)[0]\n",
    "rpg_best = sorted(rpg_max_over, key=lambda x : x[1], reverse=True)[0]\n",
    "rsg_best = sorted(rsg_max_over, key=lambda x : x[1], reverse=True)[0]\n",
    "\n",
    "rg_best, rxg_best, rpg_best, rsg_best"
   ]
  },
  {
   "cell_type": "code",
   "execution_count": 25,
   "id": "cc66eeb6",
   "metadata": {},
   "outputs": [],
   "source": [
    "# Now we map our discounted episodic rewards back to steps. We assign the discounted reward achieved at the \n",
    "# end of and episode to each timestep within the episode\n",
    "\n",
    "\n",
    "def map_dis_rew_to_steps(data, w=1000):\n",
    "    all_seeds = []\n",
    "    for lengths, dis_rews in data:\n",
    "        current_seed = []\n",
    "        for length, dis_rew in zip(lengths, dis_rews):\n",
    "            current_seed.append(np.zeros(length) + dis_rew)\n",
    "        all_seeds.append(moving_avg(np.concatenate(current_seed)[:trunc], w=w))\n",
    "    return np.array(all_seeds)"
   ]
  },
  {
   "cell_type": "code",
   "execution_count": 26,
   "id": "5d466aa9",
   "metadata": {},
   "outputs": [],
   "source": [
    "trunc = int(5e5)\n",
    "\n",
    "rg_best_data = rg_data[tuple(split_by)][rg_best[0]]\n",
    "rxg_best_data = rxg_data[tuple(split_by)][rxg_best[0]]\n",
    "rpg_best_data = rpg_data[tuple(split_by)][rpg_best[0]]\n",
    "rsg_best_data = rsg_data[tuple(split_by)][rsg_best[0]]\n",
    "\n",
    "mapped_rg = map_dis_rew_to_steps(rg_best_data)\n",
    "mapped_rxg = map_dis_rew_to_steps(rxg_best_data)\n",
    "mapped_rpg = map_dis_rew_to_steps(rpg_best_data)\n",
    "mapped_rsg = map_dis_rew_to_steps(rsg_best_data)"
   ]
  },
  {
   "cell_type": "code",
   "execution_count": 27,
   "id": "7a5c4469",
   "metadata": {},
   "outputs": [],
   "source": [
    "all_data = [\n",
    "    ('Normal obs', mapped_rg, rg_color),\n",
    "    ('Ground-truth check obs', mapped_rxg, rxg_color),\n",
    "    ('PF obs', mapped_rpg, rpg_color),\n",
    "    ('Ground-truth position obs', mapped_rsg, rsg_color)\n",
    "]"
   ]
  },
  {
   "cell_type": "code",
   "execution_count": null,
   "id": "b2dee79b",
   "metadata": {
    "scrolled": true
   },
   "outputs": [],
   "source": []
  },
  {
   "cell_type": "code",
   "execution_count": 28,
   "id": "9d0cb1fa",
   "metadata": {},
   "outputs": [
    {
     "data": {
      "text/plain": [
       "<matplotlib.legend.Legend at 0x7f48747f73d0>"
      ]
     },
     "execution_count": 28,
     "metadata": {},
     "output_type": "execute_result"
    },
    {
     "data": {
      "image/png": "[encoded data removed]",
      "text/plain": [
       "<Figure size 432x288 with 1 Axes>"
      ]
     },
     "metadata": {
      "needs_background": "light"
     },
     "output_type": "display_data"
    }
   ],
   "source": [
    "x = np.arange(mapped_rg.shape[1])\n",
    "fig, ax = plt.figure(), plt.axes()\n",
    "\n",
    "\n",
    "for key, data, color in all_data:\n",
    "    means = data.mean(axis=0)\n",
    "    std_err = data.std(axis=0) / data.shape[0]\n",
    "\n",
    "    ax.plot(x, means, label=key, color=color)\n",
    "    plt.fill_between(x, means - std_err, means + std_err,\n",
    "                         color=color, alpha=0.2)\n",
    "\n",
    "ax.set_xlabel('Environment steps')\n",
    "ax.set_ylabel(f\"Discounted episodic returns\", rotation=0, labelpad=65)\n",
    "ax.set_title(f'Discounted episodic returns over environment steps (Prefilled ratio = 0.25)')\n",
    "plt.legend(bbox_to_anchor=(1.00, 1), loc='upper left')\n"
   ]
  },
  {
   "cell_type": "code",
   "execution_count": null,
   "id": "deff5e0e",
   "metadata": {},
   "outputs": [],
   "source": []
  }
 ],
 "metadata": {
  "kernelspec": {
   "display_name": "Python 3 (ipykernel)",
   "language": "python",
   "name": "python3"
  },
  "language_info": {
   "codemirror_mode": {
    "name": "ipython",
    "version": 3
   },
   "file_extension": ".py",
   "mimetype": "text/x-python",
   "name": "python",
   "nbconvert_exporter": "python",
   "pygments_lexer": "ipython3",
   "version": "3.8.11"
  }
 },
 "nbformat": 4,
 "nbformat_minor": 5
}
