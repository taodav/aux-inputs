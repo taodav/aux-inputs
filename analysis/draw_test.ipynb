{
 "cells": [
  {
   "cell_type": "code",
   "execution_count": 2,
   "id": "6c9e91d9",
   "metadata": {},
   "outputs": [],
   "source": [
    "import numpy as np\n",
    "import matplotlib.pyplot as plt"
   ]
  },
  {
   "cell_type": "code",
   "execution_count": 3,
   "id": "8e3c0f80",
   "metadata": {},
   "outputs": [],
   "source": [
    "size = 10\n"
   ]
  },
  {
   "cell_type": "code",
   "execution_count": 50,
   "id": "c4d27ada",
   "metadata": {},
   "outputs": [],
   "source": [
    "def west_facing_triangle(size: int) -> np.ndarray:\n",
    "    grid = np.zeros((size, size))\n",
    "    left_tri = np.ones_like(grid[:grid.shape[0] // 2, :])\n",
    "    bottom_half = np.triu(left_tri, k=size // 4 + 1)\n",
    "    top_half = np.flip(bottom_half, axis=0)\n",
    "    return np.concatenate((top_half, bottom_half), axis=0)\n",
    "\n",
    "def north_facing_triangle(size: int) -> np.ndarray:\n",
    "    west = west_facing_triangle(size)\n",
    "    return west.T\n",
    "\n",
    "def east_facing_triangle(size: int) -> np.ndarray:\n",
    "    return np.flip(west_facing_triangle(size), axis=1)\n",
    "\n",
    "def south_facing_triangle(size: int) -> np.ndarray:\n",
    "    return np.flip(north_facing_triangle(size), axis=0)"
   ]
  },
  {
   "cell_type": "code",
   "execution_count": 51,
   "id": "79ead73b",
   "metadata": {},
   "outputs": [
    {
     "data": {
      "text/plain": [
       "array([[1., 1., 1., 1., 1., 1., 1., 1., 1., 1.],\n",
       "       [1., 1., 1., 1., 1., 1., 1., 1., 1., 1.],\n",
       "       [1., 1., 1., 1., 1., 1., 1., 1., 1., 1.],\n",
       "       [0., 1., 1., 1., 1., 1., 1., 1., 1., 0.],\n",
       "       [0., 0., 1., 1., 1., 1., 1., 1., 0., 0.],\n",
       "       [0., 0., 0., 1., 1., 1., 1., 0., 0., 0.],\n",
       "       [0., 0., 0., 0., 1., 1., 0., 0., 0., 0.],\n",
       "       [0., 0., 0., 0., 0., 0., 0., 0., 0., 0.],\n",
       "       [0., 0., 0., 0., 0., 0., 0., 0., 0., 0.],\n",
       "       [0., 0., 0., 0., 0., 0., 0., 0., 0., 0.]])"
      ]
     },
     "execution_count": 51,
     "metadata": {},
     "output_type": "execute_result"
    }
   ],
   "source": [
    "south_facing_triangle(size)"
   ]
  },
  {
   "cell_type": "code",
   "execution_count": 34,
   "id": "beef5596",
   "metadata": {},
   "outputs": [
    {
     "data": {
      "text/plain": [
       "array([[0., 0., 0., 0., 0., 0., 0., 1., 1., 1.],\n",
       "       [0., 0., 0., 0., 0., 0., 1., 1., 1., 1.],\n",
       "       [0., 0., 0., 0., 0., 1., 1., 1., 1., 1.],\n",
       "       [0., 0., 0., 0., 1., 1., 1., 1., 1., 1.],\n",
       "       [0., 0., 0., 1., 1., 1., 1., 1., 1., 1.]])"
      ]
     },
     "execution_count": 34,
     "metadata": {},
     "output_type": "execute_result"
    }
   ],
   "source": [
    "top_half"
   ]
  },
  {
   "cell_type": "code",
   "execution_count": 14,
   "id": "712e26f9",
   "metadata": {},
   "outputs": [],
   "source": [
    "width = 2\n",
    "grid = np.zeros((size, size))\n",
    "left_tri = np.ones_like(grid[:grid.shape[0] // 2, :])\n",
    "bottom_half = np.triu(left_tri, k=size // 4 + 1)\n",
    "top_half = np.flip(bottom_half, axis=0)\n",
    "\n",
    "bs = np.triu(left_tri, k=size // 4 + 1 + width)\n",
    "ts = np.flip(bs, axis=0)\n",
    "smaller = np.concatenate((ts, bs), axis=0)\n",
    "larger = np.concatenate((top_half, bottom_half), axis=0)"
   ]
  },
  {
   "cell_type": "code",
   "execution_count": 42,
   "id": "4d23bdb4",
   "metadata": {},
   "outputs": [
    {
     "data": {
      "text/plain": [
       "array([[1., 0., 0., 0., 0., 0., 0., 0., 0., 1.],\n",
       "       [0., 1., 0., 0., 0., 0., 0., 0., 1., 0.],\n",
       "       [0., 0., 1., 0., 0., 0., 0., 1., 0., 0.],\n",
       "       [0., 0., 0., 1., 0., 0., 1., 0., 0., 0.],\n",
       "       [0., 0., 0., 0., 1., 1., 0., 0., 0., 0.],\n",
       "       [0., 0., 0., 0., 1., 1., 0., 0., 0., 0.],\n",
       "       [0., 0., 0., 1., 0., 0., 1., 0., 0., 0.],\n",
       "       [0., 0., 1., 0., 0., 0., 0., 1., 0., 0.],\n",
       "       [0., 1., 0., 0., 0., 0., 0., 0., 1., 0.],\n",
       "       [1., 0., 0., 0., 0., 0., 0., 0., 0., 1.]])"
      ]
     },
     "execution_count": 42,
     "metadata": {},
     "output_type": "execute_result"
    }
   ],
   "source": [
    "grid = np.zeros((size, size))\n",
    "indices = np.arange(size)\n",
    "grid[indices, indices] = 1\n",
    "rev_diag = np.flip(grid, axis=0)\n",
    "cross = np.maximum(grid, rev_diag)\n",
    "cross"
   ]
  },
  {
   "cell_type": "code",
   "execution_count": 35,
   "id": "fd1c3313",
   "metadata": {},
   "outputs": [],
   "source": [
    "up_tri = np.triu(grid)\n",
    "east = np.flip(up_tri, axis=0) * up_tri\n",
    "south = east.T\n",
    "west = np.flip(east, axis=1)\n",
    "north = np.flip(south, axis=0)"
   ]
  },
  {
   "cell_type": "code",
   "execution_count": 39,
   "id": "607622b3",
   "metadata": {},
   "outputs": [
    {
     "data": {
      "text/plain": [
       "array([[1., 1., 1., 1., 1., 1., 1., 1., 1., 1.],\n",
       "       [0., 1., 1., 1., 1., 1., 1., 1., 1., 0.],\n",
       "       [0., 0., 1., 1., 1., 1., 1., 1., 0., 0.],\n",
       "       [0., 0., 0., 1., 1., 1., 1., 0., 0., 0.],\n",
       "       [0., 0., 0., 0., 1., 1., 0., 0., 0., 0.],\n",
       "       [0., 0., 0., 0., 0., 0., 0., 0., 0., 0.],\n",
       "       [0., 0., 0., 0., 0., 0., 0., 0., 0., 0.],\n",
       "       [0., 0., 0., 0., 0., 0., 0., 0., 0., 0.],\n",
       "       [0., 0., 0., 0., 0., 0., 0., 0., 0., 0.],\n",
       "       [0., 0., 0., 0., 0., 0., 0., 0., 0., 0.]])"
      ]
     },
     "execution_count": 39,
     "metadata": {},
     "output_type": "execute_result"
    }
   ],
   "source": [
    "north"
   ]
  }
 ],
 "metadata": {
  "kernelspec": {
   "display_name": "Python 3 (ipykernel)",
   "language": "python",
   "name": "python3"
  },
  "language_info": {
   "codemirror_mode": {
    "name": "ipython",
    "version": 3
   },
   "file_extension": ".py",
   "mimetype": "text/x-python",
   "name": "python",
   "nbconvert_exporter": "python",
   "pygments_lexer": "ipython3",
   "version": "3.8.11"
  }
 },
 "nbformat": 4,
 "nbformat_minor": 5
}
