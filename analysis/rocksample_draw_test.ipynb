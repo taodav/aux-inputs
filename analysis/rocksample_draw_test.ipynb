{
 "cells": [
  {
   "cell_type": "code",
   "execution_count": 1,
   "id": "6e368188",
   "metadata": {},
   "outputs": [],
   "source": [
    "import numpy as np\n",
    "import matplotlib.pyplot as plt"
   ]
  },
  {
   "cell_type": "code",
   "execution_count": 2,
   "id": "1935900e",
   "metadata": {},
   "outputs": [],
   "source": [
    "grid_size = 10\n",
    "\n",
    "def create_circular_mask(h, w, center=None, radius=None):\n",
    "\n",
    "    if center is None: # use the middle of the image\n",
    "        center = (int(w/2), int(h/2))\n",
    "    if radius is None: # use the smallest distance between the center and image walls\n",
    "        radius = min(center[0], center[1], w-center[0], h-center[1])\n",
    "\n",
    "    Y, X = np.ogrid[:h, :w]\n",
    "    dist_from_center = np.sqrt((X - center[0])**2 + (Y-center[1])**2)\n",
    "\n",
    "    mask = dist_from_center <= radius\n",
    "    return mask"
   ]
  },
  {
   "cell_type": "code",
   "execution_count": 3,
   "id": "c7cce1c2",
   "metadata": {},
   "outputs": [],
   "source": [
    "def create_rectangle(h, w, thickness=2, length=None, width=None):\n",
    "    grid = np.zeros((h, w))\n",
    "    if length is None:\n",
    "        length = h - 2\n",
    "    if width is None:\n",
    "        width = w - 2\n",
    "        \n",
    "    assert h > length and w > width\n",
    "    h_space = (h - length) // 2\n",
    "    w_space = (w - width) // 2\n",
    "    \n",
    "    # East/West\n",
    "    w_range_pos = np.arange(thickness) + w_space\n",
    "    w_range = np.concatenate([w_range_pos, -(w_range_pos + 1)])\n",
    "    grid[h_space:-h_space, w_range] = 1\n",
    "\n",
    "    # North/South\n",
    "    h_range_pos = np.arange(thickness) + h_space\n",
    "    h_range = np.concatenate([h_range_pos, -(h_range_pos + 1)])\n",
    "    grid[h_range, w_space:-w_space] = 1\n",
    "    return grid"
   ]
  },
  {
   "cell_type": "code",
   "execution_count": 6,
   "id": "aeed43f0",
   "metadata": {},
   "outputs": [
    {
     "data": {
      "text/plain": [
       "array([[False, False, False, False, False, False, False, False, False,\n",
       "        False],\n",
       "       [False, False, False, False, False,  True, False, False, False,\n",
       "        False],\n",
       "       [False, False, False,  True,  True,  True,  True,  True, False,\n",
       "        False],\n",
       "       [False, False,  True,  True,  True, False,  True,  True,  True,\n",
       "        False],\n",
       "       [False, False,  True,  True, False, False, False,  True,  True,\n",
       "        False],\n",
       "       [False,  True,  True, False, False, False, False, False,  True,\n",
       "         True],\n",
       "       [False, False,  True,  True, False, False, False,  True,  True,\n",
       "        False],\n",
       "       [False, False,  True,  True,  True, False,  True,  True,  True,\n",
       "        False],\n",
       "       [False, False, False,  True,  True,  True,  True,  True, False,\n",
       "        False],\n",
       "       [False, False, False, False, False,  True, False, False, False,\n",
       "        False]])"
      ]
     },
     "execution_count": 6,
     "metadata": {},
     "output_type": "execute_result"
    }
   ],
   "source": [
    "h, w = grid_size, grid_size\n",
    "thickness = 2\n",
    "length, width = grid_size - 2, grid_size - 2\n",
    "\n",
    "# grid = create_rectangle(h, w, length=length, width=width)\n",
    "grid = create_circular_mask(h, w, radius=length // 2)\n",
    "grid_inner = create_circular_mask(h, w, radius=(length // 2 - 2))\n",
    "np.bitwise_xor(grid, grid_inner)"
   ]
  },
  {
   "cell_type": "code",
   "execution_count": null,
   "id": "abeab413",
   "metadata": {},
   "outputs": [],
   "source": []
  }
 ],
 "metadata": {
  "kernelspec": {
   "display_name": "Python 3 (ipykernel)",
   "language": "python",
   "name": "python3"
  },
  "language_info": {
   "codemirror_mode": {
    "name": "ipython",
    "version": 3
   },
   "file_extension": ".py",
   "mimetype": "text/x-python",
   "name": "python",
   "nbconvert_exporter": "python",
   "pygments_lexer": "ipython3",
   "version": "3.8.11"
  }
 },
 "nbformat": 4,
 "nbformat_minor": 5
}
