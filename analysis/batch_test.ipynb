{
 "cells": [
  {
   "cell_type": "code",
   "execution_count": 1,
   "id": "c128270e",
   "metadata": {},
   "outputs": [],
   "source": [
    "import numpy as np"
   ]
  },
  {
   "cell_type": "code",
   "execution_count": 72,
   "id": "85631644",
   "metadata": {},
   "outputs": [],
   "source": [
    "size = 9\n",
    "states = np.array([[1, 3, 0], [4, size - 2, 1], [size - 2, 3, 2], [2, 1, 3], [3, 3, 2], [4, 4, 0], [1, 1, 3], [2, 4, 0]])\n",
    "actions = np.array([0, 1, 2, 0, 1, 2, 1, 0])\n",
    "direction_mapping = np.array([[-1, 0], [0, 1], [1, 0], [0, -1]], dtype=np.int16)\n",
    "state_max = [size - 2, size - 2, 3]\n",
    "state_min = [1, 1, 0]"
   ]
  },
  {
   "cell_type": "code",
   "execution_count": 73,
   "id": "183fe28a",
   "metadata": {},
   "outputs": [
    {
     "data": {
      "text/plain": [
       "8"
      ]
     },
     "execution_count": 73,
     "metadata": {},
     "output_type": "execute_result"
    }
   ],
   "source": [
    "states.shape[0]"
   ]
  },
  {
   "cell_type": "code",
   "execution_count": 74,
   "id": "8f7a2ddc",
   "metadata": {},
   "outputs": [],
   "source": [
    "\n",
    "north_facing = states[states[:, 2] == 0]\n",
    "north_wall_facing = north_facing"
   ]
  },
  {
   "cell_type": "code",
   "execution_count": 75,
   "id": "bf876a8f",
   "metadata": {},
   "outputs": [
    {
     "data": {
      "text/plain": [
       "array([[[2, 1, 3]]])"
      ]
     },
     "execution_count": 75,
     "metadata": {},
     "output_type": "execute_result"
    }
   ],
   "source": [
    "# Batch observation function\n",
    "north_facing_idxes = np.argwhere(states[:, 2] == 0)[:, 0]\n",
    "relative_n_facing_wall_idxes = np.argwhere(states[north_facing_idxes][:, 0] == 1)[:, 0]\n",
    "north_facing_wall_idxes = north_facing_idxes[relative_n_facing_wall_idxes]\n",
    "\n",
    "east_facing_idxes = np.argwhere(states[:, 2] == 1)[:, 0]\n",
    "relative_e_facing_wall_idxes = np.argwhere(states[east_facing_idxes][:, 1] == size - 2)[:, 0]\n",
    "east_facing_wall_idxes = east_facing_idxes[relative_e_facing_wall_idxes]\n",
    "\n",
    "south_facing_idxes = np.argwhere(states[:, 2] == 2)[:, 0]\n",
    "relative_s_facing_wall_idxes = np.argwhere(states[south_facing_idxes][:, 0] == size - 2)[:, 0]\n",
    "south_facing_wall_idxes = south_facing_idxes[relative_s_facing_wall_idxes]\n",
    "\n",
    "west_facing_idxes = np.argwhere(states[:, 2] == 3)[:, 0]\n",
    "relative_w_facing_wall_idxes = np.argwhere(states[west_facing_idxes][:, 1] == 1)[:, 0]\n",
    "west_facing_wall_idxes = west_facing_idxes[relative_w_facing_wall_idxes]\n",
    "\n",
    "relative_w_facing_green_idxes = np.argwhere(states[west_facing_wall_idxes][:, 0] == 1)\n",
    "relative_w_facing_blue_idxes = np.argwhere(states[west_facing_wall_idxes][:, 0] != 1)\n",
    "green_facing_wall_idxes = west_facing_wall_idxes[relative_w_facing_green_idxes]\n",
    "blue_facing_wall_idxes = west_facing_wall_idxes[relative_w_facing_blue_idxes]\n",
    "\n",
    "states[blue_facing_wall_idxes]"
   ]
  },
  {
   "cell_type": "code",
   "execution_count": 77,
   "id": "49ac8754",
   "metadata": {},
   "outputs": [],
   "source": [
    "# Batch transition function\n",
    "full_direction_mapping = np.concatenate((direction_mapping, np.zeros(direction_mapping.shape[0], dtype=np.int16)[:, np.newaxis]), axis=-1)\n",
    "\n",
    "directions = np.arange(4)\n",
    "next_states = states.copy()\n",
    "\n",
    "forward_states = np.argwhere((actions == 0))[:, 0]\n",
    "\n",
    "def forward(states: np.ndarray, f_states: np.ndarray, direction: int) -> np.ndarray:\n",
    "    relative_d_forward_states = np.argwhere(states[f_states][:, 2] == direction)\n",
    "    d_forward_states = forward_states[relative_d_forward_states][:, 0]\n",
    "    return d_forward_states\n",
    "\n",
    "for d in directions:\n",
    "    d_forward_states = forward(states, forward_states, d)\n",
    "    next_states[d_forward_states] += full_direction_mapping[d]\n",
    "\n",
    "right_states = np.argwhere((actions == 1))[:, 0]\n",
    "next_right_states = next_states[right_states]\n",
    "next_right_states[:, 2] = (states[right_states][:, 2] + 1) % 4\n",
    "next_states[right_states] = next_right_states\n",
    "\n",
    "left_states = np.argwhere((actions == 2))[:, 0]\n",
    "next_left_states = next_states[left_states]\n",
    "next_left_states[:, 2] = (states[left_states][:, 2] - 1) % 4\n",
    "next_states[left_states] = next_left_states\n",
    "\n"
   ]
  },
  {
   "cell_type": "code",
   "execution_count": 94,
   "id": "bb473b25",
   "metadata": {},
   "outputs": [],
   "source": [
    "right_states = np.argwhere((actions == 1))[:, 0]\n",
    "next_right_states = next_states[right_states]\n",
    "next_right_states[:, 2] = (states[right_states][:, 2] + 1) % 4\n",
    "next_states[right_states] = next_right_states"
   ]
  },
  {
   "cell_type": "code",
   "execution_count": 95,
   "id": "be056f85",
   "metadata": {},
   "outputs": [
    {
     "data": {
      "text/plain": [
       "(array([[4, 7, 2],\n",
       "        [3, 3, 3],\n",
       "        [1, 1, 0]]),\n",
       " array([[4, 7, 1],\n",
       "        [3, 3, 2],\n",
       "        [1, 1, 3]]))"
      ]
     },
     "execution_count": 95,
     "metadata": {},
     "output_type": "execute_result"
    }
   ],
   "source": [
    "left_states = np.argwhere((actions == 2))[:, 0]\n",
    "next_left_states = next_states[left_states]\n",
    "next_left_states[:, 2] = (states[left_states][:, 2] - 1) % 4\n",
    "next_states[left_states] = next_left_states"
   ]
  },
  {
   "cell_type": "code",
   "execution_count": 99,
   "id": "394897e4",
   "metadata": {},
   "outputs": [
    {
     "data": {
      "text/plain": [
       "array([[1, 3, 0],\n",
       "       [4, 7, 2],\n",
       "       [7, 3, 2],\n",
       "       [2, 1, 3],\n",
       "       [3, 3, 3],\n",
       "       [4, 4, 0],\n",
       "       [1, 1, 0],\n",
       "       [1, 4, 0]])"
      ]
     },
     "execution_count": 99,
     "metadata": {},
     "output_type": "execute_result"
    }
   ],
   "source": [
    "np.maximum(np.minimum(next_states, state_max), state_min)"
   ]
  },
  {
   "cell_type": "code",
   "execution_count": 102,
   "id": "da00267d",
   "metadata": {},
   "outputs": [],
   "source": [
    "a = np.array([[1, 2], [3, 2]])\n",
    "b = np.array([3, 2])"
   ]
  },
  {
   "cell_type": "code",
   "execution_count": 104,
   "id": "0d488f60",
   "metadata": {},
   "outputs": [
    {
     "data": {
      "text/plain": [
       "array([False,  True])"
      ]
     },
     "execution_count": 104,
     "metadata": {},
     "output_type": "execute_result"
    }
   ],
   "source": [
    "(a == b).min(axis=-1)"
   ]
  },
  {
   "cell_type": "code",
   "execution_count": 8,
   "id": "b4b48aae",
   "metadata": {},
   "outputs": [
    {
     "data": {
      "text/plain": [
       "array([[1., 0., 0., 0., 0.],\n",
       "       [0., 1., 0., 0., 0.],\n",
       "       [0., 0., 1., 0., 0.],\n",
       "       [0., 0., 0., 1., 0.],\n",
       "       [0., 0., 0., 0., 1.],\n",
       "       [0., 0., 0., 0., 0.]])"
      ]
     },
     "execution_count": 8,
     "metadata": {},
     "output_type": "execute_result"
    }
   ],
   "source": [
    "np.concatenate((np.eye(5), np.zeros((1, 5))), axis=0)"
   ]
  }
 ],
 "metadata": {
  "kernelspec": {
   "display_name": "Python 3 (ipykernel)",
   "language": "python",
   "name": "python3"
  },
  "language_info": {
   "codemirror_mode": {
    "name": "ipython",
    "version": 3
   },
   "file_extension": ".py",
   "mimetype": "text/x-python",
   "name": "python",
   "nbconvert_exporter": "python",
   "pygments_lexer": "ipython3",
   "version": "3.8.10"
  }
 },
 "nbformat": 4,
 "nbformat_minor": 5
}
