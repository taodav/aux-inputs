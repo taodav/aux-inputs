{
 "cells": [
  {
   "cell_type": "code",
   "execution_count": 1,
   "id": "8aaf4c2b",
   "metadata": {},
   "outputs": [],
   "source": [
    "import numpy as np"
   ]
  },
  {
   "cell_type": "code",
   "execution_count": 4,
   "id": "e41adaa2",
   "metadata": {},
   "outputs": [],
   "source": [
    "# emit function batch-ification\n",
    "obs = np.array([0, 0, 0, 1, 0])\n",
    "obs1 = np.array([0, 0, 0, 0, 1])\n",
    "obs2 = np.array([0, 0, 0, 0, 0])\n",
    "\n",
    "bobs = np.stack([obs, obs1, obs2])\n",
    "bobs1 = np.stack([obs, obs1, obs2])\n",
    "bobs2 = np.stack([obs1, obs1, obs1])"
   ]
  },
  {
   "cell_type": "code",
   "execution_count": 8,
   "id": "389cc75d",
   "metadata": {},
   "outputs": [
    {
     "data": {
      "text/plain": [
       "array([False,  True, False])"
      ]
     },
     "execution_count": 8,
     "metadata": {},
     "output_type": "execute_result"
    }
   ],
   "source": [
    "np.min((bobs == bobs2), axis=-1)"
   ]
  },
  {
   "cell_type": "code",
   "execution_count": null,
   "id": "c66746a2",
   "metadata": {},
   "outputs": [],
   "source": [
    "# Here we try and do batch transitions\n",
    "bstate = np.array([\n",
    "    [1, 1, 2],\n",
    "    [1, 2, 3],\n",
    "    [5, 5, 1]\n",
    "])\n",
    "baction = np.array([0, 1, 2])"
   ]
  }
 ],
 "metadata": {
  "kernelspec": {
   "display_name": "Python 3 (ipykernel)",
   "language": "python",
   "name": "python3"
  },
  "language_info": {
   "codemirror_mode": {
    "name": "ipython",
    "version": 3
   },
   "file_extension": ".py",
   "mimetype": "text/x-python",
   "name": "python",
   "nbconvert_exporter": "python",
   "pygments_lexer": "ipython3",
   "version": "3.8.10"
  }
 },
 "nbformat": 4,
 "nbformat_minor": 5
}
