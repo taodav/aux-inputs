{
 "cells": [
  {
   "cell_type": "code",
   "execution_count": 2,
   "id": "a50ae8ab",
   "metadata": {},
   "outputs": [],
   "source": [
    "import numpy as np\n",
    "import matplotlib.pyplot as plt\n",
    "from pathlib import Path\n",
    "from tqdm.notebook import tqdm\n",
    "from collections import namedtuple\n",
    "\n",
    "from definitions import ROOT_DIR\n",
    "from unc.utils import load_info"
   ]
  },
  {
   "cell_type": "code",
   "execution_count": 25,
   "id": "d1f35ee5",
   "metadata": {},
   "outputs": [],
   "source": [
    "rg_path = Path(ROOT_DIR, 'results', 'rg')\n",
    "rxg_path = Path(ROOT_DIR, 'results', 'rxg')\n",
    "rpg_path = Path(ROOT_DIR, 'results', 'rpg')\n",
    "rsg_path = Path(ROOT_DIR, 'results', 'rsg')\n",
    "\n",
    "split_by = ['buffer_size', 'step_size', 'algo']\n",
    "Args = namedtuple('args', split_by)\n",
    "\n",
    "rg_color = 'black'\n",
    "rxg_color = 'purple'\n",
    "rsg_color = 'darkorange'\n",
    "rpg_color = 'forestgreen'\n",
    "\n",
    "\n",
    "def moving_avg(x, mode='valid', w=100):\n",
    "    return np.convolve(x, np.ones(w), mode=mode) / w"
   ]
  },
  {
   "cell_type": "code",
   "execution_count": 29,
   "id": "e432d3a7",
   "metadata": {},
   "outputs": [
    {
     "data": {
      "application/vnd.jupyter.widget-view+json": {
       "model_id": "a398478866114927b726a364c2b5ac2a",
       "version_major": 2,
       "version_minor": 0
      },
      "text/plain": [
       "0it [00:00, ?it/s]"
      ]
     },
     "metadata": {},
     "output_type": "display_data"
    },
    {
     "data": {
      "application/vnd.jupyter.widget-view+json": {
       "model_id": "574799b518aa4b4983c110801f668b6d",
       "version_major": 2,
       "version_minor": 0
      },
      "text/plain": [
       "0it [00:00, ?it/s]"
      ]
     },
     "metadata": {},
     "output_type": "display_data"
    }
   ],
   "source": [
    "rsg_infos = [load_info(f) for f in tqdm(rsg_path.iterdir())]\n",
    "rpg_infos = [load_info(f) for f in tqdm(rpg_path.iterdir())]"
   ]
  },
  {
   "cell_type": "code",
   "execution_count": null,
   "id": "c8581031",
   "metadata": {},
   "outputs": [],
   "source": []
  },
  {
   "cell_type": "code",
   "execution_count": 26,
   "id": "4c328264",
   "metadata": {},
   "outputs": [],
   "source": [
    "def get_discounted_returns(ep_lengths, ep_rews, discount=0.99):\n",
    "    assert ep_lengths.sum() == ep_rews.shape[0]\n",
    "\n",
    "    discounted_returns = []\n",
    "    current_ep_disc_rew = 0\n",
    "    idx = 0\n",
    "\n",
    "    for ep_len in ep_lengths:\n",
    "        for i in range(ep_len):\n",
    "            current_ep_disc_rew += ep_rews[idx] * (discount ** i)\n",
    "            idx += 1\n",
    "        discounted_returns.append(current_ep_disc_rew)\n",
    "        current_ep_disc_rew = 0\n",
    "    discounted_returns = np.array(discounted_returns)\n",
    "    \n",
    "    assert discounted_returns.shape[0] == ep_lengths.shape[0]\n",
    "    \n",
    "    return discounted_returns"
   ]
  },
  {
   "cell_type": "code",
   "execution_count": 27,
   "id": "8523b99a",
   "metadata": {},
   "outputs": [],
   "source": [
    "def process_dir(dir_path, w=100, split_by=None, discount=0.99):\n",
    "    if split_by is not None:\n",
    "        all_results = {}\n",
    "    else:\n",
    "        all_results = []\n",
    "        \n",
    "    for f in tqdm(list(dir_path.iterdir())):\n",
    "        info = load_info(f)\n",
    "        args = info['args'].item()\n",
    "        \n",
    "        result = get_discounted_returns(info['episode_length'], info['reward'], discount)\n",
    "\n",
    "        if split_by is not None:\n",
    "            hparams = Args(*tuple(args[s] for s in split_by))\n",
    "            \n",
    "            if hparams not in all_results:\n",
    "                all_results[hparams] = []\n",
    "                \n",
    "            all_results[hparams].append((info['episode_length'], result))\n",
    "            \n",
    "        else:\n",
    "            all_results.append((info['episode_length'], result))\n",
    "            \n",
    "#     if split_by is not None:\n",
    "#         for k, v in all_results.items():\n",
    "#             for k1, v1 in v.items():\n",
    "#                 all_results[k][k1] = np.array(all_results[k][k1])\n",
    "#         data = all_results\n",
    "#     else:\n",
    "#         data = np.array(all_results)\n",
    "\n",
    "    \n",
    "    return all_results\n"
   ]
  },
  {
   "cell_type": "code",
   "execution_count": null,
   "id": "de5c6a09",
   "metadata": {},
   "outputs": [
    {
     "data": {
      "application/vnd.jupyter.widget-view+json": {
       "model_id": "80d27f6948bd4a10bac8c449f9b19ae4",
       "version_major": 2,
       "version_minor": 0
      },
      "text/plain": [
       "  0%|          | 0/180 [00:00<?, ?it/s]"
      ]
     },
     "metadata": {},
     "output_type": "display_data"
    },
    {
     "data": {
      "application/vnd.jupyter.widget-view+json": {
       "model_id": "568391c342764ed3bbe9272bf426d5e7",
       "version_major": 2,
       "version_minor": 0
      },
      "text/plain": [
       "  0%|          | 0/180 [00:00<?, ?it/s]"
      ]
     },
     "metadata": {},
     "output_type": "display_data"
    },
    {
     "data": {
      "application/vnd.jupyter.widget-view+json": {
       "model_id": "a63d8344569a4d359ac32d47c0e01f49",
       "version_major": 2,
       "version_minor": 0
      },
      "text/plain": [
       "  0%|          | 0/180 [00:00<?, ?it/s]"
      ]
     },
     "metadata": {},
     "output_type": "display_data"
    }
   ],
   "source": [
    "discount = 0.99\n",
    "rg_data = process_dir(rg_path, split_by=split_by, discount=discount)\n",
    "rxg_data = process_dir(rxg_path, split_by=split_by, discount=discount)\n",
    "rpg_data = process_dir(rpg_path, split_by=split_by, discount=discount)\n",
    "rsg_data = process_dir(rsg_path, split_by=split_by, discount=discount)"
   ]
  },
  {
   "cell_type": "code",
   "execution_count": null,
   "id": "1a97a3d1",
   "metadata": {},
   "outputs": [],
   "source": []
  },
  {
   "cell_type": "code",
   "execution_count": 7,
   "id": "b1270406",
   "metadata": {},
   "outputs": [],
   "source": [
    "# we average the discounted episodic rewards over the final 100 episodes.\n",
    "\n",
    "def get_eps_max_over(data, eps_max_over=100):\n",
    "    hparam_results = []\n",
    "    for args, all_dis_rew in data.items():\n",
    "        final_max = np.mean([np.mean(dis_rew[-100:]) for length, dis_rew in all_dis_rew])\n",
    "        hparam_results.append((args, final_max))\n",
    "    return hparam_results\n"
   ]
  },
  {
   "cell_type": "code",
   "execution_count": 10,
   "id": "cfe84057",
   "metadata": {},
   "outputs": [],
   "source": [
    "eps_max_over = 100\n",
    "rg_max_over = get_eps_max_over(rg_data, eps_max_over)\n",
    "rxg_max_over = get_eps_max_over(rxg_data, eps_max_over)\n",
    "rpg_max_over = get_eps_max_over(rpg_data, eps_max_over)\n",
    "rsg_max_over = get_eps_max_over(rsg_data, eps_max_over)"
   ]
  },
  {
   "cell_type": "code",
   "execution_count": null,
   "id": "0396d16b",
   "metadata": {},
   "outputs": [],
   "source": []
  },
  {
   "cell_type": "code",
   "execution_count": 12,
   "id": "45e273f9",
   "metadata": {},
   "outputs": [
    {
     "data": {
      "text/plain": [
       "((args(buffer_size=100000, step_size=0.0001, algo='sarsa'), 9.98069389677821),\n",
       " (args(buffer_size=100000, step_size=0.0001, algo='sarsa'),\n",
       "  12.173340024340781),\n",
       " (args(buffer_size=100000, step_size=0.001, algo='sarsa'), 31.320537655979468),\n",
       " (args(buffer_size=100000, step_size=0.0001, algo='sarsa'), 33.93413421504428))"
      ]
     },
     "execution_count": 12,
     "metadata": {},
     "output_type": "execute_result"
    }
   ],
   "source": [
    "# Get the best hyperparams based on the final 100 episodes\n",
    "rg_best = sorted(rg_max_over, key=lambda x : x[1], reverse=True)[0]\n",
    "rxg_best = sorted(rxg_max_over, key=lambda x : x[1], reverse=True)[0]\n",
    "rpg_best = sorted(rpg_max_over, key=lambda x : x[1], reverse=True)[0]\n",
    "rsg_best = sorted(rsg_max_over, key=lambda x : x[1], reverse=True)[0]\n",
    "\n",
    "rg_best, rxg_best, rpg_best, rsg_best"
   ]
  },
  {
   "cell_type": "code",
   "execution_count": null,
   "id": "a305b0d7",
   "metadata": {},
   "outputs": [],
   "source": []
  },
  {
   "cell_type": "code",
   "execution_count": null,
   "id": "407fb9b5",
   "metadata": {},
   "outputs": [],
   "source": []
  },
  {
   "cell_type": "code",
   "execution_count": 21,
   "id": "cc66eeb6",
   "metadata": {},
   "outputs": [],
   "source": [
    "# Now we map our discounted episodic rewards back to steps. We assign the discounted reward achieved at the \n",
    "# end of and episode to each timestep within the episode\n",
    "\n",
    "\n",
    "def map_dis_rew_to_steps(data, w=1000, trunc=1e6):\n",
    "    all_seeds = []\n",
    "    for lengths, dis_rews in data:\n",
    "        current_seed = []\n",
    "        for length, dis_rew in zip(lengths, dis_rews):\n",
    "            current_seed.append(np.zeros(length) + dis_rew)\n",
    "        all_seeds.append(moving_avg(np.concatenate(current_seed)[:trunc], w=w))\n",
    "    return np.array(all_seeds)"
   ]
  },
  {
   "cell_type": "code",
   "execution_count": 22,
   "id": "5d466aa9",
   "metadata": {},
   "outputs": [],
   "source": [
    "trunc = int(1.5e6)\n",
    "\n",
    "rg_best_data = rg_data[rg_best[0]]\n",
    "rxg_best_data = rxg_data[rxg_best[0]]\n",
    "rpg_best_data = rpg_data[rpg_best[0]]\n",
    "rsg_best_data = rsg_data[rsg_best[0]]\n",
    "\n",
    "mapped_rg = map_dis_rew_to_steps(rg_best_data, trunc=trunc)\n",
    "mapped_rxg = map_dis_rew_to_steps(rxg_best_data, trunc=trunc)\n",
    "mapped_rpg = map_dis_rew_to_steps(rpg_best_data, trunc=trunc)\n",
    "mapped_rsg = map_dis_rew_to_steps(rsg_best_data, trunc=trunc)"
   ]
  },
  {
   "cell_type": "code",
   "execution_count": 23,
   "id": "7a5c4469",
   "metadata": {},
   "outputs": [],
   "source": [
    "all_data = [\n",
    "    ('Normal obs', mapped_rg, rg_color),\n",
    "    ('Ground-truth check obs', mapped_rxg, rxg_color),\n",
    "    ('PF obs', mapped_rpg, rpg_color),\n",
    "    ('Ground-truth obs', mapped_rsg, rsg_color)\n",
    "]"
   ]
  },
  {
   "cell_type": "code",
   "execution_count": null,
   "id": "b2dee79b",
   "metadata": {
    "scrolled": true
   },
   "outputs": [],
   "source": []
  },
  {
   "cell_type": "code",
   "execution_count": 24,
   "id": "9d0cb1fa",
   "metadata": {},
   "outputs": [
    {
     "data": {
      "text/plain": [
       "<matplotlib.legend.Legend at 0x7facf1cb7520>"
      ]
     },
     "execution_count": 24,
     "metadata": {},
     "output_type": "execute_result"
    },
    {
     "data": {
      "image/png": "[encoded data removed]",
      "text/plain": [
       "<Figure size 432x288 with 1 Axes>"
      ]
     },
     "metadata": {
      "needs_background": "light"
     },
     "output_type": "display_data"
    }
   ],
   "source": [
    "x = np.arange(mapped_rg.shape[1])\n",
    "fig, ax = plt.figure(), plt.axes()\n",
    "\n",
    "\n",
    "for key, data, color in all_data:\n",
    "    means = data.mean(axis=0)\n",
    "    std_err = data.std(axis=0) / data.shape[0]\n",
    "\n",
    "    ax.plot(x, means, label=key, color=color)\n",
    "    plt.fill_between(x, means - std_err, means + std_err,\n",
    "                         color=color, alpha=0.2)\n",
    "\n",
    "ax.set_xlabel('Environment steps')\n",
    "ax.set_ylabel(f\"Discounted episodic returns\", rotation=0, labelpad=65)\n",
    "ax.set_title(f'Discounted episodic returns over environment steps (Prefilled ratio = 0.0)')\n",
    "plt.legend(bbox_to_anchor=(1.00, 1), loc='upper left')\n"
   ]
  },
  {
   "cell_type": "code",
   "execution_count": 87,
   "id": "deff5e0e",
   "metadata": {},
   "outputs": [],
   "source": [
    "# Now for RPG q-learning vs esarsa vs sarsa plots\n",
    "def group_by(dataset, key):\n",
    "    grouped_data = {}\n",
    "    for args, d in dataset.items():\n",
    "        key_val = getattr(args, key)\n",
    "        if key_val not in grouped_data:\n",
    "            grouped_data[key_val] = {}\n",
    "        \n",
    "        grouped_data[key_val][args] = d\n",
    "    return grouped_data"
   ]
  },
  {
   "cell_type": "code",
   "execution_count": 88,
   "id": "217436e5",
   "metadata": {},
   "outputs": [],
   "source": [
    "key = 'algo'\n",
    "rpg_grouped_alg = group_by(rpg_data, key)"
   ]
  },
  {
   "cell_type": "code",
   "execution_count": 89,
   "id": "582638bc",
   "metadata": {},
   "outputs": [],
   "source": [
    "rpg_algo_max_overs = {}\n",
    "for algo, d in rpg_grouped_alg.items():\n",
    "    rpg_algo_max_overs[algo] = get_eps_max_over(d, eps_max_over=100)"
   ]
  },
  {
   "cell_type": "code",
   "execution_count": 91,
   "id": "1183fbb1",
   "metadata": {},
   "outputs": [],
   "source": [
    "rpg_algo_maxes = {}\n",
    "for algo, d in rpg_algo_max_overs.items():\n",
    "    rpg_algo_maxes[algo] = sorted(d, key=lambda x : x[1], reverse=True)[0]"
   ]
  },
  {
   "cell_type": "code",
   "execution_count": 97,
   "id": "1373c19a",
   "metadata": {},
   "outputs": [],
   "source": [
    "mapped_rpg_algo_data = {}\n",
    "for alg, (hparams, _) in rpg_algo_maxes.items():\n",
    "    mapped_rpg_algo_data[alg] = map_dis_rew_to_steps(rpg_grouped_alg[alg][hparams])"
   ]
  },
  {
   "cell_type": "code",
   "execution_count": 103,
   "id": "076a6e74",
   "metadata": {},
   "outputs": [],
   "source": [
    "plot_params = {\n",
    "    'esarsa': {'color': 'orange'},\n",
    "    'qlearning': {'color': 'blue'},\n",
    "    'sarsa': {'color': 'red'}\n",
    "              }"
   ]
  },
  {
   "cell_type": "code",
   "execution_count": 104,
   "id": "d428fa25",
   "metadata": {},
   "outputs": [
    {
     "data": {
      "text/plain": [
       "<matplotlib.legend.Legend at 0x7f3f9cc48040>"
      ]
     },
     "execution_count": 104,
     "metadata": {},
     "output_type": "execute_result"
    },
    {
     "data": {
      "image/png": "[encoded data removed]",
      "text/plain": [
       "<Figure size 432x288 with 1 Axes>"
      ]
     },
     "metadata": {
      "needs_background": "light"
     },
     "output_type": "display_data"
    }
   ],
   "source": [
    "x_alg = np.arange(mapped_rpg_algo_data['sarsa'].shape[1])\n",
    "alg_fig, alg_ax = plt.figure(), plt.axes()\n",
    "\n",
    "\n",
    "for key, data in mapped_rpg_algo_data.items():\n",
    "    means = data.mean(axis=0)\n",
    "    std_err = data.std(axis=0) / data.shape[0]\n",
    "\n",
    "    alg_ax.plot(x_alg, means, label=key, color=plot_params[key]['color'])\n",
    "    plt.fill_between(x_alg, means - std_err, means + std_err,\n",
    "                         color=plot_params[key]['color'], alpha=0.2)\n",
    "\n",
    "alg_ax.set_xlabel('Environment steps')\n",
    "alg_ax.set_ylabel(f\"Discounted episodic returns\", rotation=0, labelpad=65)\n",
    "alg_ax.set_title(f'Discounted episodic returns over environment steps (Prefilled ratio = 0.0) for different algorithms')\n",
    "plt.legend(bbox_to_anchor=(1.00, 1), loc='upper left')\n"
   ]
  },
  {
   "cell_type": "code",
   "execution_count": null,
   "id": "6a814b5c",
   "metadata": {},
   "outputs": [],
   "source": []
  }
 ],
 "metadata": {
  "kernelspec": {
   "display_name": "Python 3 (ipykernel)",
   "language": "python",
   "name": "python3"
  },
  "language_info": {
   "codemirror_mode": {
    "name": "ipython",
    "version": 3
   },
   "file_extension": ".py",
   "mimetype": "text/x-python",
   "name": "python",
   "nbconvert_exporter": "python",
   "pygments_lexer": "ipython3",
   "version": "3.8.11"
  }
 },
 "nbformat": 4,
 "nbformat_minor": 5
}
