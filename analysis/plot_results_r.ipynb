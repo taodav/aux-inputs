{
 "cells": [
  {
   "cell_type": "code",
   "execution_count": 45,
   "id": "a50ae8ab",
   "metadata": {},
   "outputs": [],
   "source": [
    "import numpy as np\n",
    "import matplotlib.pyplot as plt\n",
    "from pathlib import Path\n",
    "from tqdm.notebook import tqdm\n",
    "from collections import namedtuple\n",
    "\n",
    "from definitions import ROOT_DIR\n",
    "from unc.utils import load_info"
   ]
  },
  {
   "cell_type": "code",
   "execution_count": 47,
   "id": "d1f35ee5",
   "metadata": {},
   "outputs": [],
   "source": [
    "rg_path = Path(ROOT_DIR, 'results', 'rg')\n",
    "rpg_path = Path(ROOT_DIR, 'results', 'rpg')\n",
    "rsg_path = Path(ROOT_DIR, 'results', 'rsg')\n",
    "\n",
    "split_by = ['buffer_size', 'step_size', 'algo']\n",
    "Args = namedtuple('args', split_by)\n",
    "\n",
    "rg_color = 'black'\n",
    "rsg_color = 'darkorange'\n",
    "rpg_color = 'forestgreen'\n",
    "\n",
    "\n",
    "def moving_avg(x, mode='valid', w=100):\n",
    "    return np.convolve(x, np.ones(w), mode=mode) / w"
   ]
  },
  {
   "cell_type": "code",
   "execution_count": 29,
   "id": "e432d3a7",
   "metadata": {},
   "outputs": [
    {
     "data": {
      "application/vnd.jupyter.widget-view+json": {
       "model_id": "a398478866114927b726a364c2b5ac2a",
       "version_major": 2,
       "version_minor": 0
      },
      "text/plain": [
       "0it [00:00, ?it/s]"
      ]
     },
     "metadata": {},
     "output_type": "display_data"
    },
    {
     "data": {
      "application/vnd.jupyter.widget-view+json": {
       "model_id": "574799b518aa4b4983c110801f668b6d",
       "version_major": 2,
       "version_minor": 0
      },
      "text/plain": [
       "0it [00:00, ?it/s]"
      ]
     },
     "metadata": {},
     "output_type": "display_data"
    }
   ],
   "source": [
    "rsg_infos = [load_info(f) for f in tqdm(rsg_path.iterdir())]\n",
    "rpg_infos = [load_info(f) for f in tqdm(rpg_path.iterdir())]"
   ]
  },
  {
   "cell_type": "code",
   "execution_count": null,
   "id": "c8581031",
   "metadata": {},
   "outputs": [],
   "source": []
  },
  {
   "cell_type": "code",
   "execution_count": 7,
   "id": "4c328264",
   "metadata": {},
   "outputs": [],
   "source": [
    "def get_discounted_returns(ep_lengths, ep_rews, discount=0.99):\n",
    "    assert ep_lengths.sum() == ep_rews.shape[0]\n",
    "\n",
    "    discounted_returns = []\n",
    "    current_ep_disc_rew = 0\n",
    "    idx = 0\n",
    "\n",
    "    for ep_len in ep_lengths:\n",
    "        for i in range(ep_len):\n",
    "            current_ep_disc_rew += ep_rews[idx] * (discount ** i)\n",
    "            idx += 1\n",
    "        discounted_returns.append(current_ep_disc_rew)\n",
    "        current_ep_disc_rew = 0\n",
    "    discounted_returns = np.array(discounted_returns)\n",
    "    \n",
    "    assert discounted_returns.shape[0] == ep_lengths.shape[0]\n",
    "    \n",
    "    return discounted_returns"
   ]
  },
  {
   "cell_type": "code",
   "execution_count": 56,
   "id": "8523b99a",
   "metadata": {},
   "outputs": [],
   "source": [
    "def process_dir(dir_path, w=100, split_by=None, discount=0.99):\n",
    "    if split_by is not None:\n",
    "        all_results = {}\n",
    "    else:\n",
    "        all_results = []\n",
    "        \n",
    "    for f in tqdm(list(dir_path.iterdir())):\n",
    "        info = load_info(f)\n",
    "        args = info['args'].item()\n",
    "        \n",
    "        result = get_discounted_returns(info['episode_length'], info['reward'], discount)\n",
    "\n",
    "        if split_by is not None:\n",
    "            hparams = Args(*tuple(args[s] for s in split_by))\n",
    "            \n",
    "            if hparams not in all_results:\n",
    "                all_results[hparams] = []\n",
    "                \n",
    "            all_results[hparams].append((info['episode_length'], result))\n",
    "            \n",
    "        else:\n",
    "            all_results.append((info['episode_length'], result))\n",
    "            \n",
    "#     if split_by is not None:\n",
    "#         for k, v in all_results.items():\n",
    "#             for k1, v1 in v.items():\n",
    "#                 all_results[k][k1] = np.array(all_results[k][k1])\n",
    "#         data = all_results\n",
    "#     else:\n",
    "#         data = np.array(all_results)\n",
    "\n",
    "    \n",
    "    return all_results\n"
   ]
  },
  {
   "cell_type": "code",
   "execution_count": 58,
   "id": "de5c6a09",
   "metadata": {},
   "outputs": [
    {
     "data": {
      "application/vnd.jupyter.widget-view+json": {
       "model_id": "926e8ab3f375435e8bdea296c672325c",
       "version_major": 2,
       "version_minor": 0
      },
      "text/plain": [
       "  0%|          | 0/270 [00:00<?, ?it/s]"
      ]
     },
     "metadata": {},
     "output_type": "display_data"
    },
    {
     "data": {
      "application/vnd.jupyter.widget-view+json": {
       "model_id": "5c510d63dcf64877a9776d3b14bdbe0d",
       "version_major": 2,
       "version_minor": 0
      },
      "text/plain": [
       "  0%|          | 0/271 [00:00<?, ?it/s]"
      ]
     },
     "metadata": {},
     "output_type": "display_data"
    },
    {
     "data": {
      "application/vnd.jupyter.widget-view+json": {
       "model_id": "ba0bbe1b3f1b41ddac973a36a37f9b1f",
       "version_major": 2,
       "version_minor": 0
      },
      "text/plain": [
       "  0%|          | 0/270 [00:00<?, ?it/s]"
      ]
     },
     "metadata": {},
     "output_type": "display_data"
    }
   ],
   "source": [
    "discount = 0.99\n",
    "rg_data = process_dir(rg_path, split_by=split_by, discount=discount)\n",
    "rpg_data = process_dir(rpg_path, split_by=split_by, discount=discount)\n",
    "rsg_data = process_dir(rsg_path, split_by=split_by, discount=discount)"
   ]
  },
  {
   "cell_type": "code",
   "execution_count": null,
   "id": "1a97a3d1",
   "metadata": {},
   "outputs": [],
   "source": []
  },
  {
   "cell_type": "code",
   "execution_count": 80,
   "id": "b1270406",
   "metadata": {},
   "outputs": [],
   "source": [
    "# we average the discounted episodic rewards over the final 100 episodes.\n",
    "\n",
    "def get_eps_max_over(data, eps_max_over=100):\n",
    "    hparam_results = []\n",
    "    for args, all_dis_rew in data.items():\n",
    "        final_max = np.mean([np.mean(dis_rew[-100:]) for length, dis_rew in all_dis_rew])\n",
    "        hparam_results.append((args, final_max))\n",
    "    return hparam_results\n"
   ]
  },
  {
   "cell_type": "code",
   "execution_count": 81,
   "id": "cfe84057",
   "metadata": {},
   "outputs": [],
   "source": [
    "eps_max_over = 100\n",
    "rg_max_over = get_eps_max_over(rg_data, eps_max_over)\n",
    "rpg_max_over = get_eps_max_over(rpg_data, eps_max_over)\n",
    "rsg_max_over = get_eps_max_over(rsg_data, eps_max_over)"
   ]
  },
  {
   "cell_type": "code",
   "execution_count": null,
   "id": "0396d16b",
   "metadata": {},
   "outputs": [],
   "source": []
  },
  {
   "cell_type": "code",
   "execution_count": 82,
   "id": "45e273f9",
   "metadata": {},
   "outputs": [
    {
     "data": {
      "text/plain": [
       "((args(buffer_size=10000, step_size=1e-05, algo='esarsa'), 9.744196927720221),\n",
       " (args(buffer_size=100000, step_size=0.001, algo='sarsa'), 31.102623052753763),\n",
       " (args(buffer_size=100000, step_size=0.0001, algo='sarsa'),\n",
       "  27.868492242176966))"
      ]
     },
     "execution_count": 82,
     "metadata": {},
     "output_type": "execute_result"
    }
   ],
   "source": [
    "# Get the best hyperparams based on the final 100 episodes\n",
    "rg_best = sorted(rg_max_over, key=lambda x : x[1], reverse=True)[0]\n",
    "rpg_best = sorted(rpg_max_over, key=lambda x : x[1], reverse=True)[0]\n",
    "rsg_best = sorted(rsg_max_over, key=lambda x : x[1], reverse=True)[0]\n",
    "\n",
    "rg_best, rpg_best, rsg_best"
   ]
  },
  {
   "cell_type": "code",
   "execution_count": 105,
   "id": "a305b0d7",
   "metadata": {},
   "outputs": [
    {
     "data": {
      "text/plain": [
       "{'rpg': [(args(buffer_size=100000, step_size=0.001, algo='sarsa'),\n",
       "   31.102623052753763),\n",
       "  (args(buffer_size=20000, step_size=0.001, algo='sarsa'), 24.22176566280792),\n",
       "  (args(buffer_size=100000, step_size=0.0001, algo='sarsa'),\n",
       "   22.60921719571567),\n",
       "  (args(buffer_size=10000, step_size=0.001, algo='sarsa'), 19.592333645564132),\n",
       "  (args(buffer_size=10000, step_size=0.0001, algo='sarsa'),\n",
       "   19.492649401612233),\n",
       "  (args(buffer_size=20000, step_size=0.0001, algo='sarsa'),\n",
       "   18.845029564841855),\n",
       "  (args(buffer_size=100000, step_size=0.0001, algo='esarsa'),\n",
       "   16.613300011466045),\n",
       "  (args(buffer_size=100000, step_size=0.0001, algo='qlearning'),\n",
       "   14.185715108043514),\n",
       "  (args(buffer_size=100000, step_size=0.001, algo='qlearning'),\n",
       "   10.515670894451535),\n",
       "  (args(buffer_size=100000, step_size=1e-05, algo='sarsa'),\n",
       "   10.343124860568986),\n",
       "  (args(buffer_size=20000, step_size=1e-05, algo='qlearning'),\n",
       "   10.296043952063242),\n",
       "  (args(buffer_size=100000, step_size=1e-05, algo='esarsa'),\n",
       "   10.284181025802326),\n",
       "  (args(buffer_size=10000, step_size=1e-05, algo='qlearning'),\n",
       "   10.079988530482185),\n",
       "  (args(buffer_size=100000, step_size=1e-05, algo='qlearning'),\n",
       "   10.046041622076325),\n",
       "  (args(buffer_size=10000, step_size=1e-05, algo='esarsa'), 9.686063369992933),\n",
       "  (args(buffer_size=20000, step_size=1e-05, algo='sarsa'), 9.649526197328516),\n",
       "  (args(buffer_size=20000, step_size=1e-05, algo='esarsa'), 9.607892511567075),\n",
       "  (args(buffer_size=10000, step_size=1e-05, algo='sarsa'), 9.496184936086669),\n",
       "  (args(buffer_size=100000, step_size=0.001, algo='esarsa'),\n",
       "   9.084474936265183),\n",
       "  (args(buffer_size=20000, step_size=0.0001, algo='qlearning'),\n",
       "   6.819050274478478),\n",
       "  (args(buffer_size=20000, step_size=0.0001, algo='esarsa'),\n",
       "   6.378140944390356),\n",
       "  (args(buffer_size=10000, step_size=0.0001, algo='esarsa'),\n",
       "   4.162621222433485),\n",
       "  (args(buffer_size=10000, step_size=0.0001, algo='qlearning'),\n",
       "   3.7025290157740995),\n",
       "  (args(buffer_size=20000, step_size=0.001, algo='qlearning'),\n",
       "   3.393047301020431),\n",
       "  (args(buffer_size=20000, step_size=0.001, algo='esarsa'), 2.371931048135509),\n",
       "  (args(buffer_size=10000, step_size=0.001, algo='esarsa'),\n",
       "   -0.47722599570387303),\n",
       "  (args(buffer_size=10000, step_size=0.001, algo='qlearning'),\n",
       "   -0.8409856323951559)],\n",
       " 'rsg': [(args(buffer_size=100000, step_size=0.0001, algo='sarsa'),\n",
       "   27.868492242176966),\n",
       "  (args(buffer_size=20000, step_size=0.0001, algo='sarsa'),\n",
       "   26.771939214189395),\n",
       "  (args(buffer_size=100000, step_size=0.001, algo='sarsa'),\n",
       "   25.841929084283965),\n",
       "  (args(buffer_size=10000, step_size=0.0001, algo='sarsa'),\n",
       "   24.060818588001847),\n",
       "  (args(buffer_size=100000, step_size=0.001, algo='esarsa'),\n",
       "   20.995847660745476),\n",
       "  (args(buffer_size=100000, step_size=0.001, algo='qlearning'),\n",
       "   18.987063081469863),\n",
       "  (args(buffer_size=10000, step_size=1e-05, algo='esarsa'),\n",
       "   17.152093291985075),\n",
       "  (args(buffer_size=10000, step_size=1e-05, algo='qlearning'),\n",
       "   14.789738776414058),\n",
       "  (args(buffer_size=20000, step_size=1e-05, algo='esarsa'),\n",
       "   14.521017660777677),\n",
       "  (args(buffer_size=100000, step_size=1e-05, algo='sarsa'),\n",
       "   13.925954948409142),\n",
       "  (args(buffer_size=10000, step_size=1e-05, algo='sarsa'), 12.870259571917483),\n",
       "  (args(buffer_size=20000, step_size=1e-05, algo='sarsa'), 12.662905608388254),\n",
       "  (args(buffer_size=100000, step_size=1e-05, algo='esarsa'),\n",
       "   12.081323823921338),\n",
       "  (args(buffer_size=20000, step_size=1e-05, algo='qlearning'),\n",
       "   11.998220785945364),\n",
       "  (args(buffer_size=100000, step_size=1e-05, algo='qlearning'),\n",
       "   10.90066229967719),\n",
       "  (args(buffer_size=10000, step_size=0.001, algo='sarsa'), 10.267189321516014),\n",
       "  (args(buffer_size=20000, step_size=0.001, algo='sarsa'), 9.609224100599556),\n",
       "  (args(buffer_size=100000, step_size=0.0001, algo='esarsa'),\n",
       "   8.862428715303711),\n",
       "  (args(buffer_size=100000, step_size=0.0001, algo='qlearning'),\n",
       "   6.450681985051657),\n",
       "  (args(buffer_size=20000, step_size=0.0001, algo='qlearning'),\n",
       "   6.424929686374531),\n",
       "  (args(buffer_size=20000, step_size=0.0001, algo='esarsa'),\n",
       "   5.203116123095777),\n",
       "  (args(buffer_size=10000, step_size=0.0001, algo='esarsa'),\n",
       "   4.306038304809806),\n",
       "  (args(buffer_size=10000, step_size=0.0001, algo='qlearning'),\n",
       "   3.914221938694058),\n",
       "  (args(buffer_size=20000, step_size=0.001, algo='qlearning'),\n",
       "   0.9096539943976932),\n",
       "  (args(buffer_size=20000, step_size=0.001, algo='esarsa'),\n",
       "   -0.9724325467817325),\n",
       "  (args(buffer_size=10000, step_size=0.001, algo='qlearning'),\n",
       "   -1.1451305261207352),\n",
       "  (args(buffer_size=10000, step_size=0.001, algo='esarsa'),\n",
       "   -2.2983579207709477)]}"
      ]
     },
     "execution_count": 105,
     "metadata": {},
     "output_type": "execute_result"
    }
   ],
   "source": [
    "{ 'rpg': sorted(rpg_max_over, key=lambda x : x[1], reverse=True),\n",
    " 'rsg': sorted(rsg_max_over, key=lambda x : x[1], reverse=True)}"
   ]
  },
  {
   "cell_type": "code",
   "execution_count": 36,
   "id": "407fb9b5",
   "metadata": {},
   "outputs": [
    {
     "data": {
      "text/plain": [
       "[array([ 605,   63, 1000, ..., 1000, 1000, 1000]),\n",
       " array([ 345,   55,  615, ...,  715, 1000, 1000]),\n",
       " array([ 153, 1000, 1000, ..., 1000,  444, 1000]),\n",
       " array([1000,   21,    7, ..., 1000,  743, 1000]),\n",
       " array([   5,    8,    6, ...,    4,    3, 1000]),\n",
       " array([1000, 1000,   70, ...,  617,  625, 1000]),\n",
       " array([1000, 1000, 1000, ..., 1000, 1000, 1000]),\n",
       " array([1000, 1000, 1000, ...,  596, 1000, 1000]),\n",
       " array([ 930, 1000, 1000, ..., 1000,  829, 1000]),\n",
       " array([   3,  762,    1, ...,    2,  105, 1000])]"
      ]
     },
     "execution_count": 36,
     "metadata": {},
     "output_type": "execute_result"
    }
   ],
   "source": [
    "[lengths for lengths, vals in r_data[tuple(split_by)][rpg_best[0]]]"
   ]
  },
  {
   "cell_type": "code",
   "execution_count": 83,
   "id": "cc66eeb6",
   "metadata": {},
   "outputs": [],
   "source": [
    "# Now we map our discounted episodic rewards back to steps. We assign the discounted reward achieved at the \n",
    "# end of and episode to each timestep within the episode\n",
    "\n",
    "\n",
    "def map_dis_rew_to_steps(data, w=1000):\n",
    "    all_seeds = []\n",
    "    for lengths, dis_rews in data:\n",
    "        current_seed = []\n",
    "        for length, dis_rew in zip(lengths, dis_rews):\n",
    "            current_seed.append(np.zeros(length) + dis_rew)\n",
    "        all_seeds.append(moving_avg(np.concatenate(current_seed)[:trunc], w=w))\n",
    "    return np.array(all_seeds)"
   ]
  },
  {
   "cell_type": "code",
   "execution_count": 84,
   "id": "5d466aa9",
   "metadata": {},
   "outputs": [],
   "source": [
    "trunc = int(1e6)\n",
    "\n",
    "rg_best_data = rg_data[rg_best[0]]\n",
    "rpg_best_data = rpg_data[rpg_best[0]]\n",
    "rsg_best_data = rsg_data[rsg_best[0]]\n",
    "\n",
    "mapped_rg = map_dis_rew_to_steps(rg_best_data)\n",
    "mapped_rpg = map_dis_rew_to_steps(rpg_best_data)\n",
    "mapped_rsg = map_dis_rew_to_steps(rsg_best_data)"
   ]
  },
  {
   "cell_type": "code",
   "execution_count": 85,
   "id": "7a5c4469",
   "metadata": {},
   "outputs": [],
   "source": [
    "all_data = [\n",
    "    ('Normal obs', mapped_rg, rg_color),\n",
    "    ('PF obs', mapped_rpg, rpg_color),\n",
    "    ('Ground-truth obs', mapped_rsg, rsg_color)\n",
    "]"
   ]
  },
  {
   "cell_type": "code",
   "execution_count": null,
   "id": "b2dee79b",
   "metadata": {
    "scrolled": true
   },
   "outputs": [],
   "source": []
  },
  {
   "cell_type": "code",
   "execution_count": 100,
   "id": "9d0cb1fa",
   "metadata": {},
   "outputs": [
    {
     "data": {
      "text/plain": [
       "<matplotlib.legend.Legend at 0x7f3f9b6bbaf0>"
      ]
     },
     "execution_count": 100,
     "metadata": {},
     "output_type": "execute_result"
    },
    {
     "data": {
      "image/png": "[encoded data removed]",
      "text/plain": [
       "<Figure size 432x288 with 1 Axes>"
      ]
     },
     "metadata": {
      "needs_background": "light"
     },
     "output_type": "display_data"
    }
   ],
   "source": [
    "x = np.arange(mapped_rg.shape[1])\n",
    "fig, ax = plt.figure(), plt.axes()\n",
    "\n",
    "\n",
    "for key, data, color in all_data:\n",
    "    means = data.mean(axis=0)\n",
    "    std_err = data.std(axis=0) / data.shape[0]\n",
    "\n",
    "    ax.plot(x, means, label=key, color=color)\n",
    "    plt.fill_between(x, means - std_err, means + std_err,\n",
    "                         color=color, alpha=0.2)\n",
    "\n",
    "ax.set_xlabel('Environment steps')\n",
    "ax.set_ylabel(f\"Discounted episodic returns\", rotation=0, labelpad=65)\n",
    "ax.set_title(f'Discounted episodic returns over environment steps (Prefilled ratio = 0.0)')\n",
    "plt.legend(bbox_to_anchor=(1.00, 1), loc='upper left')\n"
   ]
  },
  {
   "cell_type": "code",
   "execution_count": 87,
   "id": "deff5e0e",
   "metadata": {},
   "outputs": [],
   "source": [
    "# Now for RPG q-learning vs esarsa vs sarsa plots\n",
    "def group_by(dataset, key):\n",
    "    grouped_data = {}\n",
    "    for args, d in dataset.items():\n",
    "        key_val = getattr(args, key)\n",
    "        if key_val not in grouped_data:\n",
    "            grouped_data[key_val] = {}\n",
    "        \n",
    "        grouped_data[key_val][args] = d\n",
    "    return grouped_data"
   ]
  },
  {
   "cell_type": "code",
   "execution_count": 88,
   "id": "217436e5",
   "metadata": {},
   "outputs": [],
   "source": [
    "key = 'algo'\n",
    "rpg_grouped_alg = group_by(rpg_data, key)"
   ]
  },
  {
   "cell_type": "code",
   "execution_count": 89,
   "id": "582638bc",
   "metadata": {},
   "outputs": [],
   "source": [
    "rpg_algo_max_overs = {}\n",
    "for algo, d in rpg_grouped_alg.items():\n",
    "    rpg_algo_max_overs[algo] = get_eps_max_over(d, eps_max_over=100)"
   ]
  },
  {
   "cell_type": "code",
   "execution_count": 91,
   "id": "1183fbb1",
   "metadata": {},
   "outputs": [],
   "source": [
    "rpg_algo_maxes = {}\n",
    "for algo, d in rpg_algo_max_overs.items():\n",
    "    rpg_algo_maxes[algo] = sorted(d, key=lambda x : x[1], reverse=True)[0]"
   ]
  },
  {
   "cell_type": "code",
   "execution_count": 97,
   "id": "1373c19a",
   "metadata": {},
   "outputs": [],
   "source": [
    "mapped_rpg_algo_data = {}\n",
    "for alg, (hparams, _) in rpg_algo_maxes.items():\n",
    "    mapped_rpg_algo_data[alg] = map_dis_rew_to_steps(rpg_grouped_alg[alg][hparams])"
   ]
  },
  {
   "cell_type": "code",
   "execution_count": 103,
   "id": "076a6e74",
   "metadata": {},
   "outputs": [],
   "source": [
    "plot_params = {\n",
    "    'esarsa': {'color': 'orange'},\n",
    "    'qlearning': {'color': 'blue'},\n",
    "    'sarsa': {'color': 'red'}\n",
    "              }"
   ]
  },
  {
   "cell_type": "code",
   "execution_count": 104,
   "id": "d428fa25",
   "metadata": {},
   "outputs": [
    {
     "data": {
      "text/plain": [
       "<matplotlib.legend.Legend at 0x7f3f9cc48040>"
      ]
     },
     "execution_count": 104,
     "metadata": {},
     "output_type": "execute_result"
    },
    {
     "data": {
      "image/png": "[encoded data removed]",
      "text/plain": [
       "<Figure size 432x288 with 1 Axes>"
      ]
     },
     "metadata": {
      "needs_background": "light"
     },
     "output_type": "display_data"
    }
   ],
   "source": [
    "x_alg = np.arange(mapped_rpg_algo_data['sarsa'].shape[1])\n",
    "alg_fig, alg_ax = plt.figure(), plt.axes()\n",
    "\n",
    "\n",
    "for key, data in mapped_rpg_algo_data.items():\n",
    "    means = data.mean(axis=0)\n",
    "    std_err = data.std(axis=0) / data.shape[0]\n",
    "\n",
    "    alg_ax.plot(x_alg, means, label=key, color=plot_params[key]['color'])\n",
    "    plt.fill_between(x_alg, means - std_err, means + std_err,\n",
    "                         color=plot_params[key]['color'], alpha=0.2)\n",
    "\n",
    "alg_ax.set_xlabel('Environment steps')\n",
    "alg_ax.set_ylabel(f\"Discounted episodic returns\", rotation=0, labelpad=65)\n",
    "alg_ax.set_title(f'Discounted episodic returns over environment steps (Prefilled ratio = 0.0) for different algorithms')\n",
    "plt.legend(bbox_to_anchor=(1.00, 1), loc='upper left')\n"
   ]
  },
  {
   "cell_type": "code",
   "execution_count": null,
   "id": "6a814b5c",
   "metadata": {},
   "outputs": [],
   "source": []
  }
 ],
 "metadata": {
  "kernelspec": {
   "display_name": "Python 3 (ipykernel)",
   "language": "python",
   "name": "python3"
  },
  "language_info": {
   "codemirror_mode": {
    "name": "ipython",
    "version": 3
   },
   "file_extension": ".py",
   "mimetype": "text/x-python",
   "name": "python",
   "nbconvert_exporter": "python",
   "pygments_lexer": "ipython3",
   "version": "3.8.11"
  }
 },
 "nbformat": 4,
 "nbformat_minor": 5
}
