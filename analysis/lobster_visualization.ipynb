{
 "cells": [
  {
   "cell_type": "code",
   "execution_count": null,
   "id": "f5d657a8",
   "metadata": {},
   "outputs": [],
   "source": [
    "import numpy as np\n",
    "import matplotlib.pyplot as plt\n",
    "from pathlib import Path\n",
    "\n",
    "from unc.utils import load_info\n",
    "from unc.agents import Agent, DQNAgent\n",
    "from definitions import ROOT_DIR"
   ]
  },
  {
   "cell_type": "code",
   "execution_count": null,
   "id": "9db2be59",
   "metadata": {},
   "outputs": [],
   "source": [
    "results_fname = Path(ROOT_DIR, \"results\", \"lobster_data.npy\")\n",
    "loaded = load_info(results_fname)"
   ]
  },
  {
   "cell_type": "code",
   "execution_count": null,
   "id": "8153423e",
   "metadata": {},
   "outputs": [],
   "source": [
    "obs_res = loaded['2']\n",
    "unc_res = loaded['2o']"
   ]
  },
  {
   "cell_type": "code",
   "execution_count": null,
   "id": "26fcb7a2",
   "metadata": {},
   "outputs": [],
   "source": [
    "# reduced_unc_obses = get_distilled_obs(unc_res['obs'][0])\n",
    "unc_obs = unc_res['obs']\n",
    "at_zero_unc = unc_obs[:, :, 0] == 1\n",
    "\n",
    "r1_ot_unc = unc_obs[:, :, 3]\n",
    "r2_ot_unc = unc_obs[:, :, 6]\n",
    "print(f\"r1_ot min: {r1_ot_unc[at_zero_unc].min()}, r1_ot max: {r1_ot_unc[at_zero_unc].max()}\")\n",
    "print(f\"r2_ot min: {r2_ot_unc[at_zero_unc].min()}, r2_ot max: {r2_ot_unc[at_zero_unc].max()}\")\n",
    "\n",
    "obs_obs = obs_res['obs']\n",
    "at_zero_obs = obs_obs[:, :, 0] == 1\n",
    "\n",
    "r1_ot_obs = obs_obs[:, :, 3]\n",
    "r2_ot_obs = obs_obs[:, :, 6]\n",
    "print(f\"r1_ot_unc min: {r1_ot_obs[at_zero_obs].min()}, r1_ot_unc max: {r1_ot_obs[at_zero_obs].max()}\")\n",
    "print(f\"r2_ot_unc min: {r2_ot_obs[at_zero_obs].min()}, r2_ot_unc max: {r2_ot_obs[at_zero_obs].max()}\")"
   ]
  },
  {
   "cell_type": "code",
   "execution_count": null,
   "id": "4b3caa09",
   "metadata": {},
   "outputs": [],
   "source": [
    "\n",
    "\n",
    "def get_distilled_obs(traj):\n",
    "    # first we get position\n",
    "    pos_one_hot = traj[:, :3]\n",
    "    pos_traj = np.nonzero(pos_one_hot)[-1]\n",
    "    ot1 = traj[:, 3]\n",
    "    ot2 = traj[:, 6]\n",
    "    reduced_obses = np.stack([pos_traj, ot1, ot2], axis=-1)\n",
    "    return reduced_obses"
   ]
  },
  {
   "cell_type": "code",
   "execution_count": null,
   "id": "06d00717",
   "metadata": {},
   "outputs": [],
   "source": [
    "# reduced_unc_obses = get_distilled_obs(unc_res['obs'][0])\n",
    "traj_obs = obs_res['obs'][0]\n",
    "\n",
    "reduced_obs_obs = get_distilled_obs(traj_obs)\n"
   ]
  },
  {
   "cell_type": "code",
   "execution_count": null,
   "id": "9cefd835",
   "metadata": {},
   "outputs": [],
   "source": [
    "\n",
    "fig = plt.figure(figsize=(8, 6), dpi=80)\n",
    "colors = (z/x.shape[0])[None, :]\n",
    "\n",
    "\n",
    "ax = fig.add_subplot(projection='3d')\n",
    "for i in range(1):\n",
    "    x = r1_ot_obs[i]\n",
    "    y = r2_ot_obs[i]\n",
    "    z = np.arange(x.shape[0])\n",
    "#     x = reduced_obs_obs[:, 1]\n",
    "#     y = reduced_obs_obs[:, 2]\n",
    "#     z = reduced_obs_obs[:, 0]\n",
    "\n",
    "    ax.scatter(x, y, z, c=z, cmap='viridis')\n",
    "    ax.plot3D(x, y, z, color=\"black\", linewidth=0.5)\n",
    "\n",
    "\n",
    "ax.set_xlabel(\"R1 obs\")\n",
    "ax.set_ylabel(\"R2 obs\")\n",
    "ax.set_zlabel(f\"time step\")\n",
    "\n",
    "plt.legend(bbox_to_anchor=(1.00, 1), loc='upper left', title='action')\n",
    "ax.set_title(\"Q-values of Lobster environment at node 0 (uncertainty obs)\")"
   ]
  },
  {
   "cell_type": "code",
   "execution_count": null,
   "id": "8d7b827c",
   "metadata": {},
   "outputs": [],
   "source": [
    "traj_unc = unc_res['obs'][0]\n",
    "\n",
    "reduced_obs_unc = get_distilled_obs(traj_unc)"
   ]
  },
  {
   "cell_type": "code",
   "execution_count": null,
   "id": "a7342e67",
   "metadata": {},
   "outputs": [],
   "source": [
    "\n",
    "fig = plt.figure(figsize=(8, 6), dpi=80)\n",
    "colors = (z/x.shape[0])[None, :]\n",
    "\n",
    "\n",
    "ax = fig.add_subplot(projection='3d')\n",
    "for i in range(1):\n",
    "    x = r1_ot_unc[i]\n",
    "    y = r2_ot_unc[i]\n",
    "    z = np.arange(x.shape[0])\n",
    "#     x = reduced_obs_unc[:, 1]\n",
    "#     y = reduced_obs_unc[:, 2]\n",
    "#     z = reduced_obs_unc[:, 0]\n",
    "\n",
    "    ax.scatter(x, y, z, c=z, cmap='viridis')\n",
    "    ax.plot3D(x, y, z, color=\"black\", linewidth=0.5)\n",
    "\n",
    "\n",
    "ax.set_xlabel(\"R1 obs\")\n",
    "ax.set_ylabel(\"R2 obs\")\n",
    "ax.set_zlabel(f\"time step\")\n",
    "\n",
    "plt.legend(bbox_to_anchor=(1.00, 1), loc='upper left', title='action')\n",
    "ax.set_title(\"Q-values of Lobster environment at node 0 (uncertainty obs)\")"
   ]
  },
  {
   "cell_type": "code",
   "execution_count": null,
   "id": "dd116041",
   "metadata": {},
   "outputs": [],
   "source": []
  },
  {
   "cell_type": "code",
   "execution_count": null,
   "id": "c4e74efa",
   "metadata": {},
   "outputs": [],
   "source": [
    "\n",
    "# here we get all possible observations at node 0 for 2\n",
    "zero_obs_2 = np.array([[1., 0., 0., 0., 0., 1., 0., 0., 1.]])\n",
    "\n",
    "# all possible observations at node 0 for 2o\n",
    "discount = 0.9\n",
    "\n",
    "obs_2o_range_single = discount ** (np.arange(50) + 1)\n",
    "obs_2o_range_x, obs_2o_range_y = np.meshgrid(obs_2o_range_single, obs_2o_range_single)\n",
    "obs_2o_range = np.stack((obs_2o_range_x, obs_2o_range_y), axis=-1)\n",
    "ot_obs_2o = obs_2o_range.reshape(-1, 2)\n",
    "\n",
    "zero_obs_2o = np.repeat(zero_obs_2, ot_obs_2o.shape[0], axis=0)\n",
    "zero_obs_2o[:, [3, 6]] = ot_obs_2o"
   ]
  },
  {
   "cell_type": "code",
   "execution_count": null,
   "id": "72697d24",
   "metadata": {},
   "outputs": [],
   "source": [
    "fa = 'linear'\n",
    "obs_agent_fname = Path(ROOT_DIR, 'results', f'2_{fa}_agent.pth')\n",
    "unc_agent_fname = Path(ROOT_DIR, 'results', f'2o_{fa}_agent.pth')\n",
    "\n",
    "obs_agent = DQNAgent.load(obs_agent_fname, DQNAgent)\n",
    "unc_agent = DQNAgent.load(unc_agent_fname, DQNAgent)"
   ]
  },
  {
   "cell_type": "code",
   "execution_count": null,
   "id": "6e9435b8",
   "metadata": {},
   "outputs": [],
   "source": [
    "all_zero_2_qs = obs_agent.Qs(zero_obs_2, obs_agent.network_params)\n",
    "all_zero_2o_qs = unc_agent.Qs(zero_obs_2o, unc_agent.network_params)"
   ]
  },
  {
   "cell_type": "code",
   "execution_count": null,
   "id": "b60f0613",
   "metadata": {},
   "outputs": [],
   "source": [
    "actions_to_plot = [0, 1]\n",
    "action_mapping = ['left', 'right', 'collect']\n",
    "actions_to_color = [\"orange\", \"blue\"]\n",
    "\n",
    "fig = plt.figure(figsize=(8, 6), dpi=80)\n",
    "\n",
    "ax = fig.add_subplot(projection='3d')\n",
    "ax.view_init(32, 195)\n",
    "\n",
    "ax.set_xlim(-0.1, 0.9)\n",
    "ax.set_ylim(-0.1, 0.9)\n",
    "ax.set_zlim(0.8, 1.4)\n",
    "\n",
    "ax.set_xlabel(\"R1 obs\")\n",
    "ax.set_ylabel(\"R2 obs\")\n",
    "ax.set_zlabel(f\"Q\")\n",
    "\n",
    "for action in actions_to_plot:\n",
    "    z = all_zero_2o_qs[:, action]\n",
    "    ax.scatter(ot_obs_2o[:, 0], ot_obs_2o[:, 1], z, cmap='viridis', linewidth=0.5, label=action_mapping[action])\n",
    "\n",
    "plt.legend(bbox_to_anchor=(1.00, 1), loc='upper left', title='action')\n",
    "ax.set_title(\"Q-values of Lobster environment at node 0 (uncertainty obs)\")"
   ]
  },
  {
   "cell_type": "code",
   "execution_count": null,
   "id": "4bcc6f80",
   "metadata": {},
   "outputs": [],
   "source": [
    "actions_to_plot = [0, 1]\n",
    "action_mapping = ['left', 'right', 'collect']\n",
    "actions_to_color = [\"orange\", \"blue\"]\n",
    "\n",
    "fig = plt.figure(figsize=(8, 6), dpi=80)\n",
    "\n",
    "ax = fig.add_subplot(projection='3d')\n",
    "ax.view_init(32, 195)\n",
    "\n",
    "ax.set_xlim(-0.1, 0.9)\n",
    "ax.set_ylim(-0.1, 0.9)\n",
    "ax.set_zlim(0.8, 1.4)\n",
    "\n",
    "\n",
    "ax.set_xlabel(\"R1 obs\")\n",
    "ax.set_ylabel(\"R2 obs\")\n",
    "ax.set_zlabel(f\"Q\")\n",
    "\n",
    "for action in actions_to_plot:\n",
    "    z = all_zero_2_qs[:, action]\n",
    "    ax.scatter(0, 0, z, cmap='viridis', linewidth=0.5, label=action_mapping[action])\n",
    "plt.legend(bbox_to_anchor=(1.00, 1), loc='upper left', title='action')\n",
    "ax.set_title(\"Q-values of Lobster environment at node 0 (normal obs)\")"
   ]
  },
  {
   "cell_type": "code",
   "execution_count": null,
   "id": "c608df07",
   "metadata": {},
   "outputs": [],
   "source": []
  }
 ],
 "metadata": {
  "kernelspec": {
   "display_name": "Python 3 (ipykernel)",
   "language": "python",
   "name": "python3"
  },
  "language_info": {
   "codemirror_mode": {
    "name": "ipython",
    "version": 3
   },
   "file_extension": ".py",
   "mimetype": "text/x-python",
   "name": "python",
   "nbconvert_exporter": "python",
   "pygments_lexer": "ipython3",
   "version": "3.8.10"
  }
 },
 "nbformat": 4,
 "nbformat_minor": 5
}
