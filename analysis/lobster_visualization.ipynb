{
 "cells": [
  {
   "cell_type": "code",
   "execution_count": null,
   "id": "f5d657a8",
   "metadata": {},
   "outputs": [],
   "source": [
    "import numpy as np\n",
    "import matplotlib.pyplot as plt\n",
    "from pathlib import Path\n",
    "import plotly.express as px\n",
    "import plotly.graph_objects as go\n",
    "\n",
    "from unc.utils import load_info\n",
    "from unc.agents import Agent, DQNAgent\n",
    "from definitions import ROOT_DIR"
   ]
  },
  {
   "cell_type": "code",
   "execution_count": null,
   "id": "0db50e20",
   "metadata": {},
   "outputs": [],
   "source": []
  },
  {
   "cell_type": "code",
   "execution_count": null,
   "id": "9db2be59",
   "metadata": {},
   "outputs": [],
   "source": [
    "results_fname = Path(ROOT_DIR, \"results\", \"lobster_data.npy\")\n",
    "loaded = load_info(results_fname)"
   ]
  },
  {
   "cell_type": "code",
   "execution_count": null,
   "id": "8153423e",
   "metadata": {},
   "outputs": [],
   "source": [
    "obs_res = loaded['2']\n",
    "unc_res = loaded['2o']"
   ]
  },
  {
   "cell_type": "code",
   "execution_count": null,
   "id": "26fcb7a2",
   "metadata": {},
   "outputs": [],
   "source": [
    "# reduced_unc_obses = get_distilled_obs(unc_res['obs'][0])\n",
    "unc_obs = unc_res['obs']\n",
    "at_zero_unc = unc_obs[:, :, 0] == 1\n",
    "\n",
    "r1_ot_unc = unc_obs[:, :, 3]\n",
    "r2_ot_unc = unc_obs[:, :, 6]\n",
    "print(f\"r1_ot min: {r1_ot_unc[at_zero_unc].min()}, r1_ot max: {r1_ot_unc[at_zero_unc].max()}\")\n",
    "print(f\"r2_ot min: {r2_ot_unc[at_zero_unc].min()}, r2_ot max: {r2_ot_unc[at_zero_unc].max()}\")\n",
    "\n",
    "obs_obs = obs_res['obs']\n",
    "at_zero_obs = obs_obs[:, :, 0] == 1\n",
    "\n",
    "r1_ot_obs = obs_obs[:, :, 3]\n",
    "r2_ot_obs = obs_obs[:, :, 6]\n",
    "print(f\"r1_ot_unc min: {r1_ot_obs[at_zero_obs].min()}, r1_ot_unc max: {r1_ot_obs[at_zero_obs].max()}\")\n",
    "print(f\"r2_ot_unc min: {r2_ot_obs[at_zero_obs].min()}, r2_ot_unc max: {r2_ot_obs[at_zero_obs].max()}\")"
   ]
  },
  {
   "cell_type": "code",
   "execution_count": null,
   "id": "4b3caa09",
   "metadata": {},
   "outputs": [],
   "source": [
    "\n",
    "\n",
    "def get_distilled_obs(traj):\n",
    "    # first we get position\n",
    "    pos_one_hot = traj[:, :3]\n",
    "    pos_traj = np.nonzero(pos_one_hot)[-1]\n",
    "    ot1 = traj[:, 3]\n",
    "    ot2 = traj[:, 6]\n",
    "    reduced_obses = np.stack([pos_traj, ot1, ot2], axis=-1)\n",
    "    return reduced_obses"
   ]
  },
  {
   "cell_type": "code",
   "execution_count": null,
   "id": "06d00717",
   "metadata": {},
   "outputs": [],
   "source": [
    "# reduced_unc_obses = get_distilled_obs(unc_res['obs'][0])\n",
    "traj_obs = obs_res['obs'][0]\n",
    "\n",
    "reduced_obs_obs = get_distilled_obs(traj_obs)\n"
   ]
  },
  {
   "cell_type": "code",
   "execution_count": null,
   "id": "9cefd835",
   "metadata": {},
   "outputs": [],
   "source": [
    "\n",
    "fig = plt.figure(figsize=(8, 6), dpi=80)\n",
    "colors = (z/x.shape[0])[None, :]\n",
    "\n",
    "\n",
    "ax = fig.add_subplot(projection='3d')\n",
    "for i in range(1):\n",
    "    x = r1_ot_obs[i]\n",
    "    y = r2_ot_obs[i]\n",
    "    z = np.arange(x.shape[0])\n",
    "#     x = reduced_obs_obs[:, 1]\n",
    "#     y = reduced_obs_obs[:, 2]\n",
    "#     z = reduced_obs_obs[:, 0]\n",
    "\n",
    "    ax.scatter(x, y, z, c=z, cmap='viridis')\n",
    "    ax.plot3D(x, y, z, color=\"black\", linewidth=0.5)\n",
    "\n",
    "\n",
    "ax.set_xlabel(\"R1 obs\")\n",
    "ax.set_ylabel(\"R2 obs\")\n",
    "ax.set_zlabel(f\"time step\")\n",
    "\n",
    "plt.legend(bbox_to_anchor=(1.00, 1), loc='upper left', title='action')\n",
    "ax.set_title(\"Q-values of Lobster environment at node 0 (uncertainty obs)\")"
   ]
  },
  {
   "cell_type": "code",
   "execution_count": null,
   "id": "8d7b827c",
   "metadata": {},
   "outputs": [],
   "source": [
    "traj_unc = unc_res['obs'][0]\n",
    "\n",
    "reduced_obs_unc = get_distilled_obs(traj_unc)"
   ]
  },
  {
   "cell_type": "code",
   "execution_count": null,
   "id": "a7342e67",
   "metadata": {},
   "outputs": [],
   "source": [
    "\n",
    "fig = plt.figure(figsize=(8, 6), dpi=80)\n",
    "colors = (z/x.shape[0])[None, :]\n",
    "\n",
    "\n",
    "ax = fig.add_subplot(projection='3d')\n",
    "for i in range(1):\n",
    "    x = r1_ot_unc[i]\n",
    "    y = r2_ot_unc[i]\n",
    "    z = np.arange(x.shape[0])\n",
    "#     x = reduced_obs_unc[:, 1]\n",
    "#     y = reduced_obs_unc[:, 2]\n",
    "#     z = reduced_obs_unc[:, 0]\n",
    "\n",
    "    ax.scatter(x, y, z, c=z, cmap='viridis')\n",
    "    ax.plot3D(x, y, z, color=\"black\", linewidth=0.5)\n",
    "\n",
    "\n",
    "ax.set_xlabel(\"R1 obs\")\n",
    "ax.set_ylabel(\"R2 obs\")\n",
    "ax.set_zlabel(f\"time step\")\n",
    "\n",
    "plt.legend(bbox_to_anchor=(1.00, 1), loc='upper left', title='action')\n",
    "ax.set_title(\"Q-values of Lobster environment at node 0 (uncertainty obs)\")"
   ]
  },
  {
   "cell_type": "code",
   "execution_count": null,
   "id": "dd116041",
   "metadata": {},
   "outputs": [],
   "source": [
    "# Here we get all possible states for 2g, at node 0\n",
    "zero_obs_2g = np.zeros((4, 12))\n",
    "zero_obs_2g[np.arange(4), [0, 3, 6, 9]] = 1\n",
    "\n",
    "# so for unc encoding, 1 == observable and collected.\n",
    "ot_obs_2g = np.array([[0, 0], [1, 0], [0, 1], [1, 1]])"
   ]
  },
  {
   "cell_type": "code",
   "execution_count": null,
   "id": "c4e74efa",
   "metadata": {},
   "outputs": [],
   "source": [
    "\n",
    "# here we get all possible observations at node 0 for 2\n",
    "zero_obs_2 = np.array([[1., 0., 0., 0., 0., 1., 0., 0., 1.]])\n",
    "\n",
    "# all possible observations at node 0 for 2o\n",
    "discount = 0.95\n",
    "\n",
    "obs_2o_range_single = discount ** (np.arange(300) + 1)\n",
    "obs_2o_range_x, obs_2o_range_y = np.meshgrid(obs_2o_range_single, obs_2o_range_single)\n",
    "obs_2o_range = np.stack((obs_2o_range_x, obs_2o_range_y), axis=-1)\n",
    "ot_obs_2o = obs_2o_range.reshape(-1, 2)\n",
    "\n",
    "zero_obs_2o = np.repeat(zero_obs_2, ot_obs_2o.shape[0], axis=0)\n",
    "zero_obs_2o[:, [3, 6]] = ot_obs_2o"
   ]
  },
  {
   "cell_type": "code",
   "execution_count": null,
   "id": "ccfa45c4",
   "metadata": {},
   "outputs": [],
   "source": []
  },
  {
   "cell_type": "code",
   "execution_count": null,
   "id": "72697d24",
   "metadata": {},
   "outputs": [],
   "source": [
    "fa = 'linear'\n",
    "obs_agent_fname = Path(ROOT_DIR, 'results', f'2_{fa}_agent.pth')\n",
    "unc_agent_fname = Path(ROOT_DIR, 'results', f'2o_{fa}_agent.pth')\n",
    "gt_agent_fname = Path(ROOT_DIR, 'results', f'2g_{fa}_agent.pth')\n",
    "\n",
    "\n",
    "obs_agent = DQNAgent.load(obs_agent_fname, DQNAgent)\n",
    "unc_agent = DQNAgent.load(unc_agent_fname, DQNAgent)\n",
    "gt_agent = DQNAgent.load(gt_agent_fname, DQNAgent)"
   ]
  },
  {
   "cell_type": "code",
   "execution_count": null,
   "id": "6e9435b8",
   "metadata": {},
   "outputs": [],
   "source": [
    "all_zero_2_qs = obs_agent.Qs(zero_obs_2, obs_agent.network_params)\n",
    "all_zero_2o_qs = unc_agent.Qs(zero_obs_2o, unc_agent.network_params)\n",
    "all_zero_2g_qs = gt_agent.Qs(zero_obs_2g, gt_agent.network_params)\n",
    "\n",
    "range_2o = all_zero_2o_qs.max() - all_zero_2o_qs.min()\n",
    "range_2g = all_zero_2g_qs.max() - all_zero_2g_qs.min()\n",
    "\n",
    "\n",
    "normalized_2o_qs = (all_zero_2o_qs - all_zero_2o_qs.min()) / range_2o\n",
    "normalized_2g_qs = (all_zero_2g_qs - all_zero_2g_qs.min()) / range_2g"
   ]
  },
  {
   "cell_type": "code",
   "execution_count": null,
   "id": "cc9e6773",
   "metadata": {},
   "outputs": [],
   "source": []
  },
  {
   "cell_type": "code",
   "execution_count": null,
   "id": "b60f0613",
   "metadata": {},
   "outputs": [],
   "source": [
    "actions_to_plot = [1, 0]\n",
    "action_mapping = ['left', 'right', 'collect']\n",
    "actions_to_color = ['rgb(241, 196, 15)', 'rgb(52, 152, 219)']\n",
    "\n",
    "fig = go.Figure(layout=go.Layout(\n",
    "    scene = dict(\n",
    "        xaxis = dict(\n",
    "            title='R1 Obs'),\n",
    "        yaxis = dict(\n",
    "            title='R2 Obs'),\n",
    "        zaxis = dict(\n",
    "            title='Normalized Q'),\n",
    "    ),\n",
    "\n",
    "))\n",
    "\n",
    "for action in actions_to_plot:\n",
    "    z_2o = normalized_2o_qs[:, action]\n",
    "    trace_2o = go.Scatter3d(\n",
    "        x=ot_obs_2o[:, 0], \n",
    "        y=ot_obs_2o[:, 1], \n",
    "        z=z_2o, \n",
    "        name=f\"uncertainty {action_mapping[action]}\",\n",
    "        mode='markers',\n",
    "        marker={\n",
    "            'size': 2,\n",
    "            'color': actions_to_color[action],\n",
    "            'symbol': 'circle'\n",
    "        }\n",
    "    )\n",
    "    fig.add_trace(trace_2o)\n",
    "        \n",
    "    z_2g = normalized_2g_qs[:, action]\n",
    "    trace_2g = go.Scatter3d(\n",
    "        x=ot_obs_2g[:, 0], \n",
    "        y=ot_obs_2g[:, 1], \n",
    "        z=z_2g,\n",
    "        name=f\"ground-truth {action_mapping[action]}\",\n",
    "        mode='markers',\n",
    "        marker={\n",
    "            'size': 10,\n",
    "            'color': actions_to_color[action],\n",
    "            'symbol': 'cross',\n",
    "            'line': dict(width=0.5, color=\"black\")\n",
    "        }\n",
    "    )\n",
    "    fig.add_trace(trace_2g)\n",
    "#     mlab.points3d(ot_obs_2g[:, 0], ot_obs_2g[:, 1], z_2g, figure=mfig, color=tuple(actions_to_color[action]), mode='axes', scale_factor=0.055)\n",
    "\n",
    "#     ax.scatter(ot_obs_2g[:, 0], ot_obs_2g[:, 1], z_2g, cmap='viridis', linewidth=0.5, label=action_mapping[action])\n",
    "\n",
    "# plt.legend(bbox_to_anchor=(1.00, 1), loc='upper left', title='action')\n",
    "# ax.set_title(\"Q-values of Lobster environment at node 0 (uncertainty obs)\")\n",
    "\n",
    "\n",
    "fig.show()"
   ]
  },
  {
   "cell_type": "code",
   "execution_count": null,
   "id": "8313b2e0",
   "metadata": {},
   "outputs": [],
   "source": [
    "all_zero_2g_qs.max()"
   ]
  },
  {
   "cell_type": "code",
   "execution_count": null,
   "id": "4bcc6f80",
   "metadata": {},
   "outputs": [],
   "source": [
    "actions_to_plot = [0, 1]\n",
    "action_mapping = ['left', 'right', 'collect']\n",
    "actions_to_color = [\"orange\", \"blue\"]\n",
    "\n",
    "fig = plt.figure(figsize=(8, 6), dpi=80)\n",
    "\n",
    "ax = fig.add_subplot(projection='3d')\n",
    "ax.view_init(32, 195)\n",
    "\n",
    "ax.set_xlim(-0.1, 0.9)\n",
    "ax.set_ylim(-0.1, 0.9)\n",
    "ax.set_zlim(0.8, 1.4)\n",
    "\n",
    "\n",
    "ax.set_xlabel(\"R1 obs\")\n",
    "ax.set_ylabel(\"R2 obs\")\n",
    "ax.set_zlabel(f\"Q\")\n",
    "\n",
    "for action in actions_to_plot:\n",
    "    z = all_zero_2_qs[:, action]\n",
    "    ax.scatter(0, 0, z, cmap='viridis', linewidth=0.5, label=action_mapping[action])\n",
    "\n",
    "plt.legend(bbox_to_anchor=(1.00, 1), loc='upper left', title='action')\n",
    "ax.set_title(\"Q-values of Lobster environment at node 0 (normal obs)\")"
   ]
  },
  {
   "cell_type": "code",
   "execution_count": null,
   "id": "c608df07",
   "metadata": {},
   "outputs": [],
   "source": []
  }
 ],
 "metadata": {
  "kernelspec": {
   "display_name": "Python 3 (ipykernel)",
   "language": "python",
   "name": "python3"
  },
  "language_info": {
   "codemirror_mode": {
    "name": "ipython",
    "version": 3
   },
   "file_extension": ".py",
   "mimetype": "text/x-python",
   "name": "python",
   "nbconvert_exporter": "python",
   "pygments_lexer": "ipython3",
   "version": "3.8.10"
  }
 },
 "nbformat": 4,
 "nbformat_minor": 5
}
