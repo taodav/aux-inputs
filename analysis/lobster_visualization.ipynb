{
 "cells": [
  {
   "cell_type": "code",
   "execution_count": 19,
   "id": "f5d657a8",
   "metadata": {},
   "outputs": [],
   "source": [
    "import numpy as np\n",
    "import matplotlib.pyplot as plt\n",
    "from pathlib import Path\n",
    "import plotly.express as px\n",
    "import plotly.graph_objects as go\n",
    "from plotly.subplots import make_subplots\n",
    "from itertools import product\n",
    "\n",
    "from unc.utils import load_info\n",
    "from unc.agents import Agent, DQNAgent\n",
    "from definitions import ROOT_DIR\n",
    "from unc.envs.wrappers.lobster.belief import get_lobster_state_map"
   ]
  },
  {
   "cell_type": "code",
   "execution_count": 20,
   "id": "196f5a16",
   "metadata": {},
   "outputs": [],
   "source": [
    "data_path = Path(ROOT_DIR, 'results', 'lobster_data.npy')\n",
    "lobster_data = np.load(data_path, allow_pickle=True).item()\n",
    "pb_data = lobster_data['2pb']\n",
    "# gvf_data = lobster_data['2f']"
   ]
  },
  {
   "cell_type": "code",
   "execution_count": 21,
   "id": "c8530e4a",
   "metadata": {},
   "outputs": [],
   "source": [
    "# gvf_obs = gvf_data['obs'].reshape(-1, gvf_data['obs'].shape[-1])\n",
    "# gvf_states = gvf_data['states'].reshape(-1, gvf_data['states'].shape[-1])\n",
    "# gvf_predictions = gvf_obs[:, -2:]\n",
    "# gvf_zero_obs_mask = gvf_obs[:, 0] == 1\n",
    "# gvf_zero_obs = gvf_obs[gvf_zero_obs_mask]\n",
    "\n",
    "# gvf_zero_predictions = gvf_predictions[gvf_zero_obs_mask]\n",
    "# gvf_zero_predictions_range = gvf_zero_predictions.max(axis=0) - gvf_zero_predictions.min(axis=0)\n",
    "# gvf_zero_predictions_normalized = (gvf_zero_predictions - gvf_zero_predictions.min(axis=0)) / gvf_zero_predictions_range\n",
    "# gvf_zero_predictions_normalized.shape\n",
    "# gvf_predictions"
   ]
  },
  {
   "cell_type": "code",
   "execution_count": 22,
   "id": "2304bd6a",
   "metadata": {},
   "outputs": [],
   "source": [
    "# L1_reward_observed = np.nonzero(gvf_obs[:, 4] == 1)[0]\n",
    "# L1_reward_not_observed = np.nonzero(gvf_obs[:, 3] == 1)[0]\n",
    "# L1_reward_present = np.nonzero(gvf_states[:, 1] == 1)[0]\n",
    "# L1_position = gvf_states[L1_reward_present, 0]\n",
    "# zero_position = gvf_states[:, 0] == 0\n",
    "# zero_L1_reward_present = zero_position & (gvf_states[:, 1] == 1)\n",
    "# zero_L1_reward_not_present = zero_position & (gvf_states[:, 1] == 0)\n",
    "# # gvf_predictions[(gvf_obs[:, 4] == 1), 0].mean(), gvf_predictions[(gvf_obs[:, 3] == 1), 0].mean()\n",
    "# np.nonzero(zero_L1_reward_present)[0][:10], gvf_predictions[[6, 7, 8, 9, 10], 0]"
   ]
  },
  {
   "cell_type": "code",
   "execution_count": 23,
   "id": "a8a557ab",
   "metadata": {},
   "outputs": [
    {
     "data": {
      "text/plain": [
       "(array([[0.67423829, 0.67423829, 0.67195555],\n",
       "        [1.44421562, 1.22964733, 1.31641296],\n",
       "        [1.22964733, 1.44421562, 1.31641296],\n",
       "        [1.83245927, 1.83245927, 1.64921334]]),\n",
       " array([[0, 0, 0],\n",
       "        [0, 1, 0],\n",
       "        [0, 0, 1],\n",
       "        [0, 1, 1]]))"
      ]
     },
     "execution_count": 23,
     "metadata": {},
     "output_type": "execute_result"
    }
   ],
   "source": [
    "optimal_lobster_fpath = Path(ROOT_DIR, 'results', 'optimal_lobster_results.npy')\n",
    "\n",
    "optimal_lobster_res = load_info(optimal_lobster_fpath)\n",
    "optimal_q = optimal_lobster_res['qs']\n",
    "state_to_idx = optimal_lobster_res['state_to_idx']\n",
    "zero_states = np.array([[0, 0, 0], [0, 1, 0], [0, 0, 1], [0, 1, 1]])\n",
    "optimal_zero_qs = []\n",
    "for zero_state in zero_states:\n",
    "    idx = state_to_idx[str(zero_state)]\n",
    "    optimal_zero_qs.append(optimal_q[idx])\n",
    "optimal_zero_qs = np.stack(optimal_zero_qs)\n",
    "optimal_zero_qs, zero_states"
   ]
  },
  {
   "cell_type": "code",
   "execution_count": 24,
   "id": "926fc7e8",
   "metadata": {},
   "outputs": [
    {
     "data": {
      "text/plain": [
       "([2, 3], [1, 3])"
      ]
     },
     "execution_count": 24,
     "metadata": {},
     "output_type": "execute_result"
    }
   ],
   "source": [
    "tol = 0.001\n",
    "pb_state_map = get_lobster_state_map()\n",
    "\n",
    "pb_obs = pb_data['obs'].reshape(-1, pb_data['obs'].shape[-1])\n",
    "# pb_unique_obs = np.unique(np.floor(pb_obs / tol).astype(int), axis=0) * tol\n",
    "pb_zero_obs_mask = (pb_obs[:, :4].sum(axis=-1) > 0) & (pb_obs[:, 4:].sum(axis=-1) == 0)\n",
    "pb_zero_obs = pb_obs[pb_zero_obs_mask]\n",
    "# pb_0_obs = np.unique(pb_unique_obs[:, :4], axis=0)\n",
    "r1_pb_states = [pb_state_map[0, 1, 0], pb_state_map[0, 1, 1]]\n",
    "r2_pb_states = [pb_state_map[0, 0, 1], pb_state_map[0, 1, 1]]\n",
    "r1_pb_states, r2_pb_states"
   ]
  },
  {
   "cell_type": "code",
   "execution_count": 25,
   "id": "823ef213",
   "metadata": {},
   "outputs": [],
   "source": [
    "# bins = np.linspace(0, 1, 50)\n",
    "# # node_0_maybe_r1_states = [1, 3]\n",
    "# fig, ax = plt.figure(), plt.axes()\n",
    "\n",
    "# # ax.hist(pb_0_obs[:, node_0_maybe_r1_states].sum(axis=-1), bins=bins, color='blue', label=state, alpha=0.75, edgecolor='black', linewidth=1)\n",
    "# ax.hist(gvf_zero_predictions_normalized[:, 1], bins=bins, color='blue', label=1, alpha=0.75, edgecolor='black', linewidth=1)\n",
    "\n",
    "# # ax.set_xlabel('AUC over 50K steps')\n",
    "# ax.set_ylabel(f\"Frequency\", rotation=0, labelpad=35)\n",
    "# plt.legend(bbox_to_anchor=(1.00, 1), loc='upper left')"
   ]
  },
  {
   "cell_type": "code",
   "execution_count": 26,
   "id": "599a901b",
   "metadata": {},
   "outputs": [],
   "source": [
    "# Likelihood Predictions\n",
    "# all possible states for 2e\n",
    "counts = np.arange(201)\n",
    "rate = 1 / 10\n",
    "likelihoods = np.exp(-counts * rate)\n",
    "all_possible_likelihoods = np.array(list(product(likelihoods, likelihoods)))\n",
    "all_possible_likelihoods\n",
    "all_zero_obs_2e = np.zeros((all_possible_likelihoods.shape[0], 9))\n",
    "all_zero_obs_2e[:, [4, 7]] = all_possible_likelihoods"
   ]
  },
  {
   "cell_type": "code",
   "execution_count": 27,
   "id": "dd116041",
   "metadata": {},
   "outputs": [],
   "source": [
    "## Here we get all possible states for 2g, at node 0\n",
    "zero_obs_2g = np.zeros((4, 12))\n",
    "zero_obs_2g[:, :4] = 1\n",
    "\n",
    "# so for unc encoding, 1 == observable and collected.\n",
    "ot_obs_2g = np.array([[0, 0], [1, 0], [0, 1], [1, 1]])\n",
    "\n",
    "# For particle filter belief state, we simply find distribution over first four states\n",
    "r1r2 = np.mgrid[0:1.:0.05, 0:1.:0.05].reshape(2,-1).T\n",
    "r1_and_r2 = r1r2[:, 0] * r1r2[:, 1]\n",
    "not_r1_and_r2 = np.expand_dims(1 - r1_and_r2, -1)\n",
    "r1_and_r2 = np.expand_dims(r1_and_r2, -1)\n",
    "\n",
    "zero_obs_2pb = np.concatenate([not_r1_and_r2, r1r2, r1_and_r2, np.zeros((r1r2.shape[0], 12 - 4))], axis=-1)\n"
   ]
  },
  {
   "cell_type": "code",
   "execution_count": 28,
   "id": "c4e74efa",
   "metadata": {},
   "outputs": [],
   "source": [
    "\n",
    "# here we get all possible observations at node 0 for 2\n",
    "zero_obs_2 = np.array([[1., 0., 0., 0., 0., 1., 0., 0., 1.]])\n",
    "\n",
    "# all possible observations at node 0 for 2o\n",
    "discount = 0.95\n",
    "\n",
    "obs_2o_range_single = discount ** (np.arange(300) + 1)\n",
    "obs_2o_range_x, obs_2o_range_y = np.meshgrid(obs_2o_range_single, obs_2o_range_single)\n",
    "obs_2o_range = np.stack((obs_2o_range_x, obs_2o_range_y), axis=-1)\n",
    "ot_obs_2o = obs_2o_range.reshape(-1, 2)\n",
    "\n",
    "zero_obs_2o = np.repeat(zero_obs_2, ot_obs_2o.shape[0], axis=0)\n",
    "zero_obs_2o[:, [3, 6]] = ot_obs_2o"
   ]
  },
  {
   "cell_type": "code",
   "execution_count": 29,
   "id": "72697d24",
   "metadata": {},
   "outputs": [],
   "source": [
    "fa = 'linear'\n",
    "obs_agent_fname = Path(ROOT_DIR, 'results', f'2_{fa}_agent.pth')\n",
    "unc_agent_fname = Path(ROOT_DIR, 'results', f'2o_{fa}_agent.pth')\n",
    "# gt_agent_fname = Path(ROOT_DIR, 'results', f'2g_{fa}_agent.pth')\n",
    "pb_agent_fname = Path(ROOT_DIR, 'results', f'2pb_{fa}_agent.pth')\n",
    "# gvf_agent_fname = Path(ROOT_DIR, 'results', f'2f_{fa}_agent.pth')\n",
    "pred_agent_fname = Path(ROOT_DIR, 'results', f'2e_{fa}_agent.pth')\n",
    "\n",
    "\n",
    "\n",
    "obs_agent = DQNAgent.load(obs_agent_fname, DQNAgent)\n",
    "unc_agent = DQNAgent.load(unc_agent_fname, DQNAgent)\n",
    "# gt_agent = DQNAgent.load(gt_agent_fname, DQNAgent)\n",
    "pb_agent = DQNAgent.load(pb_agent_fname, DQNAgent)\n",
    "# gvf_agent = DQNAgent.load(gvf_agent_fname, DQNAgent)\n",
    "pred_agent = DQNAgent.load(pred_agent_fname, DQNAgent)\n"
   ]
  },
  {
   "cell_type": "code",
   "execution_count": 30,
   "id": "bdeb9ce6",
   "metadata": {},
   "outputs": [],
   "source": [
    "# gvf_agent.network_params['linear']['w'][-2:], pb_agent.network_params['linear']['w'].shape"
   ]
  },
  {
   "cell_type": "code",
   "execution_count": 31,
   "id": "6e9435b8",
   "metadata": {},
   "outputs": [],
   "source": [
    "all_zero_2_qs = obs_agent.Qs(zero_obs_2, obs_agent.network_params)\n",
    "all_zero_2o_qs = unc_agent.Qs(zero_obs_2o, unc_agent.network_params)\n",
    "# all_zero_2g_qs = gt_agent.Qs(zero_obs_2g, gt_agent.network_params)\n",
    "all_zero_2pb_qs = pb_agent.Qs(pb_zero_obs, pb_agent.network_params)\n",
    "# all_zero_2pb_qs = pb_agent.Qs(zero_obs_2pb, pb_agent.network_params)\n",
    "# all_zero_2f_qs = gvf_agent.Qs(gvf_zero_obs, gvf_agent.network_params)\n",
    "all_zero_2e_qs = pred_agent.Qs(all_zero_obs_2e, pred_agent.network_params)[:, :2]\n",
    "\n",
    "\n",
    "\n",
    "range_2 = all_zero_2_qs.max() - all_zero_2_qs.min()\n",
    "range_2o = all_zero_2o_qs.max() - all_zero_2o_qs.min()\n",
    "range_optimal = optimal_zero_qs.max() - optimal_zero_qs.min()\n",
    "# range_2g = all_zero_2g_qs.max() - all_zero_2g_qs.min()\n",
    "range_2pb = all_zero_2pb_qs.max() - all_zero_2pb_qs.min()\n",
    "# range_2f = all_zero_2f_qs.max() - all_zero_2f_qs.min()\n",
    "range_2e = all_zero_2e_qs.max() - all_zero_2e_qs.min()\n",
    "\n",
    "\n",
    "normalized_2_qs = (all_zero_2_qs - all_zero_2_qs.min()) / range_optimal\n",
    "normalized_2o_qs = (all_zero_2o_qs - all_zero_2o_qs.min()) / range_2o\n",
    "normalized_optimal_qs = (optimal_zero_qs - optimal_zero_qs.min()) / range_optimal\n",
    "# normalized_2g_qs = (all_zero_2g_qs - all_zero_2g_qs.min()) / range_2g\n",
    "normalized_2pb_qs = (all_zero_2pb_qs - all_zero_2pb_qs.min()) / range_2pb\n",
    "# normalized_2f_qs = (all_zero_2f_qs - all_zero_2f_qs.min()) / range_2f\n",
    "normalized_2e_qs = (all_zero_2e_qs - all_zero_2e_qs.min()) / range_2e\n"
   ]
  },
  {
   "cell_type": "code",
   "execution_count": 32,
   "id": "ed1d54e3",
   "metadata": {},
   "outputs": [
    {
     "data": {
      "text/plain": [
       "Array([[0.64435005, 0.9701441 ],\n",
       "       [0.6602192 , 0.90487957],\n",
       "       [0.6745782 , 0.84582573],\n",
       "       ...,\n",
       "       [0.16675834, 0.31417853],\n",
       "       [0.16675834, 0.31417853],\n",
       "       [0.16675834, 0.31417853]], dtype=float32)"
      ]
     },
     "execution_count": 32,
     "metadata": {},
     "output_type": "execute_result"
    }
   ],
   "source": [
    "normalized_2e_qs"
   ]
  },
  {
   "cell_type": "code",
   "execution_count": 38,
   "id": "b60f0613",
   "metadata": {},
   "outputs": [
    {
     "data": {
      "application/vnd.plotly.v1+json": {
       "config": {
        "plotlyServerURL": "https://plot.ly"
       },
       "data": [
        {
         "marker": {
          "color": "rgb(241, 196, 15)",
          "line": {
           "color": "black",
           "width": 0.5
          },
          "size": 5,
          "symbol": "diamond"
         },
         "mode": "markers",
         "name": "Observations",
         "type": "scatter3d",
         "x": [
          0
         ],
         "y": [
          0
         ],
         "z": [
          0.04738222807645798
         ]
        }
       ],
       "layout": {
        "font": {
         "size": 18
        },
        "margin": {
         "b": 0,
         "l": 0,
         "r": 0,
         "t": 0
        },
        "scene": {
         "camera": {
          "center": {
           "x": 0,
           "y": 0,
           "z": -0.2
          },
          "eye": {
           "x": -1.7,
           "y": -0.85,
           "z": 0.6
          },
          "up": {
           "x": 0,
           "y": 0,
           "z": 1
          }
         },
         "xaxis": {
          "backgroundcolor": "rgb(255, 255, 255)",
          "gridcolor": "rgb(189, 195, 199)",
          "range": [
           -0.1,
           1.1
          ],
          "tickangle": 0,
          "tickvals": [
           0,
           1
          ],
          "title": {
           "text": "r(L1) feature"
          }
         },
         "yaxis": {
          "backgroundcolor": "rgb(255, 255, 255)",
          "gridcolor": "rgb(189, 195, 199)",
          "range": [
           -0.1,
           1.1
          ],
          "tickangle": 0,
          "tickvals": [
           0,
           1
          ],
          "title": {
           "text": "r(L2) feature"
          }
         },
         "zaxis": {
          "backgroundcolor": "rgb(255, 255, 255)",
          "gridcolor": "rgb(189, 195, 199)",
          "range": [
           -0.05,
           1.05
          ],
          "tickangle": 0,
          "tickvals": [
           0,
           1
          ],
          "title": {
           "text": "Normalized Q"
          }
         }
        },
        "showlegend": true,
        "template": {
         "data": {
          "bar": [
           {
            "error_x": {
             "color": "#2a3f5f"
            },
            "error_y": {
             "color": "#2a3f5f"
            },
            "marker": {
             "line": {
              "color": "#E5ECF6",
              "width": 0.5
             },
             "pattern": {
              "fillmode": "overlay",
              "size": 10,
              "solidity": 0.2
             }
            },
            "type": "bar"
           }
          ],
          "barpolar": [
           {
            "marker": {
             "line": {
              "color": "#E5ECF6",
              "width": 0.5
             },
             "pattern": {
              "fillmode": "overlay",
              "size": 10,
              "solidity": 0.2
             }
            },
            "type": "barpolar"
           }
          ],
          "carpet": [
           {
            "aaxis": {
             "endlinecolor": "#2a3f5f",
             "gridcolor": "white",
             "linecolor": "white",
             "minorgridcolor": "white",
             "startlinecolor": "#2a3f5f"
            },
            "baxis": {
             "endlinecolor": "#2a3f5f",
             "gridcolor": "white",
             "linecolor": "white",
             "minorgridcolor": "white",
             "startlinecolor": "#2a3f5f"
            },
            "type": "carpet"
           }
          ],
          "choropleth": [
           {
            "colorbar": {
             "outlinewidth": 0,
             "ticks": ""
            },
            "type": "choropleth"
           }
          ],
          "contour": [
           {
            "colorbar": {
             "outlinewidth": 0,
             "ticks": ""
            },
            "colorscale": [
             [
              0,
              "#0d0887"
             ],
             [
              0.1111111111111111,
              "#46039f"
             ],
             [
              0.2222222222222222,
              "#7201a8"
             ],
             [
              0.3333333333333333,
              "#9c179e"
             ],
             [
              0.4444444444444444,
              "#bd3786"
             ],
             [
              0.5555555555555556,
              "#d8576b"
             ],
             [
              0.6666666666666666,
              "#ed7953"
             ],
             [
              0.7777777777777778,
              "#fb9f3a"
             ],
             [
              0.8888888888888888,
              "#fdca26"
             ],
             [
              1,
              "#f0f921"
             ]
            ],
            "type": "contour"
           }
          ],
          "contourcarpet": [
           {
            "colorbar": {
             "outlinewidth": 0,
             "ticks": ""
            },
            "type": "contourcarpet"
           }
          ],
          "heatmap": [
           {
            "colorbar": {
             "outlinewidth": 0,
             "ticks": ""
            },
            "colorscale": [
             [
              0,
              "#0d0887"
             ],
             [
              0.1111111111111111,
              "#46039f"
             ],
             [
              0.2222222222222222,
              "#7201a8"
             ],
             [
              0.3333333333333333,
              "#9c179e"
             ],
             [
              0.4444444444444444,
              "#bd3786"
             ],
             [
              0.5555555555555556,
              "#d8576b"
             ],
             [
              0.6666666666666666,
              "#ed7953"
             ],
             [
              0.7777777777777778,
              "#fb9f3a"
             ],
             [
              0.8888888888888888,
              "#fdca26"
             ],
             [
              1,
              "#f0f921"
             ]
            ],
            "type": "heatmap"
           }
          ],
          "heatmapgl": [
           {
            "colorbar": {
             "outlinewidth": 0,
             "ticks": ""
            },
            "colorscale": [
             [
              0,
              "#0d0887"
             ],
             [
              0.1111111111111111,
              "#46039f"
             ],
             [
              0.2222222222222222,
              "#7201a8"
             ],
             [
              0.3333333333333333,
              "#9c179e"
             ],
             [
              0.4444444444444444,
              "#bd3786"
             ],
             [
              0.5555555555555556,
              "#d8576b"
             ],
             [
              0.6666666666666666,
              "#ed7953"
             ],
             [
              0.7777777777777778,
              "#fb9f3a"
             ],
             [
              0.8888888888888888,
              "#fdca26"
             ],
             [
              1,
              "#f0f921"
             ]
            ],
            "type": "heatmapgl"
           }
          ],
          "histogram": [
           {
            "marker": {
             "pattern": {
              "fillmode": "overlay",
              "size": 10,
              "solidity": 0.2
             }
            },
            "type": "histogram"
           }
          ],
          "histogram2d": [
           {
            "colorbar": {
             "outlinewidth": 0,
             "ticks": ""
            },
            "colorscale": [
             [
              0,
              "#0d0887"
             ],
             [
              0.1111111111111111,
              "#46039f"
             ],
             [
              0.2222222222222222,
              "#7201a8"
             ],
             [
              0.3333333333333333,
              "#9c179e"
             ],
             [
              0.4444444444444444,
              "#bd3786"
             ],
             [
              0.5555555555555556,
              "#d8576b"
             ],
             [
              0.6666666666666666,
              "#ed7953"
             ],
             [
              0.7777777777777778,
              "#fb9f3a"
             ],
             [
              0.8888888888888888,
              "#fdca26"
             ],
             [
              1,
              "#f0f921"
             ]
            ],
            "type": "histogram2d"
           }
          ],
          "histogram2dcontour": [
           {
            "colorbar": {
             "outlinewidth": 0,
             "ticks": ""
            },
            "colorscale": [
             [
              0,
              "#0d0887"
             ],
             [
              0.1111111111111111,
              "#46039f"
             ],
             [
              0.2222222222222222,
              "#7201a8"
             ],
             [
              0.3333333333333333,
              "#9c179e"
             ],
             [
              0.4444444444444444,
              "#bd3786"
             ],
             [
              0.5555555555555556,
              "#d8576b"
             ],
             [
              0.6666666666666666,
              "#ed7953"
             ],
             [
              0.7777777777777778,
              "#fb9f3a"
             ],
             [
              0.8888888888888888,
              "#fdca26"
             ],
             [
              1,
              "#f0f921"
             ]
            ],
            "type": "histogram2dcontour"
           }
          ],
          "mesh3d": [
           {
            "colorbar": {
             "outlinewidth": 0,
             "ticks": ""
            },
            "type": "mesh3d"
           }
          ],
          "parcoords": [
           {
            "line": {
             "colorbar": {
              "outlinewidth": 0,
              "ticks": ""
             }
            },
            "type": "parcoords"
           }
          ],
          "pie": [
           {
            "automargin": true,
            "type": "pie"
           }
          ],
          "scatter": [
           {
            "fillpattern": {
             "fillmode": "overlay",
             "size": 10,
             "solidity": 0.2
            },
            "type": "scatter"
           }
          ],
          "scatter3d": [
           {
            "line": {
             "colorbar": {
              "outlinewidth": 0,
              "ticks": ""
             }
            },
            "marker": {
             "colorbar": {
              "outlinewidth": 0,
              "ticks": ""
             }
            },
            "type": "scatter3d"
           }
          ],
          "scattercarpet": [
           {
            "marker": {
             "colorbar": {
              "outlinewidth": 0,
              "ticks": ""
             }
            },
            "type": "scattercarpet"
           }
          ],
          "scattergeo": [
           {
            "marker": {
             "colorbar": {
              "outlinewidth": 0,
              "ticks": ""
             }
            },
            "type": "scattergeo"
           }
          ],
          "scattergl": [
           {
            "marker": {
             "colorbar": {
              "outlinewidth": 0,
              "ticks": ""
             }
            },
            "type": "scattergl"
           }
          ],
          "scattermapbox": [
           {
            "marker": {
             "colorbar": {
              "outlinewidth": 0,
              "ticks": ""
             }
            },
            "type": "scattermapbox"
           }
          ],
          "scatterpolar": [
           {
            "marker": {
             "colorbar": {
              "outlinewidth": 0,
              "ticks": ""
             }
            },
            "type": "scatterpolar"
           }
          ],
          "scatterpolargl": [
           {
            "marker": {
             "colorbar": {
              "outlinewidth": 0,
              "ticks": ""
             }
            },
            "type": "scatterpolargl"
           }
          ],
          "scatterternary": [
           {
            "marker": {
             "colorbar": {
              "outlinewidth": 0,
              "ticks": ""
             }
            },
            "type": "scatterternary"
           }
          ],
          "surface": [
           {
            "colorbar": {
             "outlinewidth": 0,
             "ticks": ""
            },
            "colorscale": [
             [
              0,
              "#0d0887"
             ],
             [
              0.1111111111111111,
              "#46039f"
             ],
             [
              0.2222222222222222,
              "#7201a8"
             ],
             [
              0.3333333333333333,
              "#9c179e"
             ],
             [
              0.4444444444444444,
              "#bd3786"
             ],
             [
              0.5555555555555556,
              "#d8576b"
             ],
             [
              0.6666666666666666,
              "#ed7953"
             ],
             [
              0.7777777777777778,
              "#fb9f3a"
             ],
             [
              0.8888888888888888,
              "#fdca26"
             ],
             [
              1,
              "#f0f921"
             ]
            ],
            "type": "surface"
           }
          ],
          "table": [
           {
            "cells": {
             "fill": {
              "color": "#EBF0F8"
             },
             "line": {
              "color": "white"
             }
            },
            "header": {
             "fill": {
              "color": "#C8D4E3"
             },
             "line": {
              "color": "white"
             }
            },
            "type": "table"
           }
          ]
         },
         "layout": {
          "annotationdefaults": {
           "arrowcolor": "#2a3f5f",
           "arrowhead": 0,
           "arrowwidth": 1
          },
          "autotypenumbers": "strict",
          "coloraxis": {
           "colorbar": {
            "outlinewidth": 0,
            "ticks": ""
           }
          },
          "colorscale": {
           "diverging": [
            [
             0,
             "#8e0152"
            ],
            [
             0.1,
             "#c51b7d"
            ],
            [
             0.2,
             "#de77ae"
            ],
            [
             0.3,
             "#f1b6da"
            ],
            [
             0.4,
             "#fde0ef"
            ],
            [
             0.5,
             "#f7f7f7"
            ],
            [
             0.6,
             "#e6f5d0"
            ],
            [
             0.7,
             "#b8e186"
            ],
            [
             0.8,
             "#7fbc41"
            ],
            [
             0.9,
             "#4d9221"
            ],
            [
             1,
             "#276419"
            ]
           ],
           "sequential": [
            [
             0,
             "#0d0887"
            ],
            [
             0.1111111111111111,
             "#46039f"
            ],
            [
             0.2222222222222222,
             "#7201a8"
            ],
            [
             0.3333333333333333,
             "#9c179e"
            ],
            [
             0.4444444444444444,
             "#bd3786"
            ],
            [
             0.5555555555555556,
             "#d8576b"
            ],
            [
             0.6666666666666666,
             "#ed7953"
            ],
            [
             0.7777777777777778,
             "#fb9f3a"
            ],
            [
             0.8888888888888888,
             "#fdca26"
            ],
            [
             1,
             "#f0f921"
            ]
           ],
           "sequentialminus": [
            [
             0,
             "#0d0887"
            ],
            [
             0.1111111111111111,
             "#46039f"
            ],
            [
             0.2222222222222222,
             "#7201a8"
            ],
            [
             0.3333333333333333,
             "#9c179e"
            ],
            [
             0.4444444444444444,
             "#bd3786"
            ],
            [
             0.5555555555555556,
             "#d8576b"
            ],
            [
             0.6666666666666666,
             "#ed7953"
            ],
            [
             0.7777777777777778,
             "#fb9f3a"
            ],
            [
             0.8888888888888888,
             "#fdca26"
            ],
            [
             1,
             "#f0f921"
            ]
           ]
          },
          "colorway": [
           "#636efa",
           "#EF553B",
           "#00cc96",
           "#ab63fa",
           "#FFA15A",
           "#19d3f3",
           "#FF6692",
           "#B6E880",
           "#FF97FF",
           "#FECB52"
          ],
          "font": {
           "color": "#2a3f5f"
          },
          "geo": {
           "bgcolor": "white",
           "lakecolor": "white",
           "landcolor": "#E5ECF6",
           "showlakes": true,
           "showland": true,
           "subunitcolor": "white"
          },
          "hoverlabel": {
           "align": "left"
          },
          "hovermode": "closest",
          "mapbox": {
           "style": "light"
          },
          "paper_bgcolor": "white",
          "plot_bgcolor": "#E5ECF6",
          "polar": {
           "angularaxis": {
            "gridcolor": "white",
            "linecolor": "white",
            "ticks": ""
           },
           "bgcolor": "#E5ECF6",
           "radialaxis": {
            "gridcolor": "white",
            "linecolor": "white",
            "ticks": ""
           }
          },
          "scene": {
           "xaxis": {
            "backgroundcolor": "#E5ECF6",
            "gridcolor": "white",
            "gridwidth": 2,
            "linecolor": "white",
            "showbackground": true,
            "ticks": "",
            "zerolinecolor": "white"
           },
           "yaxis": {
            "backgroundcolor": "#E5ECF6",
            "gridcolor": "white",
            "gridwidth": 2,
            "linecolor": "white",
            "showbackground": true,
            "ticks": "",
            "zerolinecolor": "white"
           },
           "zaxis": {
            "backgroundcolor": "#E5ECF6",
            "gridcolor": "white",
            "gridwidth": 2,
            "linecolor": "white",
            "showbackground": true,
            "ticks": "",
            "zerolinecolor": "white"
           }
          },
          "shapedefaults": {
           "line": {
            "color": "#2a3f5f"
           }
          },
          "ternary": {
           "aaxis": {
            "gridcolor": "white",
            "linecolor": "white",
            "ticks": ""
           },
           "baxis": {
            "gridcolor": "white",
            "linecolor": "white",
            "ticks": ""
           },
           "bgcolor": "#E5ECF6",
           "caxis": {
            "gridcolor": "white",
            "linecolor": "white",
            "ticks": ""
           }
          },
          "title": {
           "x": 0.05
          },
          "xaxis": {
           "automargin": true,
           "gridcolor": "white",
           "linecolor": "white",
           "ticks": "",
           "title": {
            "standoff": 15
           },
           "zerolinecolor": "white",
           "zerolinewidth": 2
          },
          "yaxis": {
           "automargin": true,
           "gridcolor": "white",
           "linecolor": "white",
           "ticks": "",
           "title": {
            "standoff": 15
           },
           "zerolinecolor": "white",
           "zerolinewidth": 2
          }
         }
        }
       }
      },
      "text/html": [
       "<div>                            <div id=\"5e110a93-670e-4ba4-9f01-35a4c1038eaf\" class=\"plotly-graph-div\" style=\"height:525px; width:100%;\"></div>            <script type=\"text/javascript\">                require([\"plotly\"], function(Plotly) {                    window.PLOTLYENV=window.PLOTLYENV || {};                                    if (document.getElementById(\"5e110a93-670e-4ba4-9f01-35a4c1038eaf\")) {                    Plotly.newPlot(                        \"5e110a93-670e-4ba4-9f01-35a4c1038eaf\",                        [{\"marker\":{\"color\":\"rgb(241, 196, 15)\",\"line\":{\"color\":\"black\",\"width\":0.5},\"size\":5,\"symbol\":\"diamond\"},\"mode\":\"markers\",\"name\":\"Observations\",\"x\":[0],\"y\":[0],\"z\":[0.04738222807645798],\"type\":\"scatter3d\"}],                        {\"font\":{\"size\":18},\"margin\":{\"b\":0,\"l\":0,\"r\":0,\"t\":0},\"scene\":{\"xaxis\":{\"backgroundcolor\":\"rgb(255, 255, 255)\",\"gridcolor\":\"rgb(189, 195, 199)\",\"range\":[-0.1,1.1],\"tickangle\":0,\"tickvals\":[0,1],\"title\":{\"text\":\"r(L1) feature\"}},\"yaxis\":{\"backgroundcolor\":\"rgb(255, 255, 255)\",\"gridcolor\":\"rgb(189, 195, 199)\",\"range\":[-0.1,1.1],\"tickangle\":0,\"tickvals\":[0,1],\"title\":{\"text\":\"r(L2) feature\"}},\"zaxis\":{\"backgroundcolor\":\"rgb(255, 255, 255)\",\"gridcolor\":\"rgb(189, 195, 199)\",\"range\":[-0.05,1.05],\"tickangle\":0,\"tickvals\":[0,1],\"title\":{\"text\":\"Normalized Q\"}},\"camera\":{\"up\":{\"x\":0,\"y\":0,\"z\":1},\"center\":{\"x\":0,\"y\":0,\"z\":-0.2},\"eye\":{\"x\":-1.7,\"y\":-0.85,\"z\":0.6}}},\"showlegend\":true,\"template\":{\"data\":{\"histogram2dcontour\":[{\"type\":\"histogram2dcontour\",\"colorbar\":{\"outlinewidth\":0,\"ticks\":\"\"},\"colorscale\":[[0.0,\"#0d0887\"],[0.1111111111111111,\"#46039f\"],[0.2222222222222222,\"#7201a8\"],[0.3333333333333333,\"#9c179e\"],[0.4444444444444444,\"#bd3786\"],[0.5555555555555556,\"#d8576b\"],[0.6666666666666666,\"#ed7953\"],[0.7777777777777778,\"#fb9f3a\"],[0.8888888888888888,\"#fdca26\"],[1.0,\"#f0f921\"]]}],\"choropleth\":[{\"type\":\"choropleth\",\"colorbar\":{\"outlinewidth\":0,\"ticks\":\"\"}}],\"histogram2d\":[{\"type\":\"histogram2d\",\"colorbar\":{\"outlinewidth\":0,\"ticks\":\"\"},\"colorscale\":[[0.0,\"#0d0887\"],[0.1111111111111111,\"#46039f\"],[0.2222222222222222,\"#7201a8\"],[0.3333333333333333,\"#9c179e\"],[0.4444444444444444,\"#bd3786\"],[0.5555555555555556,\"#d8576b\"],[0.6666666666666666,\"#ed7953\"],[0.7777777777777778,\"#fb9f3a\"],[0.8888888888888888,\"#fdca26\"],[1.0,\"#f0f921\"]]}],\"heatmap\":[{\"type\":\"heatmap\",\"colorbar\":{\"outlinewidth\":0,\"ticks\":\"\"},\"colorscale\":[[0.0,\"#0d0887\"],[0.1111111111111111,\"#46039f\"],[0.2222222222222222,\"#7201a8\"],[0.3333333333333333,\"#9c179e\"],[0.4444444444444444,\"#bd3786\"],[0.5555555555555556,\"#d8576b\"],[0.6666666666666666,\"#ed7953\"],[0.7777777777777778,\"#fb9f3a\"],[0.8888888888888888,\"#fdca26\"],[1.0,\"#f0f921\"]]}],\"heatmapgl\":[{\"type\":\"heatmapgl\",\"colorbar\":{\"outlinewidth\":0,\"ticks\":\"\"},\"colorscale\":[[0.0,\"#0d0887\"],[0.1111111111111111,\"#46039f\"],[0.2222222222222222,\"#7201a8\"],[0.3333333333333333,\"#9c179e\"],[0.4444444444444444,\"#bd3786\"],[0.5555555555555556,\"#d8576b\"],[0.6666666666666666,\"#ed7953\"],[0.7777777777777778,\"#fb9f3a\"],[0.8888888888888888,\"#fdca26\"],[1.0,\"#f0f921\"]]}],\"contourcarpet\":[{\"type\":\"contourcarpet\",\"colorbar\":{\"outlinewidth\":0,\"ticks\":\"\"}}],\"contour\":[{\"type\":\"contour\",\"colorbar\":{\"outlinewidth\":0,\"ticks\":\"\"},\"colorscale\":[[0.0,\"#0d0887\"],[0.1111111111111111,\"#46039f\"],[0.2222222222222222,\"#7201a8\"],[0.3333333333333333,\"#9c179e\"],[0.4444444444444444,\"#bd3786\"],[0.5555555555555556,\"#d8576b\"],[0.6666666666666666,\"#ed7953\"],[0.7777777777777778,\"#fb9f3a\"],[0.8888888888888888,\"#fdca26\"],[1.0,\"#f0f921\"]]}],\"surface\":[{\"type\":\"surface\",\"colorbar\":{\"outlinewidth\":0,\"ticks\":\"\"},\"colorscale\":[[0.0,\"#0d0887\"],[0.1111111111111111,\"#46039f\"],[0.2222222222222222,\"#7201a8\"],[0.3333333333333333,\"#9c179e\"],[0.4444444444444444,\"#bd3786\"],[0.5555555555555556,\"#d8576b\"],[0.6666666666666666,\"#ed7953\"],[0.7777777777777778,\"#fb9f3a\"],[0.8888888888888888,\"#fdca26\"],[1.0,\"#f0f921\"]]}],\"mesh3d\":[{\"type\":\"mesh3d\",\"colorbar\":{\"outlinewidth\":0,\"ticks\":\"\"}}],\"scatter\":[{\"fillpattern\":{\"fillmode\":\"overlay\",\"size\":10,\"solidity\":0.2},\"type\":\"scatter\"}],\"parcoords\":[{\"type\":\"parcoords\",\"line\":{\"colorbar\":{\"outlinewidth\":0,\"ticks\":\"\"}}}],\"scatterpolargl\":[{\"type\":\"scatterpolargl\",\"marker\":{\"colorbar\":{\"outlinewidth\":0,\"ticks\":\"\"}}}],\"bar\":[{\"error_x\":{\"color\":\"#2a3f5f\"},\"error_y\":{\"color\":\"#2a3f5f\"},\"marker\":{\"line\":{\"color\":\"#E5ECF6\",\"width\":0.5},\"pattern\":{\"fillmode\":\"overlay\",\"size\":10,\"solidity\":0.2}},\"type\":\"bar\"}],\"scattergeo\":[{\"type\":\"scattergeo\",\"marker\":{\"colorbar\":{\"outlinewidth\":0,\"ticks\":\"\"}}}],\"scatterpolar\":[{\"type\":\"scatterpolar\",\"marker\":{\"colorbar\":{\"outlinewidth\":0,\"ticks\":\"\"}}}],\"histogram\":[{\"marker\":{\"pattern\":{\"fillmode\":\"overlay\",\"size\":10,\"solidity\":0.2}},\"type\":\"histogram\"}],\"scattergl\":[{\"type\":\"scattergl\",\"marker\":{\"colorbar\":{\"outlinewidth\":0,\"ticks\":\"\"}}}],\"scatter3d\":[{\"type\":\"scatter3d\",\"line\":{\"colorbar\":{\"outlinewidth\":0,\"ticks\":\"\"}},\"marker\":{\"colorbar\":{\"outlinewidth\":0,\"ticks\":\"\"}}}],\"scattermapbox\":[{\"type\":\"scattermapbox\",\"marker\":{\"colorbar\":{\"outlinewidth\":0,\"ticks\":\"\"}}}],\"scatterternary\":[{\"type\":\"scatterternary\",\"marker\":{\"colorbar\":{\"outlinewidth\":0,\"ticks\":\"\"}}}],\"scattercarpet\":[{\"type\":\"scattercarpet\",\"marker\":{\"colorbar\":{\"outlinewidth\":0,\"ticks\":\"\"}}}],\"carpet\":[{\"aaxis\":{\"endlinecolor\":\"#2a3f5f\",\"gridcolor\":\"white\",\"linecolor\":\"white\",\"minorgridcolor\":\"white\",\"startlinecolor\":\"#2a3f5f\"},\"baxis\":{\"endlinecolor\":\"#2a3f5f\",\"gridcolor\":\"white\",\"linecolor\":\"white\",\"minorgridcolor\":\"white\",\"startlinecolor\":\"#2a3f5f\"},\"type\":\"carpet\"}],\"table\":[{\"cells\":{\"fill\":{\"color\":\"#EBF0F8\"},\"line\":{\"color\":\"white\"}},\"header\":{\"fill\":{\"color\":\"#C8D4E3\"},\"line\":{\"color\":\"white\"}},\"type\":\"table\"}],\"barpolar\":[{\"marker\":{\"line\":{\"color\":\"#E5ECF6\",\"width\":0.5},\"pattern\":{\"fillmode\":\"overlay\",\"size\":10,\"solidity\":0.2}},\"type\":\"barpolar\"}],\"pie\":[{\"automargin\":true,\"type\":\"pie\"}]},\"layout\":{\"autotypenumbers\":\"strict\",\"colorway\":[\"#636efa\",\"#EF553B\",\"#00cc96\",\"#ab63fa\",\"#FFA15A\",\"#19d3f3\",\"#FF6692\",\"#B6E880\",\"#FF97FF\",\"#FECB52\"],\"font\":{\"color\":\"#2a3f5f\"},\"hovermode\":\"closest\",\"hoverlabel\":{\"align\":\"left\"},\"paper_bgcolor\":\"white\",\"plot_bgcolor\":\"#E5ECF6\",\"polar\":{\"bgcolor\":\"#E5ECF6\",\"angularaxis\":{\"gridcolor\":\"white\",\"linecolor\":\"white\",\"ticks\":\"\"},\"radialaxis\":{\"gridcolor\":\"white\",\"linecolor\":\"white\",\"ticks\":\"\"}},\"ternary\":{\"bgcolor\":\"#E5ECF6\",\"aaxis\":{\"gridcolor\":\"white\",\"linecolor\":\"white\",\"ticks\":\"\"},\"baxis\":{\"gridcolor\":\"white\",\"linecolor\":\"white\",\"ticks\":\"\"},\"caxis\":{\"gridcolor\":\"white\",\"linecolor\":\"white\",\"ticks\":\"\"}},\"coloraxis\":{\"colorbar\":{\"outlinewidth\":0,\"ticks\":\"\"}},\"colorscale\":{\"sequential\":[[0.0,\"#0d0887\"],[0.1111111111111111,\"#46039f\"],[0.2222222222222222,\"#7201a8\"],[0.3333333333333333,\"#9c179e\"],[0.4444444444444444,\"#bd3786\"],[0.5555555555555556,\"#d8576b\"],[0.6666666666666666,\"#ed7953\"],[0.7777777777777778,\"#fb9f3a\"],[0.8888888888888888,\"#fdca26\"],[1.0,\"#f0f921\"]],\"sequentialminus\":[[0.0,\"#0d0887\"],[0.1111111111111111,\"#46039f\"],[0.2222222222222222,\"#7201a8\"],[0.3333333333333333,\"#9c179e\"],[0.4444444444444444,\"#bd3786\"],[0.5555555555555556,\"#d8576b\"],[0.6666666666666666,\"#ed7953\"],[0.7777777777777778,\"#fb9f3a\"],[0.8888888888888888,\"#fdca26\"],[1.0,\"#f0f921\"]],\"diverging\":[[0,\"#8e0152\"],[0.1,\"#c51b7d\"],[0.2,\"#de77ae\"],[0.3,\"#f1b6da\"],[0.4,\"#fde0ef\"],[0.5,\"#f7f7f7\"],[0.6,\"#e6f5d0\"],[0.7,\"#b8e186\"],[0.8,\"#7fbc41\"],[0.9,\"#4d9221\"],[1,\"#276419\"]]},\"xaxis\":{\"gridcolor\":\"white\",\"linecolor\":\"white\",\"ticks\":\"\",\"title\":{\"standoff\":15},\"zerolinecolor\":\"white\",\"automargin\":true,\"zerolinewidth\":2},\"yaxis\":{\"gridcolor\":\"white\",\"linecolor\":\"white\",\"ticks\":\"\",\"title\":{\"standoff\":15},\"zerolinecolor\":\"white\",\"automargin\":true,\"zerolinewidth\":2},\"scene\":{\"xaxis\":{\"backgroundcolor\":\"#E5ECF6\",\"gridcolor\":\"white\",\"linecolor\":\"white\",\"showbackground\":true,\"ticks\":\"\",\"zerolinecolor\":\"white\",\"gridwidth\":2},\"yaxis\":{\"backgroundcolor\":\"#E5ECF6\",\"gridcolor\":\"white\",\"linecolor\":\"white\",\"showbackground\":true,\"ticks\":\"\",\"zerolinecolor\":\"white\",\"gridwidth\":2},\"zaxis\":{\"backgroundcolor\":\"#E5ECF6\",\"gridcolor\":\"white\",\"linecolor\":\"white\",\"showbackground\":true,\"ticks\":\"\",\"zerolinecolor\":\"white\",\"gridwidth\":2}},\"shapedefaults\":{\"line\":{\"color\":\"#2a3f5f\"}},\"annotationdefaults\":{\"arrowcolor\":\"#2a3f5f\",\"arrowhead\":0,\"arrowwidth\":1},\"geo\":{\"bgcolor\":\"white\",\"landcolor\":\"#E5ECF6\",\"subunitcolor\":\"white\",\"showland\":true,\"showlakes\":true,\"lakecolor\":\"white\"},\"title\":{\"x\":0.05},\"mapbox\":{\"style\":\"light\"}}}},                        {\"responsive\": true}                    ).then(function(){\n",
       "                            \n",
       "var gd = document.getElementById('5e110a93-670e-4ba4-9f01-35a4c1038eaf');\n",
       "var x = new MutationObserver(function (mutations, observer) {{\n",
       "        var display = window.getComputedStyle(gd).display;\n",
       "        if (!display || display === 'none') {{\n",
       "            console.log([gd, 'removed!']);\n",
       "            Plotly.purge(gd);\n",
       "            observer.disconnect();\n",
       "        }}\n",
       "}});\n",
       "\n",
       "// Listen for the removal of the full notebook cells\n",
       "var notebookContainer = gd.closest('#notebook-container');\n",
       "if (notebookContainer) {{\n",
       "    x.observe(notebookContainer, {childList: true});\n",
       "}}\n",
       "\n",
       "// Listen for the clearing of the current output cell\n",
       "var outputEl = gd.closest('.output');\n",
       "if (outputEl) {{\n",
       "    x.observe(outputEl, {childList: true});\n",
       "}}\n",
       "\n",
       "                        })                };                });            </script>        </div>"
      ]
     },
     "metadata": {},
     "output_type": "display_data"
    }
   ],
   "source": [
    "# actions_to_plot = [0]\n",
    "# action_sets = [[0], [0, 1]]\n",
    "action_sets = [[0, 1]]\n",
    "\n",
    "# algs = ['2o', '2pb', '2e']\n",
    "algs = ['2o']\n",
    "# algs = ['none']\n",
    "\n",
    "show_legend = True\n",
    "\n",
    "for alg in algs:\n",
    "    for actions_to_plot in action_sets:\n",
    "        action_mapping = ['Left', 'Right', 'Collect']\n",
    "        actions_to_color = ['rgb(241, 196, 15)', 'rgb(52, 152, 219)']\n",
    "        if show_legend:\n",
    "            fig_path = Path(ROOT_DIR, 'results', f'lobster_interpolation_{alg}_{actions_to_plot}_legend.pdf')\n",
    "        else:\n",
    "            fig_path = Path(ROOT_DIR, 'results', f'lobster_interpolation_{alg}_{actions_to_plot}.pdf')\n",
    "\n",
    "        fig = go.Figure(layout=go.Layout(\n",
    "            margin=dict(l=0, r=0, t=0, b=0),\n",
    "            showlegend=show_legend,\n",
    "            font=dict(size=18),\n",
    "            scene = dict(\n",
    "                xaxis = dict(\n",
    "                    backgroundcolor=\"rgb(255, 255, 255)\",\n",
    "                    gridcolor=\"rgb(189, 195, 199)\",\n",
    "                    title=r'r(L1) feature',\n",
    "                    range=[-0.1, 1.1],\n",
    "                    tickvals=[0, 1],\n",
    "                    tickangle=0\n",
    "                ),\n",
    "                yaxis = dict(\n",
    "                    backgroundcolor=\"rgb(255, 255, 255)\",\n",
    "                    gridcolor=\"rgb(189, 195, 199)\",\n",
    "                    title=r'r(L2) feature',\n",
    "                    range=[-0.1, 1.1],\n",
    "                    tickvals=[0, 1],\n",
    "                    tickangle=0\n",
    "                ),\n",
    "                zaxis = dict(\n",
    "                    backgroundcolor=\"rgb(255, 255, 255)\",\n",
    "                    gridcolor=\"rgb(189, 195, 199)\",\n",
    "                    title=\"Normalized Q\",\n",
    "                    range=[-0.05, 1.05],\n",
    "                    tickvals=[0, 1],\n",
    "                    tickangle=0\n",
    "                ),\n",
    "            ),\n",
    "\n",
    "        ))\n",
    "\n",
    "        for action in actions_to_plot:\n",
    "            if alg == '2o':\n",
    "                z_2o = normalized_2o_qs[:, action]\n",
    "                trace_2o = go.Scatter3d(\n",
    "                    x=1 - ot_obs_2o[:, 0], \n",
    "                    y=1 - ot_obs_2o[:, 1], \n",
    "                    z=z_2o, \n",
    "                    name=f\"Exp Trace\",\n",
    "                #         name=f\"{action_mapping[action]}\",\n",
    "                    mode='markers',\n",
    "                    marker={\n",
    "                        'size': 2,\n",
    "                        'color': actions_to_color[action],\n",
    "                        'symbol': 'circle'\n",
    "                    }\n",
    "                )\n",
    "                fig.add_trace(trace_2o)\n",
    "            elif alg == '2pb':\n",
    "                z_2pb = normalized_2pb_qs[:, action]\n",
    "                trace_2pb = go.Scatter3d(\n",
    "                    x=pb_zero_obs[:, r1_pb_states].sum(axis=-1), \n",
    "                    y=pb_zero_obs[:, r2_pb_states].sum(axis=-1), \n",
    "            #         x=zero_obs_2pb[:, [1, 3]].sum(axis=-1), \n",
    "            #         y=zero_obs_2pb[:, [2, 3]].sum(axis=-1), \n",
    "                    z=z_2pb, \n",
    "                    name=f\"PF\",\n",
    "            #         name=f\"{action_mapping[action]}\",\n",
    "                    mode='markers',\n",
    "                    marker={\n",
    "                        'size': 2,\n",
    "                        'color': actions_to_color[action],\n",
    "                        'symbol': 'circle'\n",
    "                    }\n",
    "                )\n",
    "                fig.add_trace(trace_2pb)\n",
    "            elif alg == '2f':\n",
    "                z_2f = normalized_2f_qs[:, action]\n",
    "                trace_2f = go.Scatter3d(\n",
    "                    x=gvf_zero_predictions_normalized[:, 0], \n",
    "                    y=gvf_zero_predictions_normalized[:, 1], \n",
    "                    z=z_2f, \n",
    "                    name=f\"GVF\",\n",
    "            #         name=f\"{action_mapping[action]}\",\n",
    "                    mode='markers',\n",
    "                    marker={\n",
    "                        'size': 2,\n",
    "                        'color': actions_to_color[action],\n",
    "                        'symbol': 'circle'\n",
    "                    }\n",
    "                )\n",
    "                fig.add_trace(trace_2f)\n",
    "            elif alg == '2e':\n",
    "                z_2e = normalized_2e_qs[:, action]\n",
    "                trace_2e = go.Scatter3d(\n",
    "                    x=all_possible_likelihoods[:, 0], \n",
    "                    y=all_possible_likelihoods[:, 1], \n",
    "                    z=z_2e, \n",
    "                    name=f\"Likelihood\",\n",
    "            #         name=f\"{action_mapping[action]}\",\n",
    "                    mode='markers',\n",
    "                    marker={\n",
    "                        'size': 2,\n",
    "                        'color': actions_to_color[action],\n",
    "                        'symbol': 'circle'\n",
    "                    }\n",
    "                )\n",
    "                fig.add_trace(trace_2e)\n",
    "\n",
    "            z_optimal = normalized_optimal_qs[:, action]\n",
    "            trace_optimal = go.Scatter3d(\n",
    "                x=zero_states[:, 1], \n",
    "                y=zero_states[:, 2], \n",
    "                z=z_optimal,\n",
    "        #         name=f\"Ground-truth {action_mapping[action]}\",\n",
    "                name=f\"Ground-truth state\",\n",
    "                mode='markers',\n",
    "                marker={\n",
    "                    'size': 10,\n",
    "                    'color': actions_to_color[action],\n",
    "                    'symbol': 'cross',\n",
    "                    'line': dict(width=0.5, color=\"black\")\n",
    "                }\n",
    "            )\n",
    "            fig.add_trace(trace_optimal)\n",
    "\n",
    "            z_2 = normalized_2_qs[:, action]\n",
    "            trace_2 = go.Scatter3d(\n",
    "                x=np.array([0]), \n",
    "                y=np.array([0]), \n",
    "                z=z_2, \n",
    "        #         name=f\"observation {action_mapping[action]}\",\n",
    "                name=f\"Observations\",\n",
    "                mode='markers',\n",
    "                marker={\n",
    "                    'size': 5,\n",
    "                    'color': actions_to_color[action],\n",
    "                    'symbol': 'diamond',\n",
    "                    'line': dict(width=0.5, color=\"black\")\n",
    "\n",
    "                }\n",
    "            )\n",
    "            fig.add_trace(trace_2)\n",
    "\n",
    "\n",
    "        camera = dict(\n",
    "            up=dict(x=0, y=0, z=1),\n",
    "            center=dict(x=0, y=0, z=-0.2),\n",
    "            eye=dict(x=-1.7, y=-0.85, z=0.6)\n",
    "        )\n",
    "\n",
    "        fig.update_layout(scene_camera=camera)\n",
    "        fig.write_image(fig_path)\n",
    "        fig.show()"
   ]
  },
  {
   "cell_type": "code",
   "execution_count": 29,
   "id": "d2a5d42f",
   "metadata": {},
   "outputs": [
    {
     "ename": "ValueError",
     "evalue": "\nImage export using the \"kaleido\" engine requires the kaleido package,\nwhich can be installed using pip:\n    $ pip install -U kaleido\n",
     "output_type": "error",
     "traceback": [
      "\u001b[0;31m---------------------------------------------------------------------------\u001b[0m",
      "\u001b[0;31mValueError\u001b[0m                                Traceback (most recent call last)",
      "Cell \u001b[0;32mIn[29], line 156\u001b[0m\n\u001b[1;32m    147\u001b[0m fig\u001b[38;5;241m.\u001b[39mupdate_scenes(camera\u001b[38;5;241m=\u001b[39mcamera, \n\u001b[1;32m    148\u001b[0m \u001b[38;5;66;03m#                   margin=dict(l=0, r=0, t=0, b=0),\u001b[39;00m\n\u001b[1;32m    149\u001b[0m \u001b[38;5;66;03m#                   showlegend=True,\u001b[39;00m\n\u001b[1;32m    150\u001b[0m         \u001b[38;5;241m*\u001b[39m\u001b[38;5;241m*\u001b[39maxis\n\u001b[1;32m    151\u001b[0m     )\n\u001b[1;32m    152\u001b[0m fig\u001b[38;5;241m.\u001b[39mupdate_layout(showlegend\u001b[38;5;241m=\u001b[39m\u001b[38;5;28;01mFalse\u001b[39;00m,\n\u001b[1;32m    153\u001b[0m                   autosize\u001b[38;5;241m=\u001b[39m\u001b[38;5;28;01mFalse\u001b[39;00m,\n\u001b[1;32m    154\u001b[0m                   width\u001b[38;5;241m=\u001b[39m\u001b[38;5;241m1400\u001b[39m,\n\u001b[1;32m    155\u001b[0m                   height\u001b[38;5;241m=\u001b[39m\u001b[38;5;241m500\u001b[39m)\n\u001b[0;32m--> 156\u001b[0m \u001b[43mfig\u001b[49m\u001b[38;5;241;43m.\u001b[39;49m\u001b[43mwrite_image\u001b[49m\u001b[43m(\u001b[49m\u001b[43mfig_path\u001b[49m\u001b[43m)\u001b[49m\n\u001b[1;32m    157\u001b[0m fig\u001b[38;5;241m.\u001b[39mshow()\n",
      "File \u001b[0;32m~/Documents/uncertainty/venv/lib/python3.9/site-packages/plotly/basedatatypes.py:3831\u001b[0m, in \u001b[0;36mBaseFigure.write_image\u001b[0;34m(self, *args, **kwargs)\u001b[0m\n\u001b[1;32m   3771\u001b[0m \u001b[38;5;250m\u001b[39m\u001b[38;5;124;03m\"\"\"\u001b[39;00m\n\u001b[1;32m   3772\u001b[0m \u001b[38;5;124;03mConvert a figure to a static image and write it to a file or writeable\u001b[39;00m\n\u001b[1;32m   3773\u001b[0m \u001b[38;5;124;03mobject\u001b[39;00m\n\u001b[0;32m   (...)\u001b[0m\n\u001b[1;32m   3827\u001b[0m \u001b[38;5;124;03mNone\u001b[39;00m\n\u001b[1;32m   3828\u001b[0m \u001b[38;5;124;03m\"\"\"\u001b[39;00m\n\u001b[1;32m   3829\u001b[0m \u001b[38;5;28;01mimport\u001b[39;00m \u001b[38;5;21;01mplotly\u001b[39;00m\u001b[38;5;21;01m.\u001b[39;00m\u001b[38;5;21;01mio\u001b[39;00m \u001b[38;5;28;01mas\u001b[39;00m \u001b[38;5;21;01mpio\u001b[39;00m\n\u001b[0;32m-> 3831\u001b[0m \u001b[38;5;28;01mreturn\u001b[39;00m \u001b[43mpio\u001b[49m\u001b[38;5;241;43m.\u001b[39;49m\u001b[43mwrite_image\u001b[49m\u001b[43m(\u001b[49m\u001b[38;5;28;43mself\u001b[39;49m\u001b[43m,\u001b[49m\u001b[43m \u001b[49m\u001b[38;5;241;43m*\u001b[39;49m\u001b[43margs\u001b[49m\u001b[43m,\u001b[49m\u001b[43m \u001b[49m\u001b[38;5;241;43m*\u001b[39;49m\u001b[38;5;241;43m*\u001b[39;49m\u001b[43mkwargs\u001b[49m\u001b[43m)\u001b[49m\n",
      "File \u001b[0;32m~/Documents/uncertainty/venv/lib/python3.9/site-packages/plotly/io/_kaleido.py:268\u001b[0m, in \u001b[0;36mwrite_image\u001b[0;34m(fig, file, format, scale, width, height, validate, engine)\u001b[0m\n\u001b[1;32m    252\u001b[0m             \u001b[38;5;28;01mraise\u001b[39;00m \u001b[38;5;167;01mValueError\u001b[39;00m(\n\u001b[1;32m    253\u001b[0m \u001b[38;5;250m                \u001b[39m\u001b[38;5;124;03m\"\"\"\u001b[39;00m\n\u001b[1;32m    254\u001b[0m \u001b[38;5;124;03mCannot infer image type from output path '{file}'.\u001b[39;00m\n\u001b[0;32m   (...)\u001b[0m\n\u001b[1;32m    262\u001b[0m                 )\n\u001b[1;32m    263\u001b[0m             )\n\u001b[1;32m    265\u001b[0m     \u001b[38;5;66;03m# Request image\u001b[39;00m\n\u001b[1;32m    266\u001b[0m     \u001b[38;5;66;03m# -------------\u001b[39;00m\n\u001b[1;32m    267\u001b[0m     \u001b[38;5;66;03m# Do this first so we don't create a file if image conversion fails\u001b[39;00m\n\u001b[0;32m--> 268\u001b[0m     img_data \u001b[38;5;241m=\u001b[39m \u001b[43mto_image\u001b[49m\u001b[43m(\u001b[49m\n\u001b[1;32m    269\u001b[0m \u001b[43m        \u001b[49m\u001b[43mfig\u001b[49m\u001b[43m,\u001b[49m\n\u001b[1;32m    270\u001b[0m \u001b[43m        \u001b[49m\u001b[38;5;28;43mformat\u001b[39;49m\u001b[38;5;241;43m=\u001b[39;49m\u001b[38;5;28;43mformat\u001b[39;49m\u001b[43m,\u001b[49m\n\u001b[1;32m    271\u001b[0m \u001b[43m        \u001b[49m\u001b[43mscale\u001b[49m\u001b[38;5;241;43m=\u001b[39;49m\u001b[43mscale\u001b[49m\u001b[43m,\u001b[49m\n\u001b[1;32m    272\u001b[0m \u001b[43m        \u001b[49m\u001b[43mwidth\u001b[49m\u001b[38;5;241;43m=\u001b[39;49m\u001b[43mwidth\u001b[49m\u001b[43m,\u001b[49m\n\u001b[1;32m    273\u001b[0m \u001b[43m        \u001b[49m\u001b[43mheight\u001b[49m\u001b[38;5;241;43m=\u001b[39;49m\u001b[43mheight\u001b[49m\u001b[43m,\u001b[49m\n\u001b[1;32m    274\u001b[0m \u001b[43m        \u001b[49m\u001b[43mvalidate\u001b[49m\u001b[38;5;241;43m=\u001b[39;49m\u001b[43mvalidate\u001b[49m\u001b[43m,\u001b[49m\n\u001b[1;32m    275\u001b[0m \u001b[43m        \u001b[49m\u001b[43mengine\u001b[49m\u001b[38;5;241;43m=\u001b[39;49m\u001b[43mengine\u001b[49m\u001b[43m,\u001b[49m\n\u001b[1;32m    276\u001b[0m \u001b[43m    \u001b[49m\u001b[43m)\u001b[49m\n\u001b[1;32m    278\u001b[0m     \u001b[38;5;66;03m# Open file\u001b[39;00m\n\u001b[1;32m    279\u001b[0m     \u001b[38;5;66;03m# ---------\u001b[39;00m\n\u001b[1;32m    280\u001b[0m     \u001b[38;5;28;01mif\u001b[39;00m path \u001b[38;5;129;01mis\u001b[39;00m \u001b[38;5;28;01mNone\u001b[39;00m:\n\u001b[1;32m    281\u001b[0m         \u001b[38;5;66;03m# We previously failed to make sense of `file` as a pathlib object.\u001b[39;00m\n\u001b[1;32m    282\u001b[0m         \u001b[38;5;66;03m# Attempt to write to `file` as an open file descriptor.\u001b[39;00m\n",
      "File \u001b[0;32m~/Documents/uncertainty/venv/lib/python3.9/site-packages/plotly/io/_kaleido.py:134\u001b[0m, in \u001b[0;36mto_image\u001b[0;34m(fig, format, width, height, scale, validate, engine)\u001b[0m\n\u001b[1;32m    132\u001b[0m     \u001b[38;5;66;03m# Raise informative error message if Kaleido is not installed\u001b[39;00m\n\u001b[1;32m    133\u001b[0m     \u001b[38;5;28;01mif\u001b[39;00m scope \u001b[38;5;129;01mis\u001b[39;00m \u001b[38;5;28;01mNone\u001b[39;00m:\n\u001b[0;32m--> 134\u001b[0m         \u001b[38;5;28;01mraise\u001b[39;00m \u001b[38;5;167;01mValueError\u001b[39;00m(\n\u001b[1;32m    135\u001b[0m \u001b[38;5;250m            \u001b[39m\u001b[38;5;124;03m\"\"\"\u001b[39;00m\n\u001b[1;32m    136\u001b[0m \u001b[38;5;124;03mImage export using the \"kaleido\" engine requires the kaleido package,\u001b[39;00m\n\u001b[1;32m    137\u001b[0m \u001b[38;5;124;03mwhich can be installed using pip:\u001b[39;00m\n\u001b[1;32m    138\u001b[0m \u001b[38;5;124;03m    $ pip install -U kaleido\u001b[39;00m\n\u001b[1;32m    139\u001b[0m \u001b[38;5;124;03m\"\"\"\u001b[39;00m\n\u001b[1;32m    140\u001b[0m         )\n\u001b[1;32m    142\u001b[0m     \u001b[38;5;66;03m# Validate figure\u001b[39;00m\n\u001b[1;32m    143\u001b[0m     \u001b[38;5;66;03m# ---------------\u001b[39;00m\n\u001b[1;32m    144\u001b[0m     fig_dict \u001b[38;5;241m=\u001b[39m validate_coerce_fig_to_dict(fig, validate)\n",
      "\u001b[0;31mValueError\u001b[0m: \nImage export using the \"kaleido\" engine requires the kaleido package,\nwhich can be installed using pip:\n    $ pip install -U kaleido\n"
     ]
    }
   ],
   "source": [
    "# Here we plot all 3 to get the best camera position among all 3\n",
    "# actions_to_plot = [0]\n",
    "actions_to_plot = [0, 1]\n",
    "algs = ['2o', '2pb', '2e']\n",
    "\n",
    "action_mapping = ['Left', 'Right', 'Collect']\n",
    "actions_to_color = ['rgb(241, 196, 15)', 'rgb(52, 152, 219)']\n",
    "if actions_to_plot == [0, 1]:\n",
    "    fig_path = Path(ROOT_DIR, 'results', f'lobster_s0_{algs}_all_qval.pdf')\n",
    "elif action_to_plot == [0]:\n",
    "    fig_path = Path(ROOT_DIR, 'results', f'lobster_s0_a0_{algs}_qval_legend.pdf')\n",
    "    \n",
    "fig = make_subplots(rows=1, cols=3, specs=[\n",
    "    [{'type': 'scene'}, {'type': 'scene'}, {'type': 'scene'}]\n",
    "])\n",
    "for i, alg in enumerate(algs, start=1):\n",
    "    for action in actions_to_plot:\n",
    "        z_2o = normalized_2o_qs[:, action]\n",
    "        if alg == '2o':\n",
    "            # We do 1 - decaying trace here b/c the smaller the trace, the longer it's been\n",
    "            # since you've seen NO reward.\n",
    "            trace_2o = go.Scatter3d(\n",
    "                x=1 - ot_obs_2o[:, 0], \n",
    "                y=1 - ot_obs_2o[:, 1], \n",
    "                z=z_2o, \n",
    "                name=f\"Exp Trace\",\n",
    "            #         name=f\"{action_mapping[action]}\",\n",
    "                mode='markers',\n",
    "                marker={\n",
    "                    'size': 2,\n",
    "                    'color': actions_to_color[action],\n",
    "                    'symbol': 'circle'\n",
    "                }\n",
    "            )\n",
    "            fig.add_trace(trace_2o, row=1, col=i)\n",
    "        elif alg == '2pb':\n",
    "            z_2pb = normalized_2pb_qs[:, action]\n",
    "            trace_2pb = go.Scatter3d(\n",
    "                x=pb_zero_obs[:, r1_pb_states].sum(axis=-1), \n",
    "                y=pb_zero_obs[:, r2_pb_states].sum(axis=-1), \n",
    "        #         x=zero_obs_2pb[:, [1, 3]].sum(axis=-1), \n",
    "        #         y=zero_obs_2pb[:, [2, 3]].sum(axis=-1), \n",
    "                z=z_2pb, \n",
    "                name=f\"PF\",\n",
    "        #         name=f\"{action_mapping[action]}\",\n",
    "                mode='markers',\n",
    "                marker={\n",
    "                    'size': 2,\n",
    "                    'color': actions_to_color[action],\n",
    "                    'symbol': 'circle'\n",
    "                }\n",
    "            )\n",
    "            fig.add_trace(trace_2pb, row=1, col=i)\n",
    "        elif alg == '2f':\n",
    "            z_2f = normalized_2f_qs[:, action]\n",
    "            trace_2f = go.Scatter3d(\n",
    "                x=gvf_zero_predictions_normalized[:, 0], \n",
    "                y=gvf_zero_predictions_normalized[:, 1], \n",
    "                z=z_2f, \n",
    "                name=f\"GVF\",\n",
    "        #         name=f\"{action_mapping[action]}\",\n",
    "                mode='markers',\n",
    "                marker={\n",
    "                    'size': 2,\n",
    "                    'color': actions_to_color[action],\n",
    "                    'symbol': 'circle'\n",
    "                }\n",
    "            )\n",
    "            fig.add_trace(trace_2f, row=1, col=i)\n",
    "\n",
    "        z_optimal = normalized_optimal_qs[:, action]\n",
    "        trace_optimal = go.Scatter3d(\n",
    "            x=zero_states[:, 1], \n",
    "            y=zero_states[:, 2], \n",
    "            z=z_optimal,\n",
    "    #         name=f\"Ground-truth {action_mapping[action]}\",\n",
    "            name=f\"Ground-truth state\",\n",
    "            mode='markers',\n",
    "            marker={\n",
    "                'size': 10,\n",
    "                'color': actions_to_color[action],\n",
    "                'symbol': 'cross',\n",
    "                'line': dict(width=0.5, color=\"black\")\n",
    "            }\n",
    "        )\n",
    "        fig.add_trace(trace_optimal, row=1, col=i)\n",
    "        \n",
    "        z_2 = normalized_2_qs[:, action]\n",
    "        trace_2 = go.Scatter3d(\n",
    "            x=np.array([0]), \n",
    "            y=np.array([0]), \n",
    "            z=z_2, \n",
    "    #         name=f\"observation {action_mapping[action]}\",\n",
    "            name=f\"Observations\",\n",
    "            mode='markers',\n",
    "            marker={\n",
    "                'size': 5,\n",
    "                'color': actions_to_color[action],\n",
    "                'symbol': 'diamond',\n",
    "                'line': dict(width=0.5, color=\"black\")\n",
    "\n",
    "            }\n",
    "        )\n",
    "        fig.add_trace(trace_2, row=1, col=i)\n",
    "\n",
    "# plt.legend(bbox_to_anchor=(1.00, 1), loc='upper left', title='action')\n",
    "# ax.set_title(\"Q-values of Lobster environment at node 0 (uncertainty obs)\")\n",
    "# if alg == '2o':\n",
    "\n",
    "# elif alg == '2pb':\n",
    "axis = {\n",
    "    'xaxis': dict(\n",
    "            backgroundcolor=\"rgb(255, 255, 255)\",\n",
    "            gridcolor=\"rgb(189, 195, 199)\",\n",
    "            title=r'r(L1) feature',\n",
    "            range=[-0.1, 1.1],\n",
    "            tickvals=[0, 0.5, 1],\n",
    "            tickangle=0\n",
    "        ),\n",
    "    'yaxis': dict(\n",
    "            backgroundcolor=\"rgb(255, 255, 255)\",\n",
    "            gridcolor=\"rgb(189, 195, 199)\",\n",
    "            title=r'r(L2) feature',\n",
    "            range=[-0.1, 1.1],\n",
    "            tickvals=[0, 0.5, 1],\n",
    "            tickangle=0\n",
    "        ),\n",
    "    'zaxis': dict(\n",
    "            backgroundcolor=\"rgb(255, 255, 255)\",\n",
    "            gridcolor=\"rgb(189, 195, 199)\",\n",
    "            title=\"Normalized Q\",\n",
    "            range=[-0.05, 1.05],\n",
    "            tickvals=[0, 0.5, 1],\n",
    "            tickangle=0\n",
    "        ),\n",
    "}\n",
    "# camera = dict(\n",
    "#     up=dict(x=0, y=0, z=1),\n",
    "#     center=dict(x=0, y=0, z=-0.2),\n",
    "#     eye=dict(x=0.85, y=1.8, z=1.85)\n",
    "# )\n",
    "camera = dict(\n",
    "    up=dict(x=0, y=0, z=1),\n",
    "    center=dict(x=0, y=0, z=-0.1),\n",
    "    eye=dict(x=-1.6, y=-0.75, z=0.5)\n",
    ")\n",
    "fig.update_scenes(camera=camera, \n",
    "#                   margin=dict(l=0, r=0, t=0, b=0),\n",
    "#                   showlegend=True,\n",
    "        **axis\n",
    "    )\n",
    "fig.update_layout(showlegend=False,\n",
    "                  autosize=False,\n",
    "                  width=1400,\n",
    "                  height=500)\n",
    "fig.write_image(fig_path)\n",
    "fig.show()"
   ]
  },
  {
   "cell_type": "code",
   "execution_count": null,
   "id": "8313b2e0",
   "metadata": {},
   "outputs": [],
   "source": [
    "ot_obs_2g, normalized_2g_qs"
   ]
  },
  {
   "cell_type": "code",
   "execution_count": null,
   "id": "4bcc6f80",
   "metadata": {},
   "outputs": [],
   "source": [
    "actions_to_plot = [0, 1]\n",
    "action_mapping = ['left', 'right', 'collect']\n",
    "actions_to_color = [\"orange\", \"blue\"]\n",
    "\n",
    "fig = plt.figure(figsize=(8, 6), dpi=80)\n",
    "\n",
    "ax = fig.add_subplot(projection='3d')\n",
    "ax.view_init(32, 195)\n",
    "\n",
    "ax.set_xlim(-0.1, 0.9)\n",
    "ax.set_ylim(-0.1, 0.9)\n",
    "ax.set_zlim(0.8, 1.4)\n",
    "\n",
    "\n",
    "ax.set_xlabel(\"R1 obs\")\n",
    "ax.set_ylabel(\"R2 obs\")\n",
    "ax.set_zlabel(f\"Q\")\n",
    "\n",
    "for action in actions_to_plot:\n",
    "    z = all_zero_2_qs[:, action]\n",
    "    ax.scatter(0, 0, z, cmap='viridis', linewidth=0.5, label=action_mapping[action])\n",
    "\n",
    "plt.legend(bbox_to_anchor=(1.00, 1), loc='upper left', title='action')\n",
    "ax.set_title(\"Q-values of Lobster environment at node 0 (normal obs)\")"
   ]
  },
  {
   "cell_type": "code",
   "execution_count": null,
   "id": "c608df07",
   "metadata": {},
   "outputs": [],
   "source": []
  },
  {
   "cell_type": "code",
   "execution_count": null,
   "id": "9db2be59",
   "metadata": {},
   "outputs": [],
   "source": [
    "# plotting trajectories\n",
    "results_fname = Path(ROOT_DIR, \"results\", \"lobster_data.npy\")\n",
    "loaded = load_info(results_fname)"
   ]
  },
  {
   "cell_type": "code",
   "execution_count": null,
   "id": "8153423e",
   "metadata": {},
   "outputs": [],
   "source": [
    "# obs_res = loaded['2']\n",
    "# unc_res = loaded['2o']\n",
    "pb_res = loaded['2pb']"
   ]
  },
  {
   "cell_type": "code",
   "execution_count": null,
   "id": "107adafb",
   "metadata": {},
   "outputs": [],
   "source": [
    "pb_obs = pb_res['obs']\n",
    "flat_pb = pb_obs.reshape(-1, pb_obs.shape[-1])\n",
    "unique_pb = np.unique(flat_pb, axis=0)"
   ]
  },
  {
   "cell_type": "code",
   "execution_count": null,
   "id": "b23ea29b",
   "metadata": {},
   "outputs": [],
   "source": [
    "unique_0_pb = np.unique(unique_pb[:, :4], axis=0)"
   ]
  },
  {
   "cell_type": "code",
   "execution_count": null,
   "id": "d06bbebe",
   "metadata": {},
   "outputs": [],
   "source": [
    "bins = np.linspace(0, 1, 30)\n",
    "state = 0\n",
    "fig, ax = plt.figure(), plt.axes()\n",
    "\n",
    "ax.hist(flat_pb[:, state], bins=bins, color='blue', label=state, alpha=0.75, edgecolor='black', linewidth=1)\n",
    "\n",
    "ax.set_xlabel('AUC over 50K steps')\n",
    "ax.set_ylabel(f\"Frequency\", rotation=0, labelpad=35)\n",
    "plt.legend(bbox_to_anchor=(1.00, 1), loc='upper left')"
   ]
  },
  {
   "cell_type": "code",
   "execution_count": null,
   "id": "26fcb7a2",
   "metadata": {},
   "outputs": [],
   "source": [
    "# reduced_unc_obses = get_distilled_obs(unc_res['obs'][0])\n",
    "unc_obs = unc_res['obs']\n",
    "at_zero_unc = unc_obs[:, :, 0] == 1\n",
    "\n",
    "r1_ot_unc = unc_obs[:, :, 3]\n",
    "r2_ot_unc = unc_obs[:, :, 6]\n",
    "print(f\"r1_ot min: {r1_ot_unc[at_zero_unc].min()}, r1_ot max: {r1_ot_unc[at_zero_unc].max()}\")\n",
    "print(f\"r2_ot min: {r2_ot_unc[at_zero_unc].min()}, r2_ot max: {r2_ot_unc[at_zero_unc].max()}\")\n",
    "\n",
    "obs_obs = obs_res['obs']\n",
    "at_zero_obs = obs_obs[:, :, 0] == 1\n",
    "\n",
    "r1_ot_obs = obs_obs[:, :, 3]\n",
    "r2_ot_obs = obs_obs[:, :, 6]\n",
    "print(f\"r1_ot_unc min: {r1_ot_obs[at_zero_obs].min()}, r1_ot_unc max: {r1_ot_obs[at_zero_obs].max()}\")\n",
    "print(f\"r2_ot_unc min: {r2_ot_obs[at_zero_obs].min()}, r2_ot_unc max: {r2_ot_obs[at_zero_obs].max()}\")"
   ]
  },
  {
   "cell_type": "code",
   "execution_count": null,
   "id": "4b3caa09",
   "metadata": {},
   "outputs": [],
   "source": [
    "\n",
    "\n",
    "def get_distilled_obs(traj):\n",
    "    # first we get position\n",
    "    pos_one_hot = traj[:, :3]\n",
    "    pos_traj = np.nonzero(pos_one_hot)[-1]\n",
    "    ot1 = traj[:, 3]\n",
    "    ot2 = traj[:, 6]\n",
    "    reduced_obses = np.stack([pos_traj, ot1, ot2], axis=-1)\n",
    "    return reduced_obses"
   ]
  },
  {
   "cell_type": "code",
   "execution_count": null,
   "id": "06d00717",
   "metadata": {},
   "outputs": [],
   "source": [
    "# reduced_unc_obses = get_distilled_obs(unc_res['obs'][0])\n",
    "traj_obs = obs_res['obs'][0]\n",
    "\n",
    "reduced_obs_obs = get_distilled_obs(traj_obs)\n"
   ]
  },
  {
   "cell_type": "code",
   "execution_count": null,
   "id": "9cefd835",
   "metadata": {},
   "outputs": [],
   "source": [
    "\n",
    "fig = plt.figure(figsize=(8, 6), dpi=80)\n",
    "colors = (z/x.shape[0])[None, :]\n",
    "\n",
    "\n",
    "ax = fig.add_subplot(projection='3d')\n",
    "for i in range(1):\n",
    "    x = r1_ot_obs[i]\n",
    "    y = r2_ot_obs[i]\n",
    "    z = np.arange(x.shape[0])\n",
    "#     x = reduced_obs_obs[:, 1]\n",
    "#     y = reduced_obs_obs[:, 2]\n",
    "#     z = reduced_obs_obs[:, 0]\n",
    "\n",
    "    ax.scatter(x, y, z, c=z, cmap='viridis')\n",
    "    ax.plot3D(x, y, z, color=\"black\", linewidth=0.5)\n",
    "\n",
    "\n",
    "ax.set_xlabel(\"R1 obs\")\n",
    "ax.set_ylabel(\"R2 obs\")\n",
    "ax.set_zlabel(f\"time step\")\n",
    "\n",
    "plt.legend(bbox_to_anchor=(1.00, 1), loc='upper left', title='action')\n",
    "ax.set_title(\"Q-values of Lobster environment at node 0 (uncertainty obs)\")"
   ]
  },
  {
   "cell_type": "code",
   "execution_count": null,
   "id": "8d7b827c",
   "metadata": {},
   "outputs": [],
   "source": [
    "traj_unc = unc_res['obs'][0]\n",
    "\n",
    "reduced_obs_unc = get_distilled_obs(traj_unc)"
   ]
  },
  {
   "cell_type": "code",
   "execution_count": null,
   "id": "a7342e67",
   "metadata": {},
   "outputs": [],
   "source": [
    "\n",
    "fig = plt.figure(figsize=(8, 6), dpi=80)\n",
    "colors = (z/x.shape[0])[None, :]\n",
    "\n",
    "\n",
    "ax = fig.add_subplot(projection='3d')\n",
    "for i in range(1):\n",
    "    x = r1_ot_unc[i]\n",
    "    y = r2_ot_unc[i]\n",
    "    z = np.arange(x.shape[0])\n",
    "#     x = reduced_obs_unc[:, 1]\n",
    "#     y = reduced_obs_unc[:, 2]\n",
    "#     z = reduced_obs_unc[:, 0]\n",
    "\n",
    "    ax.scatter(x, y, z, c=z, cmap='viridis')\n",
    "    ax.plot3D(x, y, z, color=\"black\", linewidth=0.5)\n",
    "\n",
    "\n",
    "ax.set_xlabel(\"R1 obs\")\n",
    "ax.set_ylabel(\"R2 obs\")\n",
    "ax.set_zlabel(f\"time step\")\n",
    "\n",
    "plt.legend(bbox_to_anchor=(1.00, 1), loc='upper left', title='action')\n",
    "ax.set_title(\"Q-values of Lobster environment at node 0 (uncertainty obs)\")"
   ]
  }
 ],
 "metadata": {
  "kernelspec": {
   "display_name": "Python 3 (ipykernel)",
   "language": "python",
   "name": "python3"
  },
  "language_info": {
   "codemirror_mode": {
    "name": "ipython",
    "version": 3
   },
   "file_extension": ".py",
   "mimetype": "text/x-python",
   "name": "python",
   "nbconvert_exporter": "python",
   "pygments_lexer": "ipython3",
   "version": "3.9.6"
  }
 },
 "nbformat": 4,
 "nbformat_minor": 5
}
