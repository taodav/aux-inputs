{
 "cells": [
  {
   "cell_type": "code",
   "execution_count": 1,
   "id": "a50ae8ab",
   "metadata": {},
   "outputs": [],
   "source": [
    "import numpy as np\n",
    "import matplotlib.pyplot as plt\n",
    "from pathlib import Path\n",
    "\n",
    "from definitions import ROOT_DIR\n",
    "from unc.utils import load_info"
   ]
  },
  {
   "cell_type": "code",
   "execution_count": 62,
   "id": "d1f35ee5",
   "metadata": {},
   "outputs": [],
   "source": [
    "sr_path = Path(ROOT_DIR, 'results', 'sr')\n",
    "r_path = Path(ROOT_DIR, 'results', 'r')\n",
    "pr_path = Path(ROOT_DIR, 'results', 'pr')\n",
    "split_pr_by = [\"update_weight_interval\"]\n",
    "pr_colors = ['dimgray', 'darkgray', 'lightgray']\n",
    "\n",
    "def moving_avg(x, mode='valid', w=100):\n",
    "    return np.convolve(x, np.ones(w), mode=mode) / w"
   ]
  },
  {
   "cell_type": "code",
   "execution_count": 51,
   "id": "84d0ed03",
   "metadata": {},
   "outputs": [
    {
     "data": {
      "text/plain": [
       "{'results_fname': '596d698c647b7d48c7da9f2a02831887_Thu Jul 15 09:46:47 2021.npy',\n",
       " 'total_steps': 20000,\n",
       " 'random_start': True,\n",
       " 'results_dir': PosixPath('/scratch/taodav/uncertainty/results/sr'),\n",
       " 'env': 'sr',\n",
       " 'seed': 2020,\n",
       " 'device': device(type='cpu'),\n",
       " 'step_size': 0.0001,\n",
       " 'epsilon': 0.1,\n",
       " 'log_dir': PosixPath('/scratch/taodav/uncertainty/log/sr'),\n",
       " 'n_hidden': 100,\n",
       " 'update_weight_interval': 1,\n",
       " 'max_episode_steps': 1000,\n",
       " 'discounting': 0.9,\n",
       " 'blur_prob': 0.3}"
      ]
     },
     "execution_count": 51,
     "metadata": {},
     "output_type": "execute_result"
    }
   ],
   "source": [
    "load_info([p for p in sr_path.iterdir()][0])['args'].item()"
   ]
  },
  {
   "cell_type": "code",
   "execution_count": 55,
   "id": "8523b99a",
   "metadata": {},
   "outputs": [],
   "source": [
    "def process_dir(dir_path, key=\"reward\", w=100, trunc=20000, split_by=None):\n",
    "    if split_by is not None:\n",
    "        all_results = {}\n",
    "    else:\n",
    "        all_results = []\n",
    "        \n",
    "    for f in dir_path.iterdir():\n",
    "        info = load_info(f)\n",
    "        args = info['args'].item()\n",
    "        \n",
    "        if split_by is not None:\n",
    "            hparams = tuple(args[s] for s in split_by)\n",
    "            split_by_tuple = tuple(split_by)\n",
    "            if split_by_tuple not in all_results:\n",
    "                all_results[split_by_tuple] = {}\n",
    "            \n",
    "            if hparams not in all_results[split_by_tuple]:\n",
    "                all_results[split_by_tuple][hparams] = []\n",
    "                \n",
    "            result = moving_avg(info[key][:trunc], w=w)\n",
    "            all_results[split_by_tuple][hparams].append(result)\n",
    "            \n",
    "        else:\n",
    "            result = moving_avg(info[key][:trunc], w=w)\n",
    "            all_results.append(result)\n",
    "    if split_by is not None:\n",
    "        for k, v in all_results.items():\n",
    "            for k1, v1 in v.items():\n",
    "                all_results[k][k1] = np.array(all_results[k][k1])\n",
    "        data = all_results\n",
    "    else:\n",
    "        data = np.array(all_results)\n",
    "\n",
    "    \n",
    "    return data\n"
   ]
  },
  {
   "cell_type": "code",
   "execution_count": 56,
   "id": "de5c6a09",
   "metadata": {},
   "outputs": [],
   "source": [
    "w = 100\n",
    "sr_data = process_dir(sr_path, w=w)\n",
    "r_data = process_dir(r_path, w=w)\n",
    "pr_data = process_dir(pr_path, w=w, split_by=split_pr_by)"
   ]
  },
  {
   "cell_type": "code",
   "execution_count": 61,
   "id": "b1270406",
   "metadata": {},
   "outputs": [],
   "source": [
    "pr_uwi_data = pr_data[('update_weight_interval',)]"
   ]
  },
  {
   "cell_type": "code",
   "execution_count": 73,
   "id": "7a5c4469",
   "metadata": {},
   "outputs": [],
   "source": [
    "all_data = [('State + obs', sr_data, 'blue'), ('Obs only', r_data, 'orange')] \n",
    "#             *[(f\"PF + obs (update every {k[0]})\", d, pr_colors[i]) for i, (k, d) in enumerate(pr_uwi_data.items())]]\n",
    "# all_data = [(f\"PF + obs (update every {k[0]})\", d, pr_colors[i]) for i, (k, d) in enumerate(pr_uwi_data.items())]"
   ]
  },
  {
   "cell_type": "code",
   "execution_count": 74,
   "id": "0abdf809",
   "metadata": {},
   "outputs": [
    {
     "data": {
      "text/plain": [
       "[('State + obs',\n",
       "  array([[0.  , 0.  , 0.  , ..., 0.14, 0.14, 0.14],\n",
       "         [0.  , 0.  , 0.  , ..., 0.07, 0.07, 0.07],\n",
       "         [0.  , 0.  , 0.  , ..., 0.11, 0.1 , 0.1 ],\n",
       "         ...,\n",
       "         [0.  , 0.  , 0.  , ..., 0.03, 0.03, 0.03],\n",
       "         [0.  , 0.  , 0.  , ..., 0.12, 0.12, 0.12],\n",
       "         [0.  , 0.  , 0.  , ..., 0.06, 0.06, 0.06]]),\n",
       "  'blue'),\n",
       " ('Obs only',\n",
       "  array([[0.  , 0.  , 0.  , ..., 0.05, 0.05, 0.05],\n",
       "         [0.  , 0.  , 0.  , ..., 0.06, 0.06, 0.06],\n",
       "         [0.02, 0.02, 0.02, ..., 0.04, 0.03, 0.03],\n",
       "         ...,\n",
       "         [0.01, 0.01, 0.01, ..., 0.05, 0.05, 0.05],\n",
       "         [0.01, 0.01, 0.01, ..., 0.04, 0.04, 0.04],\n",
       "         [0.01, 0.01, 0.  , ..., 0.06, 0.06, 0.06]]),\n",
       "  'orange')]"
      ]
     },
     "execution_count": 74,
     "metadata": {},
     "output_type": "execute_result"
    }
   ],
   "source": [
    "all_data"
   ]
  },
  {
   "cell_type": "code",
   "execution_count": null,
   "id": "b66f76ee",
   "metadata": {},
   "outputs": [],
   "source": []
  },
  {
   "cell_type": "code",
   "execution_count": 72,
   "id": "9d0cb1fa",
   "metadata": {},
   "outputs": [
    {
     "data": {
      "text/plain": [
       "<matplotlib.legend.Legend at 0x7f0d88900850>"
      ]
     },
     "execution_count": 72,
     "metadata": {},
     "output_type": "execute_result"
    },
    {
     "data": {
      "image/png": "[encoded data removed]",
      "text/plain": [
       "<Figure size 432x288 with 1 Axes>"
      ]
     },
     "metadata": {
      "needs_background": "light"
     },
     "output_type": "display_data"
    }
   ],
   "source": [
    "x = np.arange(sr_data.shape[1])\n",
    "fig, ax = plt.figure(), plt.axes()\n",
    "\n",
    "\n",
    "for key, data, color in all_data:\n",
    "    means = data.mean(axis=0)\n",
    "    std_err = data.std(axis=0) / data.shape[0]\n",
    "\n",
    "    ax.plot(x, means, label=key, color=color)\n",
    "    plt.fill_between(x, means - std_err, means + std_err,\n",
    "                         color=color, alpha=0.2)\n",
    "\n",
    "ax.set_xlabel('Environment steps')\n",
    "ax.set_ylabel(f\"Avg reward over a {w} window\", rotation=0, labelpad=90)\n",
    "ax.set_title('Episodes elapsed over episode length')\n",
    "plt.legend()"
   ]
  },
  {
   "cell_type": "code",
   "execution_count": 41,
   "id": "f24f53ab",
   "metadata": {},
   "outputs": [
    {
     "data": {
      "text/plain": [
       "array([0.00039189, 0.00039189, 0.00039205, ..., 0.00076731, 0.00074998,\n",
       "       0.00075882])"
      ]
     },
     "execution_count": 41,
     "metadata": {},
     "output_type": "execute_result"
    }
   ],
   "source": [
    "std_err"
   ]
  },
  {
   "cell_type": "code",
   "execution_count": null,
   "id": "6230333e",
   "metadata": {},
   "outputs": [],
   "source": []
  }
 ],
 "metadata": {
  "kernelspec": {
   "display_name": "Python 3 (ipykernel)",
   "language": "python",
   "name": "python3"
  },
  "language_info": {
   "codemirror_mode": {
    "name": "ipython",
    "version": 3
   },
   "file_extension": ".py",
   "mimetype": "text/x-python",
   "name": "python",
   "nbconvert_exporter": "python",
   "pygments_lexer": "ipython3",
   "version": "3.8.10"
  }
 },
 "nbformat": 4,
 "nbformat_minor": 5
}
