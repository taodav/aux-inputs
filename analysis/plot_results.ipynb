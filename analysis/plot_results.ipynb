{
 "cells": [
  {
   "cell_type": "code",
   "execution_count": 68,
   "id": "a50ae8ab",
   "metadata": {},
   "outputs": [],
   "source": [
    "import numpy as np\n",
    "import matplotlib.pyplot as plt\n",
    "from pathlib import Path\n",
    "\n",
    "from definitions import ROOT_DIR\n",
    "from unc.utils import load_info"
   ]
  },
  {
   "cell_type": "code",
   "execution_count": 69,
   "id": "d1f35ee5",
   "metadata": {},
   "outputs": [],
   "source": [
    "sr_path = Path(ROOT_DIR, 'results', 'sr')\n",
    "r_path = Path(ROOT_DIR, 'results', 'r')\n",
    "pr_path = Path(ROOT_DIR, 'results', 'pr')\n",
    "pmr_path = Path(ROOT_DIR, 'results', 'pmr')\n",
    "split_pr_by = [\"update_weight_interval\"]\n",
    "pr_colors = [ 'lightseagreen', 'lime', 'limegreen', 'forestgreen', 'darkgreen', 'darkolivegreen', ]\n",
    "pmr_colors = ['lightcoral', 'indianred', 'brown', 'maroon']\n",
    "\n",
    "\n",
    "def moving_avg(x, mode='valid', w=100):\n",
    "    return np.convolve(x, np.ones(w), mode=mode) / w"
   ]
  },
  {
   "cell_type": "code",
   "execution_count": 41,
   "id": "84d0ed03",
   "metadata": {},
   "outputs": [],
   "source": [
    "\n"
   ]
  },
  {
   "cell_type": "code",
   "execution_count": null,
   "id": "d5e380e7",
   "metadata": {},
   "outputs": [],
   "source": []
  },
  {
   "cell_type": "code",
   "execution_count": 70,
   "id": "8523b99a",
   "metadata": {},
   "outputs": [],
   "source": [
    "def process_dir(dir_path, key=\"reward\", w=100, trunc=60000, split_by=None):\n",
    "    if split_by is not None:\n",
    "        all_results = {}\n",
    "    else:\n",
    "        all_results = []\n",
    "        \n",
    "    for f in dir_path.iterdir():\n",
    "        info = load_info(f)\n",
    "        args = info['args'].item()\n",
    "        \n",
    "        if split_by is not None:\n",
    "            hparams = tuple(args[s] for s in split_by)\n",
    "            split_by_tuple = tuple(split_by)\n",
    "            if split_by_tuple not in all_results:\n",
    "                all_results[split_by_tuple] = {}\n",
    "            \n",
    "            if hparams not in all_results[split_by_tuple]:\n",
    "                all_results[split_by_tuple][hparams] = []\n",
    "                \n",
    "            if trunc > info[key].shape[0]:\n",
    "                print(args)\n",
    "                print(f\"length of misbehaving data: {info[key].shape}\")\n",
    "                \n",
    "            result = moving_avg(info[key][:trunc], w=w)\n",
    "            all_results[split_by_tuple][hparams].append(result)\n",
    "            \n",
    "        else:\n",
    "            result = moving_avg(info[key][:trunc], w=w)\n",
    "            all_results.append(result)\n",
    "    if split_by is not None:\n",
    "        for k, v in all_results.items():\n",
    "            for k1, v1 in v.items():\n",
    "                all_results[k][k1] = np.array(all_results[k][k1])\n",
    "        data = all_results\n",
    "    else:\n",
    "        data = np.array(all_results)\n",
    "\n",
    "    \n",
    "    return data\n"
   ]
  },
  {
   "cell_type": "code",
   "execution_count": 44,
   "id": "de5c6a09",
   "metadata": {},
   "outputs": [],
   "source": [
    "w = 100\n",
    "sr_data = process_dir(sr_path, w=w)\n",
    "r_data = process_dir(r_path, w=w)\n",
    "pr_data = process_dir(pr_path, w=w, split_by=split_pr_by)\n",
    "pmr_data = process_dir(pmr_path, w=w, split_by=split_pr_by)"
   ]
  },
  {
   "cell_type": "code",
   "execution_count": 45,
   "id": "b1270406",
   "metadata": {},
   "outputs": [],
   "source": [
    "pr_uwi_data = sorted(pr_data[('update_weight_interval',)].items(), key=lambda k: k[0][0])\n",
    "pmr_uwi_data = sorted(pmr_data[('update_weight_interval',)].items(), key=lambda k: k[0][0])"
   ]
  },
  {
   "cell_type": "code",
   "execution_count": 64,
   "id": "7a5c4469",
   "metadata": {},
   "outputs": [],
   "source": [
    "# all_data = [('State + obs', sr_data, 'blue'), ('Obs only', r_data, 'orange'),\n",
    "#             *[(f\"PF + obs (n = {k[0]})\", d, pr_colors[i]) for i, (k, d) in enumerate(pr_uwi_data)],\n",
    "#             *[(f\"PF mean + obs (n = {k[0]})\", d, pmr_colors[i]) for i, (k, d) in enumerate(pmr_uwi_data[:1])]\n",
    "#            ]\n",
    "all_data = [(f\"PF + obs (n = {k[0]})\", d, pr_colors[i]) for i, (k, d) in enumerate(pr_uwi_data)]"
   ]
  },
  {
   "cell_type": "code",
   "execution_count": 47,
   "id": "0abdf809",
   "metadata": {},
   "outputs": [],
   "source": [
    "normal_len = sr_data[0].shape[0]\n",
    "for i, d in enumerate(sr_data):\n",
    "    if d.shape[0] != normal_len:\n",
    "        print(i, d.shape)"
   ]
  },
  {
   "cell_type": "code",
   "execution_count": 48,
   "id": "b66f76ee",
   "metadata": {},
   "outputs": [
    {
     "data": {
      "text/plain": [
       "[((1,),\n",
       "  array([[0.  , 0.  , 0.  , ..., 0.06, 0.06, 0.06],\n",
       "         [0.  , 0.  , 0.  , ..., 0.07, 0.07, 0.07],\n",
       "         [0.  , 0.  , 0.  , ..., 0.08, 0.08, 0.07],\n",
       "         ...,\n",
       "         [0.  , 0.  , 0.  , ..., 0.09, 0.09, 0.09],\n",
       "         [0.  , 0.  , 0.  , ..., 0.1 , 0.1 , 0.1 ],\n",
       "         [0.  , 0.  , 0.  , ..., 0.11, 0.11, 0.11]])),\n",
       " ((2,),\n",
       "  array([[0.  , 0.  , 0.  , ..., 0.09, 0.09, 0.09],\n",
       "         [0.  , 0.  , 0.  , ..., 0.06, 0.06, 0.06],\n",
       "         [0.  , 0.  , 0.  , ..., 0.08, 0.07, 0.07],\n",
       "         ...,\n",
       "         [0.01, 0.01, 0.01, ..., 0.1 , 0.1 , 0.1 ],\n",
       "         [0.01, 0.01, 0.01, ..., 0.11, 0.11, 0.11],\n",
       "         [0.  , 0.  , 0.  , ..., 0.07, 0.07, 0.08]])),\n",
       " ((5,),\n",
       "  array([[0.01, 0.01, 0.01, ..., 0.05, 0.05, 0.05],\n",
       "         [0.  , 0.  , 0.  , ..., 0.05, 0.05, 0.05],\n",
       "         [0.  , 0.  , 0.  , ..., 0.06, 0.06, 0.06],\n",
       "         ...,\n",
       "         [0.  , 0.  , 0.  , ..., 0.08, 0.07, 0.07],\n",
       "         [0.  , 0.  , 0.  , ..., 0.06, 0.06, 0.05],\n",
       "         [0.  , 0.  , 0.  , ..., 0.07, 0.07, 0.07]])),\n",
       " ((10,),\n",
       "  array([[0.  , 0.  , 0.  , ..., 0.09, 0.09, 0.09],\n",
       "         [0.  , 0.  , 0.  , ..., 0.05, 0.05, 0.05],\n",
       "         [0.  , 0.  , 0.  , ..., 0.11, 0.11, 0.11],\n",
       "         ...,\n",
       "         [0.  , 0.  , 0.  , ..., 0.07, 0.07, 0.07],\n",
       "         [0.  , 0.  , 0.  , ..., 0.06, 0.06, 0.06],\n",
       "         [0.  , 0.  , 0.  , ..., 0.07, 0.07, 0.06]])),\n",
       " ((20,),\n",
       "  array([[0.  , 0.  , 0.  , ..., 0.05, 0.05, 0.05],\n",
       "         [0.  , 0.  , 0.  , ..., 0.07, 0.07, 0.07],\n",
       "         [0.  , 0.  , 0.  , ..., 0.06, 0.06, 0.06],\n",
       "         ...,\n",
       "         [0.  , 0.  , 0.  , ..., 0.04, 0.04, 0.04],\n",
       "         [0.  , 0.  , 0.  , ..., 0.05, 0.04, 0.04],\n",
       "         [0.  , 0.  , 0.  , ..., 0.07, 0.07, 0.07]])),\n",
       " ((50,),\n",
       "  array([[0.  , 0.  , 0.  , ..., 0.08, 0.08, 0.08],\n",
       "         [0.01, 0.01, 0.01, ..., 0.08, 0.09, 0.08],\n",
       "         [0.  , 0.  , 0.  , ..., 0.09, 0.09, 0.09],\n",
       "         ...,\n",
       "         [0.  , 0.  , 0.  , ..., 0.05, 0.06, 0.06],\n",
       "         [0.  , 0.  , 0.  , ..., 0.04, 0.04, 0.04],\n",
       "         [0.02, 0.02, 0.02, ..., 0.06, 0.06, 0.06]]))]"
      ]
     },
     "execution_count": 48,
     "metadata": {},
     "output_type": "execute_result"
    }
   ],
   "source": [
    "pr_uwi_data"
   ]
  },
  {
   "cell_type": "code",
   "execution_count": 65,
   "id": "9d0cb1fa",
   "metadata": {},
   "outputs": [
    {
     "data": {
      "text/plain": [
       "<matplotlib.legend.Legend at 0x7f2b63d086a0>"
      ]
     },
     "execution_count": 65,
     "metadata": {},
     "output_type": "execute_result"
    },
    {
     "data": {
      "image/png": "[encoded data removed]",
      "text/plain": [
       "<Figure size 432x288 with 1 Axes>"
      ]
     },
     "metadata": {
      "needs_background": "light"
     },
     "output_type": "display_data"
    }
   ],
   "source": [
    "x = np.arange(sr_data.shape[1])\n",
    "fig, ax = plt.figure(), plt.axes()\n",
    "\n",
    "\n",
    "for key, data, color in all_data:\n",
    "    means = data.mean(axis=0)\n",
    "    std_err = data.std(axis=0) / data.shape[0]\n",
    "\n",
    "    ax.plot(x, means, label=key, color=color)\n",
    "    plt.fill_between(x, means - std_err, means + std_err,\n",
    "                         color=color, alpha=0.2)\n",
    "\n",
    "ax.set_xlabel('Environment steps')\n",
    "ax.set_ylabel(f\"Avg reward over \\n a {w} step window\", rotation=0, labelpad=55)\n",
    "ax.set_title('Episodes elapsed over episode length')\n",
    "plt.legend(bbox_to_anchor=(1.00, 1), loc='upper left')\n"
   ]
  },
  {
   "cell_type": "code",
   "execution_count": 81,
   "id": "f24f53ab",
   "metadata": {},
   "outputs": [],
   "source": [
    "all_vars = []\n",
    "trunc = 60000\n",
    "\n",
    "for info_path in pr_path.iterdir():\n",
    "    pr_info = load_info(info_path)\n",
    "    args = pr_info['args'].item()\n",
    "    \n",
    "    if args['update_weight_interval'] == 1:\n",
    "        single_particle_times = []\n",
    "        all_ending_vars = []\n",
    "        all_run_vars = []\n",
    "        for ep, (m_ep, v_ep) in enumerate(zip(pr_info['pf_episodic_mean'][:trunc], pr_info['pf_episodic_var'][:trunc])):\n",
    "            for step, (m, v) in enumerate(zip(m_ep, v_ep)):\n",
    "                all_run_vars.append(v.sum())\n",
    "                if np.isclose(v.sum(), 0):\n",
    "                    single_particle_times.append((ep, step))\n",
    "                    break\n",
    "\n",
    "            all_ending_vars.append((ep, step, v.sum()))\n",
    "        all_vars.append(np.array(all_run_vars))"
   ]
  },
  {
   "cell_type": "code",
   "execution_count": 82,
   "id": "6230333e",
   "metadata": {},
   "outputs": [
    {
     "name": "stderr",
     "output_type": "stream",
     "text": [
      "/tmp/ipykernel_3045/3233260353.py:1: VisibleDeprecationWarning: Creating an ndarray from ragged nested sequences (which is a list-or-tuple of lists-or-tuples-or ndarrays with different lengths or shapes) is deprecated. If you meant to do this, you must specify 'dtype=object' when creating the ndarray.\n",
      "  variances = np.array(all_vars)\n"
     ]
    }
   ],
   "source": [
    "variances = np.array(all_vars)"
   ]
  },
  {
   "cell_type": "code",
   "execution_count": 91,
   "id": "50b7518a",
   "metadata": {},
   "outputs": [
    {
     "data": {
      "text/plain": [
       "((41665,), 4186)"
      ]
     },
     "execution_count": 91,
     "metadata": {},
     "output_type": "execute_result"
    }
   ],
   "source": [
    "variances[-1].shape, len(all_ending_vars)"
   ]
  }
 ],
 "metadata": {
  "kernelspec": {
   "display_name": "Python 3 (ipykernel)",
   "language": "python",
   "name": "python3"
  },
  "language_info": {
   "codemirror_mode": {
    "name": "ipython",
    "version": 3
   },
   "file_extension": ".py",
   "mimetype": "text/x-python",
   "name": "python",
   "nbconvert_exporter": "python",
   "pygments_lexer": "ipython3",
   "version": "3.8.10"
  }
 },
 "nbformat": 4,
 "nbformat_minor": 5
}
